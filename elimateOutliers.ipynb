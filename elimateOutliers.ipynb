{
 "cells": [
  {
   "cell_type": "code",
   "execution_count": 99,
   "metadata": {},
   "outputs": [],
   "source": [
    "import pandas as pd\n",
    "import numpy as np\n",
    "import seaborn as sns \n",
    "import matplotlib.pyplot as plt\n",
    "from scipy import stats\n",
    "from sqlalchemy import create_engine\n",
    "import warnings\n",
    "\n",
    "warnings.filterwarnings('ignore')"
   ]
  },
  {
   "cell_type": "code",
   "execution_count": 100,
   "metadata": {},
   "outputs": [],
   "source": [
    "postgres_user = 'dsbc_student'\n",
    "postgres_pw = '7*.8G9QH21'\n",
    "postgres_host = '142.93.121.174'\n",
    "postgres_port = '5432'\n",
    "postgres_db = 'useducation'\n",
    "\n",
    "engine = create_engine('postgresql://{}:{}@{}:{}/{}'.format(\n",
    "    postgres_user, postgres_pw, postgres_host, postgres_port, postgres_db))\n",
    "\n",
    "usEducation = pd.read_sql_query('select * from useducation',con=engine)\n",
    "engine.dispose()\n",
    "\n",
    "usEducation.columns = usEducation.columns.str.lower()"
   ]
  },
  {
   "cell_type": "code",
   "execution_count": 101,
   "metadata": {},
   "outputs": [
    {
     "name": "stdout",
     "output_type": "stream",
     "text": [
      "<class 'pandas.core.frame.DataFrame'>\n",
      "RangeIndex: 1492 entries, 0 to 1491\n",
      "Data columns (total 25 columns):\n",
      "primary_key                     1492 non-null object\n",
      "state                           1492 non-null object\n",
      "year                            1492 non-null int64\n",
      "enroll                          1229 non-null float64\n",
      "total_revenue                   1280 non-null float64\n",
      "federal_revenue                 1280 non-null float64\n",
      "state_revenue                   1280 non-null float64\n",
      "local_revenue                   1280 non-null float64\n",
      "total_expenditure               1280 non-null float64\n",
      "instruction_expenditure         1280 non-null float64\n",
      "support_services_expenditure    1280 non-null float64\n",
      "other_expenditure               1229 non-null float64\n",
      "capital_outlay_expenditure      1280 non-null float64\n",
      "grades_pk_g                     1319 non-null float64\n",
      "grades_kg_g                     1360 non-null float64\n",
      "grades_4_g                      1361 non-null float64\n",
      "grades_8_g                      1361 non-null float64\n",
      "grades_12_g                     1361 non-null float64\n",
      "grades_1_8_g                    1361 non-null float64\n",
      "grades_9_12_g                   1361 non-null float64\n",
      "grades_all_g                    1319 non-null float64\n",
      "avg_math_4_score                536 non-null float64\n",
      "avg_math_8_score                532 non-null float64\n",
      "avg_reading_4_score             533 non-null float64\n",
      "avg_reading_8_score             498 non-null float64\n",
      "dtypes: float64(22), int64(1), object(2)\n",
      "memory usage: 291.5+ KB\n"
     ]
    }
   ],
   "source": [
    "usEducation.info()"
   ]
  },
  {
   "cell_type": "code",
   "execution_count": 102,
   "metadata": {},
   "outputs": [],
   "source": [
    "fill_list = [\"enroll\", \"total_revenue\", \"federal_revenue\", \n",
    "             \"state_revenue\", \"federal_revenue\", \"total_expenditure\", \n",
    "             \"instruction_expenditure\", \"support_services_expenditure\",\n",
    "             \"other_expenditure\", \"capital_outlay_expenditure\", \"grades_pk_g\", \n",
    "             \"grades_kg_g\", \"grades_4_g\", \"grades_8_g\", \"grades_12_g\", \"grades_all_g\", \n",
    "             \"avg_math_4_score\", \"avg_math_8_score\",'avg_reading_4_score','avg_reading_4_score','avg_reading_8_score']\n",
    "for col in fill_list:\n",
    "    usEducation.loc[:, col] = usEducation.loc[:, col].fillna(usEducation.loc[:, col].mean())"
   ]
  },
  {
   "cell_type": "code",
   "execution_count": 103,
   "metadata": {},
   "outputs": [
    {
     "data": {
      "text/html": [
       "<div>\n",
       "<style scoped>\n",
       "    .dataframe tbody tr th:only-of-type {\n",
       "        vertical-align: middle;\n",
       "    }\n",
       "\n",
       "    .dataframe tbody tr th {\n",
       "        vertical-align: top;\n",
       "    }\n",
       "\n",
       "    .dataframe thead th {\n",
       "        text-align: right;\n",
       "    }\n",
       "</style>\n",
       "<table border=\"1\" class=\"dataframe\">\n",
       "  <thead>\n",
       "    <tr style=\"text-align: right;\">\n",
       "      <th></th>\n",
       "      <th>primary_key</th>\n",
       "      <th>state</th>\n",
       "      <th>year</th>\n",
       "      <th>enroll</th>\n",
       "      <th>total_revenue</th>\n",
       "      <th>federal_revenue</th>\n",
       "      <th>state_revenue</th>\n",
       "      <th>local_revenue</th>\n",
       "      <th>total_expenditure</th>\n",
       "      <th>instruction_expenditure</th>\n",
       "      <th>...</th>\n",
       "      <th>grades_4_g</th>\n",
       "      <th>grades_8_g</th>\n",
       "      <th>grades_12_g</th>\n",
       "      <th>grades_1_8_g</th>\n",
       "      <th>grades_9_12_g</th>\n",
       "      <th>grades_all_g</th>\n",
       "      <th>avg_math_4_score</th>\n",
       "      <th>avg_math_8_score</th>\n",
       "      <th>avg_reading_4_score</th>\n",
       "      <th>avg_reading_8_score</th>\n",
       "    </tr>\n",
       "  </thead>\n",
       "  <tbody>\n",
       "    <tr>\n",
       "      <th>0</th>\n",
       "      <td>1992_ALABAMA</td>\n",
       "      <td>ALABAMA</td>\n",
       "      <td>1992</td>\n",
       "      <td>915930.820993</td>\n",
       "      <td>2678885.0</td>\n",
       "      <td>304177.0</td>\n",
       "      <td>1659028.0</td>\n",
       "      <td>715680.0</td>\n",
       "      <td>2653798.0</td>\n",
       "      <td>1481703.0</td>\n",
       "      <td>...</td>\n",
       "      <td>57948.0</td>\n",
       "      <td>58025.0</td>\n",
       "      <td>41167.0</td>\n",
       "      <td>471564.0</td>\n",
       "      <td>196386.0</td>\n",
       "      <td>676174.0</td>\n",
       "      <td>208.327876</td>\n",
       "      <td>252.187522</td>\n",
       "      <td>207.963517</td>\n",
       "      <td>263.661132</td>\n",
       "    </tr>\n",
       "    <tr>\n",
       "      <th>1</th>\n",
       "      <td>1992_ALASKA</td>\n",
       "      <td>ALASKA</td>\n",
       "      <td>1992</td>\n",
       "      <td>915930.820993</td>\n",
       "      <td>1049591.0</td>\n",
       "      <td>106780.0</td>\n",
       "      <td>720711.0</td>\n",
       "      <td>222100.0</td>\n",
       "      <td>972488.0</td>\n",
       "      <td>498362.0</td>\n",
       "      <td>...</td>\n",
       "      <td>9748.0</td>\n",
       "      <td>8789.0</td>\n",
       "      <td>6714.0</td>\n",
       "      <td>79117.0</td>\n",
       "      <td>30847.0</td>\n",
       "      <td>112335.0</td>\n",
       "      <td>234.768293</td>\n",
       "      <td>278.414711</td>\n",
       "      <td>218.866154</td>\n",
       "      <td>258.859712</td>\n",
       "    </tr>\n",
       "    <tr>\n",
       "      <th>2</th>\n",
       "      <td>1992_ARIZONA</td>\n",
       "      <td>ARIZONA</td>\n",
       "      <td>1992</td>\n",
       "      <td>915930.820993</td>\n",
       "      <td>3258079.0</td>\n",
       "      <td>297888.0</td>\n",
       "      <td>1369815.0</td>\n",
       "      <td>1590376.0</td>\n",
       "      <td>3401580.0</td>\n",
       "      <td>1435908.0</td>\n",
       "      <td>...</td>\n",
       "      <td>55433.0</td>\n",
       "      <td>49081.0</td>\n",
       "      <td>37410.0</td>\n",
       "      <td>437127.0</td>\n",
       "      <td>175210.0</td>\n",
       "      <td>614881.0</td>\n",
       "      <td>215.253932</td>\n",
       "      <td>265.366278</td>\n",
       "      <td>206.212716</td>\n",
       "      <td>262.169895</td>\n",
       "    </tr>\n",
       "    <tr>\n",
       "      <th>3</th>\n",
       "      <td>1992_ARKANSAS</td>\n",
       "      <td>ARKANSAS</td>\n",
       "      <td>1992</td>\n",
       "      <td>915930.820993</td>\n",
       "      <td>1711959.0</td>\n",
       "      <td>178571.0</td>\n",
       "      <td>958785.0</td>\n",
       "      <td>574603.0</td>\n",
       "      <td>1743022.0</td>\n",
       "      <td>964323.0</td>\n",
       "      <td>...</td>\n",
       "      <td>34632.0</td>\n",
       "      <td>36011.0</td>\n",
       "      <td>27651.0</td>\n",
       "      <td>281338.0</td>\n",
       "      <td>123113.0</td>\n",
       "      <td>405259.0</td>\n",
       "      <td>210.206028</td>\n",
       "      <td>256.312090</td>\n",
       "      <td>208.634458</td>\n",
       "      <td>264.619665</td>\n",
       "    </tr>\n",
       "    <tr>\n",
       "      <th>4</th>\n",
       "      <td>1992_CALIFORNIA</td>\n",
       "      <td>CALIFORNIA</td>\n",
       "      <td>1992</td>\n",
       "      <td>915930.820993</td>\n",
       "      <td>26260025.0</td>\n",
       "      <td>2072470.0</td>\n",
       "      <td>16546514.0</td>\n",
       "      <td>7641041.0</td>\n",
       "      <td>27138832.0</td>\n",
       "      <td>14358922.0</td>\n",
       "      <td>...</td>\n",
       "      <td>418418.0</td>\n",
       "      <td>363296.0</td>\n",
       "      <td>270675.0</td>\n",
       "      <td>3286034.0</td>\n",
       "      <td>1372011.0</td>\n",
       "      <td>4717112.0</td>\n",
       "      <td>208.398961</td>\n",
       "      <td>260.892247</td>\n",
       "      <td>196.764414</td>\n",
       "      <td>263.661132</td>\n",
       "    </tr>\n",
       "  </tbody>\n",
       "</table>\n",
       "<p>5 rows × 25 columns</p>\n",
       "</div>"
      ],
      "text/plain": [
       "       primary_key       state  year         enroll  total_revenue  \\\n",
       "0     1992_ALABAMA     ALABAMA  1992  915930.820993      2678885.0   \n",
       "1      1992_ALASKA      ALASKA  1992  915930.820993      1049591.0   \n",
       "2     1992_ARIZONA     ARIZONA  1992  915930.820993      3258079.0   \n",
       "3    1992_ARKANSAS    ARKANSAS  1992  915930.820993      1711959.0   \n",
       "4  1992_CALIFORNIA  CALIFORNIA  1992  915930.820993     26260025.0   \n",
       "\n",
       "   federal_revenue  state_revenue  local_revenue  total_expenditure  \\\n",
       "0         304177.0      1659028.0       715680.0          2653798.0   \n",
       "1         106780.0       720711.0       222100.0           972488.0   \n",
       "2         297888.0      1369815.0      1590376.0          3401580.0   \n",
       "3         178571.0       958785.0       574603.0          1743022.0   \n",
       "4        2072470.0     16546514.0      7641041.0         27138832.0   \n",
       "\n",
       "   instruction_expenditure  ...  grades_4_g  grades_8_g  grades_12_g  \\\n",
       "0                1481703.0  ...     57948.0     58025.0      41167.0   \n",
       "1                 498362.0  ...      9748.0      8789.0       6714.0   \n",
       "2                1435908.0  ...     55433.0     49081.0      37410.0   \n",
       "3                 964323.0  ...     34632.0     36011.0      27651.0   \n",
       "4               14358922.0  ...    418418.0    363296.0     270675.0   \n",
       "\n",
       "   grades_1_8_g  grades_9_12_g  grades_all_g  avg_math_4_score  \\\n",
       "0      471564.0       196386.0      676174.0        208.327876   \n",
       "1       79117.0        30847.0      112335.0        234.768293   \n",
       "2      437127.0       175210.0      614881.0        215.253932   \n",
       "3      281338.0       123113.0      405259.0        210.206028   \n",
       "4     3286034.0      1372011.0     4717112.0        208.398961   \n",
       "\n",
       "   avg_math_8_score  avg_reading_4_score  avg_reading_8_score  \n",
       "0        252.187522           207.963517           263.661132  \n",
       "1        278.414711           218.866154           258.859712  \n",
       "2        265.366278           206.212716           262.169895  \n",
       "3        256.312090           208.634458           264.619665  \n",
       "4        260.892247           196.764414           263.661132  \n",
       "\n",
       "[5 rows x 25 columns]"
      ]
     },
     "execution_count": 103,
     "metadata": {},
     "output_type": "execute_result"
    }
   ],
   "source": [
    "usEducation.head()"
   ]
  },
  {
   "cell_type": "code",
   "execution_count": 104,
   "metadata": {},
   "outputs": [
    {
     "data": {
      "text/plain": [
       "primary_key                     0.000000\n",
       "state                           0.000000\n",
       "year                            0.000000\n",
       "enroll                          0.000000\n",
       "total_revenue                   0.000000\n",
       "federal_revenue                 0.000000\n",
       "state_revenue                   0.000000\n",
       "local_revenue                   0.142091\n",
       "total_expenditure               0.000000\n",
       "instruction_expenditure         0.000000\n",
       "support_services_expenditure    0.000000\n",
       "other_expenditure               0.000000\n",
       "capital_outlay_expenditure      0.000000\n",
       "grades_pk_g                     0.000000\n",
       "grades_kg_g                     0.000000\n",
       "grades_4_g                      0.000000\n",
       "grades_8_g                      0.000000\n",
       "grades_12_g                     0.000000\n",
       "grades_1_8_g                    0.087802\n",
       "grades_9_12_g                   0.087802\n",
       "grades_all_g                    0.000000\n",
       "avg_math_4_score                0.000000\n",
       "avg_math_8_score                0.000000\n",
       "avg_reading_4_score             0.000000\n",
       "avg_reading_8_score             0.000000\n",
       "dtype: float64"
      ]
     },
     "execution_count": 104,
     "metadata": {},
     "output_type": "execute_result"
    }
   ],
   "source": [
    "usEducation.isnull().sum()/usEducation.isnull().count()"
   ]
  },
  {
   "cell_type": "markdown",
   "metadata": {},
   "source": [
    "# 1) Consider the two variables: TOTAL_REVENUE and TOTAL_EXPENDITURE. Do these variables have outlier values?"
   ]
  },
  {
   "cell_type": "code",
   "execution_count": 105,
   "metadata": {},
   "outputs": [
    {
     "data": {
      "image/png": "[encoded data removed]",
      "text/plain": [
       "<Figure size 432x288 with 1 Axes>"
      ]
     },
     "metadata": {
      "needs_background": "light"
     },
     "output_type": "display_data"
    },
    {
     "data": {
      "image/png": "[encoded data removed]",
      "text/plain": [
       "<Figure size 432x288 with 1 Axes>"
      ]
     },
     "metadata": {
      "needs_background": "light"
     },
     "output_type": "display_data"
    }
   ],
   "source": [
    "plt.boxplot(usEducation[\"total_revenue\"])\n",
    "plt.title(\"Box plot of Total Revenue (whis=3)\")\n",
    "plt.show()\n",
    "\n",
    "plt.boxplot(usEducation[\"total_expenditure\"])\n",
    "plt.title(\"Box plot of Total Expenditure (whis=3)\")\n",
    "plt.show()\n",
    "\n",
    "\n"
   ]
  },
  {
   "cell_type": "code",
   "execution_count": 106,
   "metadata": {},
   "outputs": [
    {
     "data": {
      "image/png": "[encoded data removed]",
      "text/plain": [
       "<Figure size 432x288 with 1 Axes>"
      ]
     },
     "metadata": {
      "needs_background": "light"
     },
     "output_type": "display_data"
    },
    {
     "data": {
      "image/png": "[encoded data removed]",
      "text/plain": [
       "<Figure size 432x288 with 1 Axes>"
      ]
     },
     "metadata": {
      "needs_background": "light"
     },
     "output_type": "display_data"
    }
   ],
   "source": [
    "\n",
    "plt.boxplot(usEducation[\"total_revenue\"], whis=9)\n",
    "plt.title(\"Box plot of video views (whis=20)\")\n",
    "plt.show()\n",
    "\n",
    "plt.boxplot(usEducation[\"total_expenditure\"], whis=9)\n",
    "plt.title(\"Box plot of video views (whis=20)\")\n",
    "plt.show()"
   ]
  },
  {
   "cell_type": "markdown",
   "metadata": {},
   "source": [
    "The boxplots above for Total Revenue and Total Expenditure has outliers."
   ]
  },
  {
   "cell_type": "code",
   "execution_count": 107,
   "metadata": {},
   "outputs": [
    {
     "name": "stdout",
     "output_type": "stream",
     "text": [
      "The score threshold is: 1\n",
      "The indices of the outliers:\n",
      "(array([   4,   32,   56,   85,   96,  108,  137,  150,  161,  190,  201,\n",
      "        213,  241,  252,  264,  292,  304,  316,  344,  355,  367,  396,\n",
      "        407,  420,  449,  460,  472,  481,  501,  512,  524,  552,  564,\n",
      "        576,  605,  616,  628,  633,  637,  654,  656,  662,  668,  680,\n",
      "        685,  689,  706,  708,  714,  719,  731,  737,  741,  758,  760,\n",
      "        763,  766,  771,  784,  789,  793,  802,  811,  813,  816,  819,\n",
      "        824,  836,  842,  846,  855,  863,  865,  868,  871,  876,  891,\n",
      "        897,  901,  919,  921,  924,  927,  932,  944,  950,  954,  971,\n",
      "        973,  976,  979,  984,  997, 1002, 1006, 1023, 1025, 1028, 1031,\n",
      "       1036, 1048, 1053, 1057, 1075, 1077, 1080, 1083, 1088, 1101, 1106,\n",
      "       1110, 1127, 1129, 1132, 1135, 1140, 1152, 1157, 1161, 1178, 1180,\n",
      "       1183, 1186, 1191, 1203, 1208, 1212, 1229, 1231, 1234, 1237, 1242,\n",
      "       1254, 1259, 1263, 1280, 1282, 1285]),)\n",
      "Number of outliers is: 138\n",
      "The score threshold is: 2\n",
      "The indices of the outliers:\n",
      "(array([ 150,  213,  264,  316,  367,  420,  449,  472,  481,  501,  512,\n",
      "        524,  552,  564,  576,  605,  616,  628,  656,  668,  680,  708,\n",
      "        719,  731,  760,  771,  784,  813,  824,  836,  865,  876,  891,\n",
      "        921,  932,  944,  973,  984,  997, 1025, 1036, 1048, 1077, 1088,\n",
      "       1101, 1129, 1140, 1152, 1161, 1180, 1191, 1203, 1212, 1231, 1242,\n",
      "       1254, 1263, 1282]),)\n",
      "Number of outliers is: 58\n",
      "The score threshold is: 3\n",
      "The indices of the outliers:\n",
      "(array([ 420,  472,  481,  524,  576,  628,  680,  708,  731,  760,  784,\n",
      "        813,  824,  836,  865,  876,  891,  921,  932,  944,  973,  984,\n",
      "        997, 1025, 1036, 1048, 1077, 1088, 1101, 1129, 1140, 1152, 1180,\n",
      "       1191, 1203, 1231, 1242, 1254, 1282]),)\n",
      "Number of outliers is: 39\n",
      "The score threshold is: 4\n",
      "The indices of the outliers:\n",
      "(array([ 472,  481,  524,  576,  628,  680,  731,  784,  836,  865,  891,\n",
      "        921,  944,  973,  997, 1025, 1048, 1077, 1101, 1129, 1152, 1180,\n",
      "       1191, 1203, 1231, 1242, 1254, 1282]),)\n",
      "Number of outliers is: 28\n",
      "The score threshold is: 1\n",
      "The indices of the outliers:\n",
      "(array([   4,   32,   56,   85,  108,  137,  150,  161,  190,  213,  241,\n",
      "        252,  264,  292,  304,  316,  344,  355,  367,  396,  407,  420,\n",
      "        449,  460,  472,  481,  501,  512,  524,  533,  552,  564,  576,\n",
      "        585,  605,  611,  616,  628,  633,  637,  654,  656,  662,  668,\n",
      "        680,  685,  689,  698,  706,  708,  714,  719,  731,  737,  741,\n",
      "        750,  758,  760,  763,  766,  771,  784,  789,  793,  811,  813,\n",
      "        816,  819,  824,  836,  842,  846,  855,  863,  865,  868,  871,\n",
      "        876,  891,  897,  901,  919,  921,  924,  927,  932,  944,  950,\n",
      "        954,  971,  973,  976,  979,  984,  997, 1002, 1006, 1023, 1025,\n",
      "       1028, 1031, 1036, 1048, 1053, 1057, 1075, 1077, 1080, 1083, 1088,\n",
      "       1101, 1106, 1110, 1127, 1129, 1132, 1135, 1140, 1152, 1157, 1161,\n",
      "       1178, 1180, 1183, 1186, 1191, 1203, 1208, 1212, 1229, 1231, 1234,\n",
      "       1237, 1242, 1254, 1259, 1263, 1280, 1282, 1285]),)\n",
      "Number of outliers is: 140\n",
      "The score threshold is: 2\n",
      "The indices of the outliers:\n",
      "(array([ 213,  264,  316,  367,  396,  420,  449,  472,  481,  501,  512,\n",
      "        524,  552,  564,  576,  605,  616,  628,  656,  668,  680,  708,\n",
      "        719,  731,  760,  771,  784,  813,  824,  836,  865,  876,  891,\n",
      "        921,  932,  944,  973,  984,  997, 1025, 1036, 1048, 1077, 1088,\n",
      "       1101, 1129, 1140, 1152, 1180, 1191, 1203, 1212, 1231, 1242, 1254,\n",
      "       1263, 1282]),)\n",
      "Number of outliers is: 57\n",
      "The score threshold is: 3\n",
      "The indices of the outliers:\n",
      "(array([ 420,  472,  481,  524,  576,  628,  656,  680,  708,  731,  760,\n",
      "        771,  784,  813,  824,  836,  865,  876,  891,  921,  932,  944,\n",
      "        973,  984,  997, 1025, 1036, 1048, 1077, 1088, 1101, 1129, 1140,\n",
      "       1152, 1180, 1191, 1203, 1231, 1242, 1254, 1282]),)\n",
      "Number of outliers is: 41\n",
      "The score threshold is: 4\n",
      "The indices of the outliers:\n",
      "(array([ 481,  524,  576,  628,  680,  731,  784,  836,  865,  891,  921,\n",
      "        932,  944,  973,  984,  997, 1025, 1048, 1077, 1101, 1129, 1152,\n",
      "       1180, 1203, 1231, 1242, 1254, 1282]),)\n",
      "Number of outliers is: 28\n"
     ]
    }
   ],
   "source": [
    "# z score to total revenue\n",
    "from scipy.stats import zscore\n",
    "z_scores = zscore(usEducation[\"total_revenue\"])\n",
    "for threshold in range(1,5):\n",
    "    print(\"The score threshold is: {}\".format(threshold))\n",
    "    print(\"The indices of the outliers:\")\n",
    "    print(np.where(z_scores > threshold))\n",
    "    print(\"Number of outliers is: {}\".format(len((np.where(z_scores > threshold)[0]))))\n",
    "    \n",
    "    \n",
    "    \n",
    "    ## zscore for total expenditure\n",
    "z_scores = zscore(usEducation[\"total_expenditure\"])\n",
    "for threshold in range(1,5):\n",
    "    print(\"The score threshold is: {}\".format(threshold))\n",
    "    print(\"The indices of the outliers:\")\n",
    "    print(np.where(z_scores > threshold))\n",
    "    print(\"Number of outliers is: {}\".format(len((np.where(z_scores > threshold)[0]))))"
   ]
  },
  {
   "cell_type": "markdown",
   "metadata": {},
   "source": [
    "The zscores also shows outliers for both Total Revenue and Total Expenditure."
   ]
  },
  {
   "cell_type": "markdown",
   "metadata": {},
   "source": [
    "# 2) If you detect outliers in the TOTAL_REVENUE and TOTAL_EXPENDITURE variables, apply the techniques you learned in this checkpoint to eliminate them and validate that there's no outlier values after you handled them."
   ]
  },
  {
   "cell_type": "code",
   "execution_count": 115,
   "metadata": {},
   "outputs": [
    {
     "data": {
      "text/plain": [
       "(masked_array(data=[2678885.        , 1049591.        , 3258079.        ,\n",
       "                    ..., 9092081.85859375, 9092081.85859375,\n",
       "                    9092081.85859375],\n",
       "              mask=False,\n",
       "        fill_value=1e+20),\n",
       " masked_array(data=[2653798.     ,  972488.     , 3401580.     , ...,\n",
       "                    9196680.86875, 9196680.86875, 9196680.86875],\n",
       "              mask=False,\n",
       "        fill_value=1e+20))"
      ]
     },
     "execution_count": 115,
     "metadata": {},
     "output_type": "execute_result"
    }
   ],
   "source": [
    "from scipy.stats.mstats import winsorize\n",
    "\n",
    "winsorizeRevenue = winsorize(usEducation[\"total_revenue\"],(0, 0.10))\n",
    "winsorizeExpenditure = winsorize(usEducation[\"total_expenditure\"],(0, 0.10))\n",
    "\n",
    "winsorizeRevenue, winsorizeExpenditure"
   ]
  },
  {
   "cell_type": "code",
   "execution_count": 179,
   "metadata": {},
   "outputs": [
    {
     "data": {
      "image/png": "[encoded data removed]",
      "text/plain": [
       "<Figure size 432x288 with 1 Axes>"
      ]
     },
     "metadata": {
      "needs_background": "light"
     },
     "output_type": "display_data"
    },
    {
     "data": {
      "image/png": "[encoded data removed]",
      "text/plain": [
       "<Figure size 432x288 with 1 Axes>"
      ]
     },
     "metadata": {
      "needs_background": "light"
     },
     "output_type": "display_data"
    }
   ],
   "source": [
    "plt.boxplot(winsorizeRevenue)\n",
    "plt.title(\"Box plot of video views (whis=2)\")\n",
    "plt.show()\n",
    "\n",
    "\n",
    "plt.boxplot(winsorizeExpenditure)\n",
    "plt.title(\"Box plot of video views (whis=2)\")\n",
    "plt.show()\n"
   ]
  },
  {
   "cell_type": "markdown",
   "metadata": {},
   "source": [
    "# 3) Create another variable by subtracting the original TOTAL_EXPENDITURE from TOTAL_REVENUE (before you eliminated the outliers). You can think of it as a kind of budget deficit in education. Do you find any outlier values in this new variable? If so, eliminate them using the technique you think most suitable."
   ]
  },
  {
   "cell_type": "code",
   "execution_count": 180,
   "metadata": {},
   "outputs": [],
   "source": [
    "budgetDeficit = usEducation.total_revenue - usEducation.total_expenditure"
   ]
  },
  {
   "cell_type": "code",
   "execution_count": 181,
   "metadata": {},
   "outputs": [
    {
     "data": {
      "text/plain": [
       "Text(0.5, 1.0, 'Box plot of budget deficit')"
      ]
     },
     "execution_count": 181,
     "metadata": {},
     "output_type": "execute_result"
    },
    {
     "data": {
      "image/png": "[encoded data removed]",
      "text/plain": [
       "<Figure size 432x288 with 1 Axes>"
      ]
     },
     "metadata": {
      "needs_background": "light"
     },
     "output_type": "display_data"
    }
   ],
   "source": [
    "plt.boxplot(budgetDeficit, whis = 3)\n",
    "plt.title(\"Box plot of budget deficit\")"
   ]
  },
  {
   "cell_type": "code",
   "execution_count": 182,
   "metadata": {},
   "outputs": [
    {
     "data": {
      "text/plain": [
       "masked_array(data=[2678885.        , 1049591.        , 3258079.        ,\n",
       "                   ..., 9092081.85859375, 9092081.85859375,\n",
       "                   9092081.85859375],\n",
       "             mask=False,\n",
       "       fill_value=1e+20)"
      ]
     },
     "execution_count": 182,
     "metadata": {},
     "output_type": "execute_result"
    }
   ],
   "source": [
    "from scipy.stats.mstats import winsorize\n",
    "\n",
    "winsorizeBudgetDeficit = winsorize(usEducation[\"total_revenue\"],(0, 0.10))\n",
    "\n",
    "winsorizeBudgetDeficit\n"
   ]
  },
  {
   "cell_type": "code",
   "execution_count": 183,
   "metadata": {},
   "outputs": [
    {
     "data": {
      "image/png": "[encoded data removed]",
      "text/plain": [
       "<Figure size 432x288 with 1 Axes>"
      ]
     },
     "metadata": {
      "needs_background": "light"
     },
     "output_type": "display_data"
    }
   ],
   "source": [
    "plt.boxplot(winsorizeBudgetDeficit)\n",
    "plt.title(\"Box plot of video views (whis=1)\")\n",
    "plt.show()"
   ]
  },
  {
   "cell_type": "markdown",
   "metadata": {},
   "source": [
    "After eliminating just a few outliers left."
   ]
  },
  {
   "cell_type": "markdown",
   "metadata": {},
   "source": [
    "# 4) Now create another variable by subtracting the TOTAL_EXPENDITURE from TOTAL_REVENUE. This time, use the outlier eliminated versions of TOTAL_EXPENDITURE from TOTAL_REVENUE. In this newly created variable, can you find any outliers? If so, eliminate them."
   ]
  },
  {
   "cell_type": "code",
   "execution_count": 184,
   "metadata": {},
   "outputs": [],
   "source": [
    "budgetDeficit2 = winsorizeRevenue - winsorizeExpenditure\n"
   ]
  },
  {
   "cell_type": "code",
   "execution_count": 185,
   "metadata": {},
   "outputs": [
    {
     "data": {
      "image/png": "[encoded data removed]",
      "text/plain": [
       "<Figure size 432x288 with 1 Axes>"
      ]
     },
     "metadata": {
      "needs_background": "light"
     },
     "output_type": "display_data"
    }
   ],
   "source": [
    "plt.boxplot(budgetDeficit2)\n",
    "plt.title(\"Second boxplot budgit deficit (whis=20)\")\n",
    "plt.show()\n"
   ]
  },
  {
   "cell_type": "code",
   "execution_count": 186,
   "metadata": {},
   "outputs": [
    {
     "data": {
      "text/plain": [
       "masked_array(data=[  25087.        ,   77103.        , -143501.        ,\n",
       "                   ..., -104599.01015625, -104599.01015625,\n",
       "                   -104599.01015625],\n",
       "             mask=False,\n",
       "       fill_value=1e+20)"
      ]
     },
     "execution_count": 186,
     "metadata": {},
     "output_type": "execute_result"
    }
   ],
   "source": [
    "budgetDeficit2 = winsorize(budgetDeficit2, (0, 0.07))\n",
    "\n",
    "budgetDeficit2\n"
   ]
  },
  {
   "cell_type": "code",
   "execution_count": 187,
   "metadata": {},
   "outputs": [
    {
     "data": {
      "text/plain": [
       "Text(0.5, 1.0, 'Box plot of second Budget Deficit')"
      ]
     },
     "execution_count": 187,
     "metadata": {},
     "output_type": "execute_result"
    },
    {
     "data": {
      "image/png": "[encoded data removed]",
      "text/plain": [
       "<Figure size 432x288 with 1 Axes>"
      ]
     },
     "metadata": {
      "needs_background": "light"
     },
     "output_type": "display_data"
    }
   ],
   "source": [
    "\n",
    "plt.boxplot(budgetDeficit2, whis = 5)\n",
    "plt.title(\"Box plot of second Budget Deficit\")"
   ]
  },
  {
   "cell_type": "markdown",
   "metadata": {},
   "source": [
    "After eliminating only a few outliers left."
   ]
  },
  {
   "cell_type": "markdown",
   "metadata": {},
   "source": [
    "\n",
    "# 5) Compare some basic statistics of the budget variables you end up with in the third and the fourth questions. Do you see any differences?"
   ]
  },
  {
   "cell_type": "code",
   "execution_count": null,
   "metadata": {},
   "outputs": [],
   "source": []
  },
  {
   "cell_type": "code",
   "execution_count": 177,
   "metadata": {},
   "outputs": [
    {
     "data": {
      "text/html": [
       "<div>\n",
       "<style scoped>\n",
       "    .dataframe tbody tr th:only-of-type {\n",
       "        vertical-align: middle;\n",
       "    }\n",
       "\n",
       "    .dataframe tbody tr th {\n",
       "        vertical-align: top;\n",
       "    }\n",
       "\n",
       "    .dataframe thead th {\n",
       "        text-align: right;\n",
       "    }\n",
       "</style>\n",
       "<table border=\"1\" class=\"dataframe\">\n",
       "  <thead>\n",
       "    <tr style=\"text-align: right;\">\n",
       "      <th></th>\n",
       "      <th>original budget</th>\n",
       "      <th>winsorized budget</th>\n",
       "      <th>winsorized budget2</th>\n",
       "    </tr>\n",
       "  </thead>\n",
       "  <tbody>\n",
       "    <tr>\n",
       "      <th>count</th>\n",
       "      <td>1.492000e+03</td>\n",
       "      <td>1.492000e+03</td>\n",
       "      <td>1.492000e+03</td>\n",
       "    </tr>\n",
       "    <tr>\n",
       "      <th>mean</th>\n",
       "      <td>-1.045990e+05</td>\n",
       "      <td>7.518248e+06</td>\n",
       "      <td>-9.222623e+04</td>\n",
       "    </tr>\n",
       "    <tr>\n",
       "      <th>std</th>\n",
       "      <td>5.310770e+05</td>\n",
       "      <td>5.723655e+06</td>\n",
       "      <td>1.932216e+05</td>\n",
       "    </tr>\n",
       "    <tr>\n",
       "      <th>min</th>\n",
       "      <td>-5.487742e+06</td>\n",
       "      <td>4.656500e+05</td>\n",
       "      <td>-1.531644e+06</td>\n",
       "    </tr>\n",
       "    <tr>\n",
       "      <th>25%</th>\n",
       "      <td>-1.360070e+05</td>\n",
       "      <td>2.546261e+06</td>\n",
       "      <td>-1.811838e+05</td>\n",
       "    </tr>\n",
       "    <tr>\n",
       "      <th>50%</th>\n",
       "      <td>-4.849350e+04</td>\n",
       "      <td>6.359310e+06</td>\n",
       "      <td>-6.565100e+04</td>\n",
       "    </tr>\n",
       "    <tr>\n",
       "      <th>75%</th>\n",
       "      <td>2.965425e+04</td>\n",
       "      <td>9.276958e+06</td>\n",
       "      <td>2.047350e+04</td>\n",
       "    </tr>\n",
       "    <tr>\n",
       "      <th>max</th>\n",
       "      <td>3.897129e+06</td>\n",
       "      <td>1.937403e+07</td>\n",
       "      <td>1.655100e+05</td>\n",
       "    </tr>\n",
       "  </tbody>\n",
       "</table>\n",
       "</div>"
      ],
      "text/plain": [
       "       original budget  winsorized budget  winsorized budget2\n",
       "count     1.492000e+03       1.492000e+03        1.492000e+03\n",
       "mean     -1.045990e+05       7.518248e+06       -9.222623e+04\n",
       "std       5.310770e+05       5.723655e+06        1.932216e+05\n",
       "min      -5.487742e+06       4.656500e+05       -1.531644e+06\n",
       "25%      -1.360070e+05       2.546261e+06       -1.811838e+05\n",
       "50%      -4.849350e+04       6.359310e+06       -6.565100e+04\n",
       "75%       2.965425e+04       9.276958e+06        2.047350e+04\n",
       "max       3.897129e+06       1.937403e+07        1.655100e+05"
      ]
     },
     "execution_count": 177,
     "metadata": {},
     "output_type": "execute_result"
    }
   ],
   "source": [
    " pd.DataFrame({\"original budget\": budgetDeficit, \"winsorized budget\": winsorizeBudgetDeficit,\n",
    "              \"winsorized budget2\": budgetDeficit2}).describe()"
   ]
  },
  {
   "cell_type": "markdown",
   "metadata": {},
   "source": [
    "For almost all critical statistics, the two variables differ substantially. For example:\n",
    "\n",
    "The mean of the winsorized budget is 7.518248.33 whereas the mean of the winsorized budget2 is -9.222623.\n",
    "\n",
    "The median of the winsorized budget  is 6.359310 whereas the median of the winsorized budget2 is -6.565100\n",
    "\n",
    "The maximum of the winsorized budget is 1.937403 whereas the maximum of the winsorized budget2 is 1.655100.\n",
    "\n",
    "\n"
   ]
  },
  {
   "cell_type": "markdown",
   "metadata": {},
   "source": [
    "# 6) If our variable of interest is the budget deficit variable, which method do you think is the most appropriate one in dealing with the outliers in this variable. The method in the third question or the one in the fourth question?\n"
   ]
  },
  {
   "cell_type": "markdown",
   "metadata": {},
   "source": [
    "I hypothesis creating another variable like the winsorizeDeficit2 would elimate more outliers.The outputs for the 4th question are similar to the original budget. Therefore we should consider using the 4th question. I believe the method in the third question is an outlier. It's very different from the original budget, and winsorized budget2."
   ]
  }
 ],
 "metadata": {
  "kernelspec": {
   "display_name": "Python 3",
   "language": "python",
   "name": "python3"
  },
  "language_info": {
   "codemirror_mode": {
    "name": "ipython",
    "version": 3
   },
   "file_extension": ".py",
   "mimetype": "text/x-python",
   "name": "python",
   "nbconvert_exporter": "python",
   "pygments_lexer": "ipython3",
   "version": "3.7.3"
  }
 },
 "nbformat": 4,
 "nbformat_minor": 2
}
