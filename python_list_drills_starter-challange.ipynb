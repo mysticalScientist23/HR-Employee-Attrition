{
 "cells": [
  {
   "cell_type": "markdown",
   "metadata": {},
   "source": [
    "## 1: `longest_word_length`\n",
    "\n",
    "Create a function called `longest_word` that takes one argument, a list of words, and returns the length of the longest word in the list.\n",
    "\n",
    "For example, `longest_word(['simple', 'is', 'better', 'than', 'complex'])` should return 7 because the longest word there is complex, at 7 characters.\n",
    "\n",
    "Your function should *not* modify the input list."
   ]
  },
  {
   "cell_type": "code",
   "execution_count": 1,
   "metadata": {},
   "outputs": [
    {
     "data": {
      "text/plain": [
       "(7, 'complex')"
      ]
     },
     "execution_count": 1,
     "metadata": {},
     "output_type": "execute_result"
    }
   ],
   "source": [
    "def longest_word(lst):\n",
    "    largest_len = len(lst[0])\n",
    "    largest_word = lst[0]\n",
    "    for word in lst:\n",
    "        if len(word) > largest_len:\n",
    "            largest_len = len(word)\n",
    "            largest_word = word\n",
    "            return largest_len, largest_word\n",
    "longest_word(['simple', 'is', 'better', 'than', 'complex'])"
   ]
  },
  {
   "cell_type": "markdown",
   "metadata": {},
   "source": [
    "## 2: `calculate_grade`\n",
    "\n",
    "You're a statistics professor and the deadline for submitting your students' grades is tonight at midnight. Each student's grade is determined by their mean score across all of the tests they took this semester.\n",
    "\n",
    "You've decided to automate grade calculation by writing a function `calculate_grade` that takes a list of test scores as an argument and returns a one character string representing the student's grade calculated as follows:\n",
    "\n",
    "```\n",
    "90% <= mean score <= 100%: \"A\",\n",
    "80% <= mean score < 90%: \"B\",\n",
    "70% <= mean score < 80%: \"C\",\n",
    "60% <= mean score < 70%: \"D\",\n",
    "mean score < 60%: \"F\"\n",
    "```\n",
    "\n",
    "\n",
    "For example, `calculate_grade([92, 94, 99])` would return \"A\" since the mean score is 95, and `calculate_grade([50, 60, 70, 80, 90])` would return \"C\" since the mean score is 70.\n",
    "\n",
    "Your function should handle an input list of any length greater than zero."
   ]
  },
  {
   "cell_type": "code",
   "execution_count": 2,
   "metadata": {
    "scrolled": true
   },
   "outputs": [
    {
     "name": "stdout",
     "output_type": "stream",
     "text": [
      "Enter your test score: 90, 94, 89\n",
      " You received an A\n"
     ]
    }
   ],
   "source": [
    "\n",
    "# your code here\n",
    "scores = [int(num)for num in input(\"Enter your test score: \").split(\",\")]\n",
    "\n",
    "# create average function then define it\n",
    "def average(scores):\n",
    "    return sum(scores) / len(scores)\n",
    "\n",
    "# create calculate function that accepts scores as perameter\n",
    "def calculate_grade(scores):\n",
    "    \n",
    "    # we give score conditions\n",
    "    score = average(scores)\n",
    "    if score >= 90 and score <= 100:\n",
    "        return (\" You received an A\")\n",
    "    \n",
    "    elif score >= 80 and score < 90:\n",
    "        return (\"You received a B\")\n",
    "    \n",
    "    elif score >= 70 and score < 80:\n",
    "        return (\"You received a C\")\n",
    "    \n",
    "    elif score >= 60 and score < 70:\n",
    "        return (\"You received a D\")\n",
    "    else:\n",
    "        return(\"Sorry, you got an F please retake the class\")\n",
    "        \n",
    "print(calculate_grade(scores))"
   ]
  },
  {
   "cell_type": "markdown",
   "metadata": {},
   "source": [
    "## 3: `process_data`\n",
    "\n",
    "You have a two-dimensional \n",
    "in the following format:\n",
    "\n",
    "```python\n",
    "data = [[2, 5], [3, 4], [8, 7]]\n",
    "```\n",
    "\n",
    "Each sub-list contains two items, and each item in the sub-lists is an integer.\n",
    "\n",
    "Write a function `process_data` that processes each sub-list like so:\n",
    "\n",
    "```\n",
    "[2, 5] --> 2 - 5 --> -3\n",
    "[3, 4] --> 3 - 4 --> -1\n",
    "[8, 7] --> 8 - 7 --> 1\n",
    "```\n",
    "\n",
    "and then returns the product of all the processed sub-lists: -3 * -1 * 1 --> 3.\n",
    "d\n",
    "For input, you can trust that neither the main list nor the sublists will be empty."
   ]
  },
  {
   "cell_type": "code",
   "execution_count": 3,
   "metadata": {},
   "outputs": [
    {
     "name": "stdout",
     "output_type": "stream",
     "text": [
      "[2,5]--> 2 - 5 --> -3\n",
      "[3,4]--> 3 - 4 --> -1\n",
      "[8,7]--> 8 - 7 --> 1\n"
     ]
    },
    {
     "data": {
      "text/plain": [
       "1"
      ]
     },
     "execution_count": 3,
     "metadata": {},
     "output_type": "execute_result"
    }
   ],
   "source": [
    "# 3: process_data\n",
    "# You have a two-dimensional in the following format:\n",
    "\n",
    "# data = [[2, 5], [3, 4], [8, 7]]\n",
    "# Each sub-list contains two items, and each item in the sub-lists is an integer.\n",
    "\n",
    "# Write a function process_data that processes each sub-list like so:\n",
    "\n",
    "# [ 2  ,  5 ] --> 2 - 5 --> -3 # In this line, wee need both of the nums in each array. \n",
    "# [num1,num2] num1 - num2 = product\n",
    "\n",
    "# [3, 4] --> 3 - 4 --> -1 # we also need the product for each pair of nums\n",
    "# [8, 7] --> 8 - 7 --> 1\n",
    "# and then returns the product of all the processed sub-lists: -3 \n",
    "    \n",
    "def process_data(alist):\n",
    "    sum_of_products = 0 # initialize the variable\n",
    "    for item in alist:\n",
    "        num1, num2 = item[0], item[1] # assign both nums to a variable\n",
    "        product = num1 - num2 # product for each pair of nums\n",
    "        print(f\"[{num1},{num2}]--> {num1} - {num2} --> {product}\") # formatting the string\n",
    "        sum_of_products += product # lastly adding each product to a total\n",
    "    return product\n",
    "\n",
    "process_data([[2, 5], [3, 4], [8, 7]])"
   ]
  },
  {
   "cell_type": "code",
   "execution_count": null,
   "metadata": {},
   "outputs": [],
   "source": []
  }
 ],
 "metadata": {
  "kernelspec": {
   "display_name": "Python 3",
   "language": "python",
   "name": "python3"
  },
  "language_info": {
   "codemirror_mode": {
    "name": "ipython",
    "version": 3
   },
   "file_extension": ".py",
   "mimetype": "text/x-python",
   "name": "python",
   "nbconvert_exporter": "python",
   "pygments_lexer": "ipython3",
   "version": "3.7.3"
  }
 },
 "nbformat": 4,
 "nbformat_minor": 2
}
