{
 "cells": [
  {
   "cell_type": "markdown",
   "metadata": {},
   "source": [
    "## 1: `fillable`\n",
    "\n",
    "You're running an online business and a big part of your day is fulfilling orders. As your volume picks up that's been taking more of your time, and unfortunately lately you've been running into situations where you take an order but can't fulfill it.\n",
    "\n",
    "You've decided to write a function `fillable` that takes three arguments: a dictionary stock representing all the merchandise you have in stock, a string merch representing the thing your customer wants to buy, and an integer `n` representing the number of units of merch they would like to buy. Your function should return `True` if you have the merchandise in stock to complete the sale, otherwise it should return `False`.\n",
    "\n",
    "Valid data will always be passed in and n will always be >= 1."
   ]
  },
  {
   "cell_type": "code",
   "execution_count": 1,
   "metadata": {},
   "outputs": [
    {
     "name": "stdout",
     "output_type": "stream",
     "text": [
      "dict_keys(['pink lady', 'royal gala', 'granny smith', 'fiji', 'honey crisp'])\n",
      "True\n",
      "False\n",
      "True\n",
      "False\n"
     ]
    }
   ],
   "source": [
    "def fillable(stock, merch, n):\n",
    "    is_fillable = False\n",
    "    if (merch in stock.keys()) and (stock[merch] >= n):\n",
    "        is_fillable = True\n",
    "    return is_fillable\n",
    "\n",
    "\n",
    "# def fillable(stock, merch, n): \n",
    "#     return bool(stock.get(merch) >= n) # condensed version \n",
    "apple_stock = {'pink lady': 5,'royal gala': 7,'granny smith': 9,\n",
    "                    'fiji': 6,'honey crisp': 3}\n",
    "apple_merch = 'pink lady'\n",
    "n = 3\n",
    "\n",
    "print (apple_stock.keys())\n",
    "\n",
    "\n",
    "print(fillable(apple_stock, 'pink lady', 4))\n",
    "print(fillable(apple_stock, ' pink lady', 7))\n",
    "print(fillable(apple_stock, 'granny smith', 9))\n",
    "print(fillable(apple_stock, 'red smith', 7))"
   ]
  },
  {
   "cell_type": "markdown",
   "metadata": {},
   "source": [
    "## 2: user_contacts\n",
    "\n",
    "You're putting together contact information for all the users of your website to ship them a small gift. You queried your database and got back a list of users, where each user is another list with up to two items: a string representing the user's name and their shipping zip code. Example data might look like:\n",
    "\n",
    "```python\n",
    "[[\"Grae Drake\", 98110], [\"Bethany Kok\"], [\"Alex Nussbacher\", 94101], [\"Darrell Silver\", 11201]]\n",
    "```\n",
    "\n",
    "Notice that one of the users above has a name but doesn't have a zip code.\n",
    "\n",
    "Write a function `user_contacts` that takes a two-dimensional list like the one above and returns a dictionary with an item for each user where the key is the user's name and the value is the user's zip code. If your data doesn't include a zip code then the value should be `None`.\n",
    "\n",
    "For example, using the input above, user_contacts would return this dictionary:\n",
    "\n",
    "```python\n",
    "{\n",
    "    \"Grae Drake\": 98110,\n",
    "    \"Bethany Kok\": None,\n",
    "    \"Alex Nussbacher\": 94101,\n",
    "    \"Darrell Silver\": 11201,    \n",
    "}\n",
    "```\n",
    "\n",
    "You don't have to worry about leading zeros in zip codes."
   ]
  },
  {
   "cell_type": "code",
   "execution_count": 2,
   "metadata": {},
   "outputs": [
    {
     "data": {
      "text/plain": [
       "{'Grae Drake': 98110,\n",
       " 'Bethany Kok': None,\n",
       " 'Alex Nussbacher': 94101,\n",
       " 'Darrell Silver': 11201}"
      ]
     },
     "execution_count": 2,
     "metadata": {},
     "output_type": "execute_result"
    }
   ],
   "source": [
    "def user_contacts(data):\n",
    "    dictionary = {}\n",
    "    for item in data:\n",
    "        if len(item) == 1:\n",
    "            dictionary[item[0]] = None\n",
    "        elif len(item) == 2:\n",
    "            dictionary[item[0]] = item[1]\n",
    "    return dictionary\n",
    "\n",
    "user_contacts([[\"Grae Drake\", 98110], [\"Bethany Kok\"], [\"Alex Nussbacher\", 94101], [\"Darrell Silver\", 11201]])"
   ]
  },
  {
   "cell_type": "code",
   "execution_count": null,
   "metadata": {},
   "outputs": [],
   "source": []
  }
 ],
 "metadata": {
  "kernelspec": {
   "display_name": "Python 3",
   "language": "python",
   "name": "python3"
  },
  "language_info": {
   "codemirror_mode": {
    "name": "ipython",
    "version": 3
   },
   "file_extension": ".py",
   "mimetype": "text/x-python",
   "name": "python",
   "nbconvert_exporter": "python",
   "pygments_lexer": "ipython3",
   "version": "3.7.3"
  }
 },
 "nbformat": 4,
 "nbformat_minor": 2
}
