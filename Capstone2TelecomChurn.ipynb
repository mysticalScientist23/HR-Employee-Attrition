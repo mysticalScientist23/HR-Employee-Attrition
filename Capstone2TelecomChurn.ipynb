{
 "cells": [
  {
   "cell_type": "markdown",
   "metadata": {},
   "source": [
    "Customer churn is by far one of the most important metrics for a growing business to evaluate. While it's not the favorite measure, it's a number that can give your company the hard truth about its customer retention.Customer churn is the percentage of customers that stopped using your company's product or service during a certain time frame. In this case, customrs who stopped using Teleco phone servce. This analytic covers the importance of customer churn in  Teleco service and reasons customers leave the service. Going forward this project, we help the analytic personals and managers create a more affordable service and retain customers. Our data set we ask What are factors that lead to customer churn? This data was collected from Kaggle. Telecom Customer Churn. The data contains 21 variables and 7,043 observers. We do have missing values to fill and drop columns not needed."
   ]
  },
  {
   "cell_type": "markdown",
   "metadata": {},
   "source": [
    "\n",
    "This dataset contains information about:\n",
    "\n",
    "Customers who left within the last month – the column is called Churn\n",
    "Services that each customer has signed up for – phone, multiple lines, internet, online security, online backup, device protection, tech support, and streaming TV and movies\n",
    "Customer account information – how long they’ve been a customer, contract, payment method, paperless billing, monthly charges, and total charges\n",
    "Demographic info about customers – gender, age range, and if they have partners and dependents"
   ]
  },
  {
   "cell_type": "markdown",
   "metadata": {},
   "source": [
    "For this project we will complete the following to get better predictions of customer Churn\n",
    "\n",
    "1. Data exploration & visualization\n",
    "2. Holdout (splitting data)\n",
    "3. PCA\n",
    "     - gridsearchCV\n",
    "     - Decision tree model class\n",
    "         + Cross validation\n",
    "         + Confusion matrix\n",
    "         + Classification_report\n",
    "      - Random forest model class\n",
    "         + Cross validation\n",
    "         + Confusion matrix\n",
    "         + Classification_report\n",
    "      -KNN Class\n",
    "\t+ Cross validation\n",
    "         + Confusion matrix\n",
    "         + Classification_report\n",
    "      -Logistic Classification\n",
    "\t+ Cross validation\n",
    "         + Confusion matrix\n",
    "         + Classification_report\n",
    "      -Support Vector Machine\n",
    "\t+ Cross validation\n",
    "         + Confusion matrix\n",
    "         + Classification_report"
   ]
  },
  {
   "cell_type": "code",
   "execution_count": 1,
   "metadata": {},
   "outputs": [],
   "source": [
    "import numpy as np\n",
    "import pandas as pd\n",
    "import scipy\n",
    "import matplotlib.pyplot as plt\n",
    "import seaborn as sns\n",
    "import pandas as pd\n",
    "import math\n",
    "import numpy as np\n",
    "import seaborn as sns\n",
    "import matplotlib.pyplot as plt\n",
    "from sklearn import metrics\n",
    "from pylab import rcParams\n",
    "from sklearn.decomposition import PCA\n",
    "from sklearn.model_selection import GridSearchCV\n",
    "# Decision tree graphics\n",
    "from sklearn.tree import export_graphviz\n",
    "from graphviz import Source\n",
    "from IPython.display import Image  \n",
    "from sklearn import tree\n",
    "from sklearn.preprocessing import Imputer\n",
    "import re\n",
    "import itertools\n",
    "from sklearn.preprocessing import LabelEncoder,OneHotEncoder\n",
    "\n",
    "\n",
    "\n",
    "from sklearn.model_selection import train_test_split\n",
    "from scipy import stats\n",
    "import warnings\n",
    "warnings.filterwarnings('ignore')\n",
    "%matplotlib inline\n",
    "\n",
    "\n",
    "\n",
    "\n",
    "from sklearn.linear_model import LogisticRegression\n",
    "from sklearn.model_selection import train_test_split, cross_val_score\n",
    "from sklearn.dummy import DummyClassifier\n",
    "from sklearn.metrics import confusion_matrix\n",
    "from sklearn.utils.multiclass import unique_labels\n",
    "from sklearn.metrics import accuracy_score, precision_score, recall_score, f1_score, fbeta_score, classification_report\n",
    "from sklearn.metrics import roc_curve, precision_recall_curve, roc_auc_score\n",
    "from sklearn.neighbors import KNeighborsClassifier\n",
    "from sklearn.ensemble import RandomForestClassifier\n"
   ]
  },
  {
   "cell_type": "code",
   "execution_count": 2,
   "metadata": {},
   "outputs": [],
   "source": [
    "telecom = pd.read_csv('telecomChurn.csv')"
   ]
  },
  {
   "cell_type": "code",
   "execution_count": 3,
   "metadata": {},
   "outputs": [
    {
     "data": {
      "text/html": [
       "<div>\n",
       "<style scoped>\n",
       "    .dataframe tbody tr th:only-of-type {\n",
       "        vertical-align: middle;\n",
       "    }\n",
       "\n",
       "    .dataframe tbody tr th {\n",
       "        vertical-align: top;\n",
       "    }\n",
       "\n",
       "    .dataframe thead th {\n",
       "        text-align: right;\n",
       "    }\n",
       "</style>\n",
       "<table border=\"1\" class=\"dataframe\">\n",
       "  <thead>\n",
       "    <tr style=\"text-align: right;\">\n",
       "      <th></th>\n",
       "      <th>customerID</th>\n",
       "      <th>gender</th>\n",
       "      <th>SeniorCitizen</th>\n",
       "      <th>Partner</th>\n",
       "      <th>Dependents</th>\n",
       "      <th>tenure</th>\n",
       "      <th>PhoneService</th>\n",
       "      <th>MultipleLines</th>\n",
       "      <th>InternetService</th>\n",
       "      <th>OnlineSecurity</th>\n",
       "      <th>...</th>\n",
       "      <th>DeviceProtection</th>\n",
       "      <th>TechSupport</th>\n",
       "      <th>StreamingTV</th>\n",
       "      <th>StreamingMovies</th>\n",
       "      <th>Contract</th>\n",
       "      <th>PaperlessBilling</th>\n",
       "      <th>PaymentMethod</th>\n",
       "      <th>MonthlyCharges</th>\n",
       "      <th>TotalCharges</th>\n",
       "      <th>Churn</th>\n",
       "    </tr>\n",
       "  </thead>\n",
       "  <tbody>\n",
       "    <tr>\n",
       "      <th>0</th>\n",
       "      <td>7590-VHVEG</td>\n",
       "      <td>Female</td>\n",
       "      <td>0</td>\n",
       "      <td>Yes</td>\n",
       "      <td>No</td>\n",
       "      <td>1</td>\n",
       "      <td>No</td>\n",
       "      <td>No phone service</td>\n",
       "      <td>DSL</td>\n",
       "      <td>No</td>\n",
       "      <td>...</td>\n",
       "      <td>No</td>\n",
       "      <td>No</td>\n",
       "      <td>No</td>\n",
       "      <td>No</td>\n",
       "      <td>Month-to-month</td>\n",
       "      <td>Yes</td>\n",
       "      <td>Electronic check</td>\n",
       "      <td>29.85</td>\n",
       "      <td>29.85</td>\n",
       "      <td>No</td>\n",
       "    </tr>\n",
       "    <tr>\n",
       "      <th>1</th>\n",
       "      <td>5575-GNVDE</td>\n",
       "      <td>Male</td>\n",
       "      <td>0</td>\n",
       "      <td>No</td>\n",
       "      <td>No</td>\n",
       "      <td>34</td>\n",
       "      <td>Yes</td>\n",
       "      <td>No</td>\n",
       "      <td>DSL</td>\n",
       "      <td>Yes</td>\n",
       "      <td>...</td>\n",
       "      <td>Yes</td>\n",
       "      <td>No</td>\n",
       "      <td>No</td>\n",
       "      <td>No</td>\n",
       "      <td>One year</td>\n",
       "      <td>No</td>\n",
       "      <td>Mailed check</td>\n",
       "      <td>56.95</td>\n",
       "      <td>1889.5</td>\n",
       "      <td>No</td>\n",
       "    </tr>\n",
       "    <tr>\n",
       "      <th>2</th>\n",
       "      <td>3668-QPYBK</td>\n",
       "      <td>Male</td>\n",
       "      <td>0</td>\n",
       "      <td>No</td>\n",
       "      <td>No</td>\n",
       "      <td>2</td>\n",
       "      <td>Yes</td>\n",
       "      <td>No</td>\n",
       "      <td>DSL</td>\n",
       "      <td>Yes</td>\n",
       "      <td>...</td>\n",
       "      <td>No</td>\n",
       "      <td>No</td>\n",
       "      <td>No</td>\n",
       "      <td>No</td>\n",
       "      <td>Month-to-month</td>\n",
       "      <td>Yes</td>\n",
       "      <td>Mailed check</td>\n",
       "      <td>53.85</td>\n",
       "      <td>108.15</td>\n",
       "      <td>Yes</td>\n",
       "    </tr>\n",
       "  </tbody>\n",
       "</table>\n",
       "<p>3 rows × 21 columns</p>\n",
       "</div>"
      ],
      "text/plain": [
       "   customerID  gender  SeniorCitizen Partner Dependents  tenure PhoneService  \\\n",
       "0  7590-VHVEG  Female              0     Yes         No       1           No   \n",
       "1  5575-GNVDE    Male              0      No         No      34          Yes   \n",
       "2  3668-QPYBK    Male              0      No         No       2          Yes   \n",
       "\n",
       "      MultipleLines InternetService OnlineSecurity  ... DeviceProtection  \\\n",
       "0  No phone service             DSL             No  ...               No   \n",
       "1                No             DSL            Yes  ...              Yes   \n",
       "2                No             DSL            Yes  ...               No   \n",
       "\n",
       "  TechSupport StreamingTV StreamingMovies        Contract PaperlessBilling  \\\n",
       "0          No          No              No  Month-to-month              Yes   \n",
       "1          No          No              No        One year               No   \n",
       "2          No          No              No  Month-to-month              Yes   \n",
       "\n",
       "      PaymentMethod MonthlyCharges  TotalCharges Churn  \n",
       "0  Electronic check          29.85         29.85    No  \n",
       "1      Mailed check          56.95        1889.5    No  \n",
       "2      Mailed check          53.85        108.15   Yes  \n",
       "\n",
       "[3 rows x 21 columns]"
      ]
     },
     "execution_count": 3,
     "metadata": {},
     "output_type": "execute_result"
    }
   ],
   "source": [
    "#viewing first 3 columns and rows\n",
    "telecom.head(3)"
   ]
  },
  {
   "cell_type": "code",
   "execution_count": 4,
   "metadata": {},
   "outputs": [
    {
     "data": {
      "text/plain": [
       "(7043, 21)"
      ]
     },
     "execution_count": 4,
     "metadata": {},
     "output_type": "execute_result"
    }
   ],
   "source": [
    "# 7,043 rows and 21 features\n",
    "telecom.shape"
   ]
  },
  {
   "cell_type": "code",
   "execution_count": 5,
   "metadata": {
    "scrolled": true
   },
   "outputs": [
    {
     "name": "stdout",
     "output_type": "stream",
     "text": [
      "customerID\n",
      "['7590-VHVEG' '5575-GNVDE' '3668-QPYBK' ... '4801-JZAZL' '8361-LTMKD'\n",
      " '3186-AJIEK']\n",
      "gender\n",
      "['Female' 'Male']\n",
      "SeniorCitizen\n",
      "[0 1]\n",
      "Partner\n",
      "['Yes' 'No']\n",
      "Dependents\n",
      "['No' 'Yes']\n",
      "tenure\n",
      "[ 1 34  2 45  8 22 10 28 62 13 16 58 49 25 69 52 71 21 12 30 47 72 17 27\n",
      "  5 46 11 70 63 43 15 60 18 66  9  3 31 50 64 56  7 42 35 48 29 65 38 68\n",
      " 32 55 37 36 41  6  4 33 67 23 57 61 14 20 53 40 59 24 44 19 54 51 26  0\n",
      " 39]\n",
      "PhoneService\n",
      "['No' 'Yes']\n",
      "MultipleLines\n",
      "['No phone service' 'No' 'Yes']\n",
      "InternetService\n",
      "['DSL' 'Fiber optic' 'No']\n",
      "OnlineSecurity\n",
      "['No' 'Yes' 'No internet service']\n",
      "OnlineBackup\n",
      "['Yes' 'No' 'No internet service']\n",
      "DeviceProtection\n",
      "['No' 'Yes' 'No internet service']\n",
      "TechSupport\n",
      "['No' 'Yes' 'No internet service']\n",
      "StreamingTV\n",
      "['No' 'Yes' 'No internet service']\n",
      "StreamingMovies\n",
      "['No' 'Yes' 'No internet service']\n",
      "Contract\n",
      "['Month-to-month' 'One year' 'Two year']\n",
      "PaperlessBilling\n",
      "['Yes' 'No']\n",
      "PaymentMethod\n",
      "['Electronic check' 'Mailed check' 'Bank transfer (automatic)'\n",
      " 'Credit card (automatic)']\n",
      "MonthlyCharges\n",
      "[29.85 56.95 53.85 ... 63.1  44.2  78.7 ]\n",
      "TotalCharges\n",
      "['29.85' '1889.5' '108.15' ... '346.45' '306.6' '6844.5']\n",
      "Churn\n",
      "['No' 'Yes']\n"
     ]
    }
   ],
   "source": [
    "# we look at the unique values in columns\n",
    "for item in telecom.columns:\n",
    "    print(item)\n",
    "    print (telecom[item].unique())"
   ]
  },
  {
   "cell_type": "code",
   "execution_count": 6,
   "metadata": {},
   "outputs": [
    {
     "data": {
      "text/plain": [
       "Index(['customerID', 'gender', 'SeniorCitizen', 'Partner', 'Dependents',\n",
       "       'tenure', 'PhoneService', 'MultipleLines', 'InternetService',\n",
       "       'OnlineSecurity', 'OnlineBackup', 'DeviceProtection', 'TechSupport',\n",
       "       'StreamingTV', 'StreamingMovies', 'Contract', 'PaperlessBilling',\n",
       "       'PaymentMethod', 'MonthlyCharges', 'TotalCharges', 'Churn'],\n",
       "      dtype='object')"
      ]
     },
     "execution_count": 6,
     "metadata": {},
     "output_type": "execute_result"
    }
   ],
   "source": [
    "#key columns\n",
    "telecom.keys()"
   ]
  },
  {
   "cell_type": "code",
   "execution_count": 7,
   "metadata": {
    "scrolled": true
   },
   "outputs": [
    {
     "data": {
      "text/plain": [
       "customerID           object\n",
       "gender               object\n",
       "SeniorCitizen         int64\n",
       "Partner              object\n",
       "Dependents           object\n",
       "tenure                int64\n",
       "PhoneService         object\n",
       "MultipleLines        object\n",
       "InternetService      object\n",
       "OnlineSecurity       object\n",
       "OnlineBackup         object\n",
       "DeviceProtection     object\n",
       "TechSupport          object\n",
       "StreamingTV          object\n",
       "StreamingMovies      object\n",
       "Contract             object\n",
       "PaperlessBilling     object\n",
       "PaymentMethod        object\n",
       "MonthlyCharges      float64\n",
       "TotalCharges         object\n",
       "Churn                object\n",
       "dtype: object"
      ]
     },
     "execution_count": 7,
     "metadata": {},
     "output_type": "execute_result"
    }
   ],
   "source": [
    "# Checking the data types of all the columns\n",
    "# It seems majority of our data is categorical\n",
    "telecom.dtypes"
   ]
  },
  {
   "cell_type": "code",
   "execution_count": 8,
   "metadata": {},
   "outputs": [
    {
     "name": "stdout",
     "output_type": "stream",
     "text": [
      "      customerID  gender  SeniorCitizen Partner Dependents  tenure  \\\n",
      "0     7590-VHVEG  Female              0     Yes         No       1   \n",
      "1     5575-GNVDE    Male              0      No         No      34   \n",
      "2     3668-QPYBK    Male              0      No         No       2   \n",
      "3     7795-CFOCW    Male              0      No         No      45   \n",
      "4     9237-HQITU  Female              0      No         No       2   \n",
      "5     9305-CDSKC  Female              0      No         No       8   \n",
      "6     1452-KIOVK    Male              0      No        Yes      22   \n",
      "7     6713-OKOMC  Female              0      No         No      10   \n",
      "8     7892-POOKP  Female              0     Yes         No      28   \n",
      "9     6388-TABGU    Male              0      No        Yes      62   \n",
      "10    9763-GRSKD    Male              0     Yes        Yes      13   \n",
      "11    7469-LKBCI    Male              0      No         No      16   \n",
      "12    8091-TTVAX    Male              0     Yes         No      58   \n",
      "13    0280-XJGEX    Male              0      No         No      49   \n",
      "14    5129-JLPIS    Male              0      No         No      25   \n",
      "15    3655-SNQYZ  Female              0     Yes        Yes      69   \n",
      "16    8191-XWSZG  Female              0      No         No      52   \n",
      "17    9959-WOFKT    Male              0      No        Yes      71   \n",
      "18    4190-MFLUW  Female              0     Yes        Yes      10   \n",
      "19    4183-MYFRB  Female              0      No         No      21   \n",
      "20    8779-QRDMV    Male              1      No         No       1   \n",
      "21    1680-VDCWW    Male              0     Yes         No      12   \n",
      "22    1066-JKSGK    Male              0      No         No       1   \n",
      "23    3638-WEABW  Female              0     Yes         No      58   \n",
      "24    6322-HRPFA    Male              0     Yes        Yes      49   \n",
      "25    6865-JZNKO  Female              0      No         No      30   \n",
      "26    6467-CHFZW    Male              0     Yes        Yes      47   \n",
      "27    8665-UTDHZ    Male              0     Yes        Yes       1   \n",
      "28    5248-YGIJN    Male              0     Yes         No      72   \n",
      "29    8773-HHUOZ  Female              0      No        Yes      17   \n",
      "...          ...     ...            ...     ...        ...     ...   \n",
      "7013  1685-BQULA  Female              0      No         No      40   \n",
      "7014  9053-EJUNL    Male              0      No         No      41   \n",
      "7015  0666-UXTJO    Male              1     Yes         No      34   \n",
      "7016  1471-GIQKQ  Female              0      No         No       1   \n",
      "7017  4807-IZYOZ  Female              0      No         No      51   \n",
      "7018  1122-JWTJW    Male              0     Yes        Yes       1   \n",
      "7019  9710-NJERN  Female              0      No         No      39   \n",
      "7020  9837-FWLCH    Male              0     Yes        Yes      12   \n",
      "7021  1699-HPSBG    Male              0      No         No      12   \n",
      "7022  7203-OYKCT    Male              0      No         No      72   \n",
      "7023  1035-IPQPU  Female              1     Yes         No      63   \n",
      "7024  7398-LXGYX    Male              0     Yes         No      44   \n",
      "7025  2823-LKABH  Female              0      No         No      18   \n",
      "7026  8775-CEBBJ  Female              0      No         No       9   \n",
      "7027  0550-DCXLH    Male              0      No         No      13   \n",
      "7028  9281-CEDRU  Female              0     Yes         No      68   \n",
      "7029  2235-DWLJU  Female              1      No         No       6   \n",
      "7030  0871-OPBXW  Female              0      No         No       2   \n",
      "7031  3605-JISKB    Male              1     Yes         No      55   \n",
      "7032  6894-LFHLY    Male              1      No         No       1   \n",
      "7033  9767-FFLEM    Male              0      No         No      38   \n",
      "7034  0639-TSIQW  Female              0      No         No      67   \n",
      "7035  8456-QDAVC    Male              0      No         No      19   \n",
      "7036  7750-EYXWZ  Female              0      No         No      12   \n",
      "7037  2569-WGERO  Female              0      No         No      72   \n",
      "7038  6840-RESVB    Male              0     Yes        Yes      24   \n",
      "7039  2234-XADUH  Female              0     Yes        Yes      72   \n",
      "7040  4801-JZAZL  Female              0     Yes        Yes      11   \n",
      "7041  8361-LTMKD    Male              1     Yes         No       4   \n",
      "7042  3186-AJIEK    Male              0      No         No      66   \n",
      "\n",
      "     PhoneService     MultipleLines InternetService       OnlineSecurity  ...  \\\n",
      "0              No  No phone service             DSL                   No  ...   \n",
      "1             Yes                No             DSL                  Yes  ...   \n",
      "2             Yes                No             DSL                  Yes  ...   \n",
      "3              No  No phone service             DSL                  Yes  ...   \n",
      "4             Yes                No     Fiber optic                   No  ...   \n",
      "5             Yes               Yes     Fiber optic                   No  ...   \n",
      "6             Yes               Yes     Fiber optic                   No  ...   \n",
      "7              No  No phone service             DSL                  Yes  ...   \n",
      "8             Yes               Yes     Fiber optic                   No  ...   \n",
      "9             Yes                No             DSL                  Yes  ...   \n",
      "10            Yes                No             DSL                  Yes  ...   \n",
      "11            Yes                No              No  No internet service  ...   \n",
      "12            Yes               Yes     Fiber optic                   No  ...   \n",
      "13            Yes               Yes     Fiber optic                   No  ...   \n",
      "14            Yes                No     Fiber optic                  Yes  ...   \n",
      "15            Yes               Yes     Fiber optic                  Yes  ...   \n",
      "16            Yes                No              No  No internet service  ...   \n",
      "17            Yes               Yes     Fiber optic                  Yes  ...   \n",
      "18            Yes                No             DSL                   No  ...   \n",
      "19            Yes                No     Fiber optic                   No  ...   \n",
      "20             No  No phone service             DSL                   No  ...   \n",
      "21            Yes                No              No  No internet service  ...   \n",
      "22            Yes                No              No  No internet service  ...   \n",
      "23            Yes               Yes             DSL                   No  ...   \n",
      "24            Yes                No             DSL                  Yes  ...   \n",
      "25            Yes                No             DSL                  Yes  ...   \n",
      "26            Yes               Yes     Fiber optic                   No  ...   \n",
      "27             No  No phone service             DSL                   No  ...   \n",
      "28            Yes               Yes             DSL                  Yes  ...   \n",
      "29            Yes                No             DSL                   No  ...   \n",
      "...           ...               ...             ...                  ...  ...   \n",
      "7013          Yes               Yes     Fiber optic                   No  ...   \n",
      "7014          Yes               Yes     Fiber optic                   No  ...   \n",
      "7015          Yes                No     Fiber optic                   No  ...   \n",
      "7016          Yes                No             DSL                   No  ...   \n",
      "7017          Yes                No              No  No internet service  ...   \n",
      "7018          Yes                No     Fiber optic                   No  ...   \n",
      "7019          Yes                No              No  No internet service  ...   \n",
      "7020          Yes                No              No  No internet service  ...   \n",
      "7021          Yes                No             DSL                   No  ...   \n",
      "7022          Yes               Yes     Fiber optic                   No  ...   \n",
      "7023          Yes               Yes     Fiber optic                   No  ...   \n",
      "7024          Yes               Yes     Fiber optic                  Yes  ...   \n",
      "7025          Yes               Yes     Fiber optic                   No  ...   \n",
      "7026          Yes                No             DSL                   No  ...   \n",
      "7027          Yes                No             DSL                   No  ...   \n",
      "7028          Yes                No             DSL                   No  ...   \n",
      "7029           No  No phone service             DSL                   No  ...   \n",
      "7030          Yes                No              No  No internet service  ...   \n",
      "7031          Yes               Yes             DSL                  Yes  ...   \n",
      "7032          Yes               Yes     Fiber optic                   No  ...   \n",
      "7033          Yes                No     Fiber optic                   No  ...   \n",
      "7034          Yes               Yes     Fiber optic                  Yes  ...   \n",
      "7035          Yes                No     Fiber optic                   No  ...   \n",
      "7036           No  No phone service             DSL                   No  ...   \n",
      "7037          Yes                No              No  No internet service  ...   \n",
      "7038          Yes               Yes             DSL                  Yes  ...   \n",
      "7039          Yes               Yes     Fiber optic                   No  ...   \n",
      "7040           No  No phone service             DSL                  Yes  ...   \n",
      "7041          Yes               Yes     Fiber optic                   No  ...   \n",
      "7042          Yes                No     Fiber optic                  Yes  ...   \n",
      "\n",
      "         DeviceProtection          TechSupport          StreamingTV  \\\n",
      "0                      No                   No                   No   \n",
      "1                     Yes                   No                   No   \n",
      "2                      No                   No                   No   \n",
      "3                     Yes                  Yes                   No   \n",
      "4                      No                   No                   No   \n",
      "5                     Yes                   No                  Yes   \n",
      "6                      No                   No                  Yes   \n",
      "7                      No                   No                   No   \n",
      "8                     Yes                  Yes                  Yes   \n",
      "9                      No                   No                   No   \n",
      "10                     No                   No                   No   \n",
      "11    No internet service  No internet service  No internet service   \n",
      "12                    Yes                   No                  Yes   \n",
      "13                    Yes                   No                  Yes   \n",
      "14                    Yes                  Yes                  Yes   \n",
      "15                    Yes                  Yes                  Yes   \n",
      "16    No internet service  No internet service  No internet service   \n",
      "17                    Yes                   No                  Yes   \n",
      "18                    Yes                  Yes                   No   \n",
      "19                    Yes                   No                   No   \n",
      "20                    Yes                   No                   No   \n",
      "21    No internet service  No internet service  No internet service   \n",
      "22    No internet service  No internet service  No internet service   \n",
      "23                     No                  Yes                   No   \n",
      "24                     No                  Yes                   No   \n",
      "25                     No                   No                   No   \n",
      "26                     No                   No                  Yes   \n",
      "27                     No                   No                   No   \n",
      "28                    Yes                  Yes                  Yes   \n",
      "29                     No                   No                  Yes   \n",
      "...                   ...                  ...                  ...   \n",
      "7013                  Yes                   No                  Yes   \n",
      "7014                   No                   No                  Yes   \n",
      "7015                  Yes                   No                  Yes   \n",
      "7016                   No                   No                   No   \n",
      "7017  No internet service  No internet service  No internet service   \n",
      "7018                   No                   No                   No   \n",
      "7019  No internet service  No internet service  No internet service   \n",
      "7020  No internet service  No internet service  No internet service   \n",
      "7021                   No                  Yes                  Yes   \n",
      "7022                  Yes                   No                  Yes   \n",
      "7023                  Yes                   No                  Yes   \n",
      "7024                  Yes                   No                   No   \n",
      "7025                  Yes                  Yes                   No   \n",
      "7026                   No                   No                   No   \n",
      "7027                   No                  Yes                  Yes   \n",
      "7028                   No                  Yes                  Yes   \n",
      "7029                   No                   No                  Yes   \n",
      "7030  No internet service  No internet service  No internet service   \n",
      "7031                   No                   No                   No   \n",
      "7032                   No                   No                   No   \n",
      "7033                   No                   No                   No   \n",
      "7034                  Yes                   No                  Yes   \n",
      "7035                   No                   No                  Yes   \n",
      "7036                  Yes                  Yes                  Yes   \n",
      "7037  No internet service  No internet service  No internet service   \n",
      "7038                  Yes                  Yes                  Yes   \n",
      "7039                  Yes                   No                  Yes   \n",
      "7040                   No                   No                   No   \n",
      "7041                   No                   No                   No   \n",
      "7042                  Yes                  Yes                  Yes   \n",
      "\n",
      "          StreamingMovies        Contract PaperlessBilling  \\\n",
      "0                      No  Month-to-month              Yes   \n",
      "1                      No        One year               No   \n",
      "2                      No  Month-to-month              Yes   \n",
      "3                      No        One year               No   \n",
      "4                      No  Month-to-month              Yes   \n",
      "5                     Yes  Month-to-month              Yes   \n",
      "6                      No  Month-to-month              Yes   \n",
      "7                      No  Month-to-month               No   \n",
      "8                     Yes  Month-to-month              Yes   \n",
      "9                      No        One year               No   \n",
      "10                     No  Month-to-month              Yes   \n",
      "11    No internet service        Two year               No   \n",
      "12                    Yes        One year               No   \n",
      "13                    Yes  Month-to-month              Yes   \n",
      "14                    Yes  Month-to-month              Yes   \n",
      "15                    Yes        Two year               No   \n",
      "16    No internet service        One year               No   \n",
      "17                    Yes        Two year               No   \n",
      "18                     No  Month-to-month               No   \n",
      "19                    Yes  Month-to-month              Yes   \n",
      "20                    Yes  Month-to-month              Yes   \n",
      "21    No internet service        One year               No   \n",
      "22    No internet service  Month-to-month               No   \n",
      "23                     No        Two year              Yes   \n",
      "24                     No  Month-to-month               No   \n",
      "25                     No  Month-to-month              Yes   \n",
      "26                    Yes  Month-to-month              Yes   \n",
      "27                     No  Month-to-month               No   \n",
      "28                    Yes        Two year              Yes   \n",
      "29                    Yes  Month-to-month              Yes   \n",
      "...                   ...             ...              ...   \n",
      "7013                   No  Month-to-month              Yes   \n",
      "7014                   No  Month-to-month              Yes   \n",
      "7015                   No  Month-to-month              Yes   \n",
      "7016                   No  Month-to-month               No   \n",
      "7017  No internet service        Two year               No   \n",
      "7018                   No  Month-to-month              Yes   \n",
      "7019  No internet service        Two year               No   \n",
      "7020  No internet service  Month-to-month              Yes   \n",
      "7021                   No        One year              Yes   \n",
      "7022                  Yes        One year              Yes   \n",
      "7023                  Yes  Month-to-month              Yes   \n",
      "7024                   No  Month-to-month              Yes   \n",
      "7025                  Yes  Month-to-month              Yes   \n",
      "7026                   No  Month-to-month              Yes   \n",
      "7027                  Yes  Month-to-month               No   \n",
      "7028                   No        Two year               No   \n",
      "7029                  Yes  Month-to-month              Yes   \n",
      "7030  No internet service  Month-to-month              Yes   \n",
      "7031                   No        One year               No   \n",
      "7032                   No  Month-to-month              Yes   \n",
      "7033                   No  Month-to-month              Yes   \n",
      "7034                   No  Month-to-month              Yes   \n",
      "7035                   No  Month-to-month              Yes   \n",
      "7036                  Yes        One year               No   \n",
      "7037  No internet service        Two year              Yes   \n",
      "7038                  Yes        One year              Yes   \n",
      "7039                  Yes        One year              Yes   \n",
      "7040                   No  Month-to-month              Yes   \n",
      "7041                   No  Month-to-month              Yes   \n",
      "7042                  Yes        Two year              Yes   \n",
      "\n",
      "                  PaymentMethod MonthlyCharges  TotalCharges Churn  \n",
      "0              Electronic check          29.85         29.85    No  \n",
      "1                  Mailed check          56.95        1889.5    No  \n",
      "2                  Mailed check          53.85        108.15   Yes  \n",
      "3     Bank transfer (automatic)          42.30       1840.75    No  \n",
      "4              Electronic check          70.70        151.65   Yes  \n",
      "5              Electronic check          99.65         820.5   Yes  \n",
      "6       Credit card (automatic)          89.10        1949.4    No  \n",
      "7                  Mailed check          29.75         301.9    No  \n",
      "8              Electronic check         104.80       3046.05   Yes  \n",
      "9     Bank transfer (automatic)          56.15       3487.95    No  \n",
      "10                 Mailed check          49.95        587.45    No  \n",
      "11      Credit card (automatic)          18.95         326.8    No  \n",
      "12      Credit card (automatic)         100.35        5681.1    No  \n",
      "13    Bank transfer (automatic)         103.70        5036.3   Yes  \n",
      "14             Electronic check         105.50       2686.05    No  \n",
      "15      Credit card (automatic)         113.25       7895.15    No  \n",
      "16                 Mailed check          20.65       1022.95    No  \n",
      "17    Bank transfer (automatic)         106.70       7382.25    No  \n",
      "18      Credit card (automatic)          55.20        528.35   Yes  \n",
      "19             Electronic check          90.05        1862.9    No  \n",
      "20             Electronic check          39.65         39.65   Yes  \n",
      "21    Bank transfer (automatic)          19.80        202.25    No  \n",
      "22                 Mailed check          20.15         20.15   Yes  \n",
      "23      Credit card (automatic)          59.90        3505.1    No  \n",
      "24      Credit card (automatic)          59.60        2970.3    No  \n",
      "25    Bank transfer (automatic)          55.30        1530.6    No  \n",
      "26             Electronic check          99.35       4749.15   Yes  \n",
      "27             Electronic check          30.20          30.2   Yes  \n",
      "28      Credit card (automatic)          90.25       6369.45    No  \n",
      "29                 Mailed check          64.70        1093.1   Yes  \n",
      "...                         ...            ...           ...   ...  \n",
      "7013  Bank transfer (automatic)          93.40        3756.4    No  \n",
      "7014           Electronic check          89.20       3645.75    No  \n",
      "7015    Credit card (automatic)          85.20       2874.45    No  \n",
      "7016           Electronic check          49.95         49.95    No  \n",
      "7017  Bank transfer (automatic)          20.65       1020.75    No  \n",
      "7018               Mailed check          70.65         70.65   Yes  \n",
      "7019               Mailed check          20.15           826    No  \n",
      "7020           Electronic check          19.20           239    No  \n",
      "7021           Electronic check          59.80         727.8   Yes  \n",
      "7022           Electronic check         104.95        7544.3    No  \n",
      "7023           Electronic check         103.50        6479.4    No  \n",
      "7024    Credit card (automatic)          84.80       3626.35    No  \n",
      "7025  Bank transfer (automatic)          95.05        1679.4    No  \n",
      "7026  Bank transfer (automatic)          44.20        403.35   Yes  \n",
      "7027               Mailed check          73.35        931.55    No  \n",
      "7028  Bank transfer (automatic)          64.10       4326.25    No  \n",
      "7029           Electronic check          44.40        263.05    No  \n",
      "7030               Mailed check          20.05         39.25    No  \n",
      "7031    Credit card (automatic)          60.00        3316.1    No  \n",
      "7032           Electronic check          75.75         75.75   Yes  \n",
      "7033    Credit card (automatic)          69.50       2625.25    No  \n",
      "7034    Credit card (automatic)         102.95       6886.25   Yes  \n",
      "7035  Bank transfer (automatic)          78.70        1495.1    No  \n",
      "7036           Electronic check          60.65         743.3    No  \n",
      "7037  Bank transfer (automatic)          21.15        1419.4    No  \n",
      "7038               Mailed check          84.80        1990.5    No  \n",
      "7039    Credit card (automatic)         103.20        7362.9    No  \n",
      "7040           Electronic check          29.60        346.45    No  \n",
      "7041               Mailed check          74.40         306.6   Yes  \n",
      "7042  Bank transfer (automatic)         105.65        6844.5    No  \n",
      "\n",
      "[7043 rows x 21 columns]\n",
      "The number of numerical columns is 3\n"
     ]
    }
   ],
   "source": [
    "# disply int and float columns with unique cat \n",
    "numeric_columns = telecom.select_dtypes(['int64', 'float64']).columns\n",
    "print(telecom)\n",
    "print(\"The number of numerical columns is {}\".format(len(numeric_columns)))"
   ]
  },
  {
   "cell_type": "code",
   "execution_count": 9,
   "metadata": {},
   "outputs": [
    {
     "data": {
      "text/plain": [
       "customerID          0\n",
       "gender              0\n",
       "SeniorCitizen       0\n",
       "Partner             0\n",
       "Dependents          0\n",
       "tenure              0\n",
       "PhoneService        0\n",
       "MultipleLines       0\n",
       "InternetService     0\n",
       "OnlineSecurity      0\n",
       "OnlineBackup        0\n",
       "DeviceProtection    0\n",
       "TechSupport         0\n",
       "StreamingTV         0\n",
       "StreamingMovies     0\n",
       "Contract            0\n",
       "PaperlessBilling    0\n",
       "PaymentMethod       0\n",
       "MonthlyCharges      0\n",
       "TotalCharges        0\n",
       "Churn               0\n",
       "dtype: int64"
      ]
     },
     "execution_count": 9,
     "metadata": {},
     "output_type": "execute_result"
    }
   ],
   "source": [
    "#checking for null \n",
    "telecom.isnull().sum()"
   ]
  },
  {
   "cell_type": "code",
   "execution_count": 10,
   "metadata": {},
   "outputs": [
    {
     "data": {
      "text/plain": [
       "customerID          0.0\n",
       "gender              0.0\n",
       "SeniorCitizen       0.0\n",
       "Partner             0.0\n",
       "Dependents          0.0\n",
       "tenure              0.0\n",
       "PhoneService        0.0\n",
       "MultipleLines       0.0\n",
       "InternetService     0.0\n",
       "OnlineSecurity      0.0\n",
       "OnlineBackup        0.0\n",
       "DeviceProtection    0.0\n",
       "TechSupport         0.0\n",
       "StreamingTV         0.0\n",
       "StreamingMovies     0.0\n",
       "Contract            0.0\n",
       "PaperlessBilling    0.0\n",
       "PaymentMethod       0.0\n",
       "MonthlyCharges      0.0\n",
       "TotalCharges        0.0\n",
       "Churn               0.0\n",
       "dtype: float64"
      ]
     },
     "execution_count": 10,
     "metadata": {},
     "output_type": "execute_result"
    }
   ],
   "source": [
    "telecom.isnull().sum()/telecom.isnull().count()"
   ]
  },
  {
   "cell_type": "code",
   "execution_count": 11,
   "metadata": {},
   "outputs": [
    {
     "name": "stdout",
     "output_type": "stream",
     "text": [
      "Index(['customerID', 'gender', 'Partner', 'Dependents', 'PhoneService',\n",
      "       'MultipleLines', 'InternetService', 'OnlineSecurity', 'OnlineBackup',\n",
      "       'DeviceProtection', 'TechSupport', 'StreamingTV', 'StreamingMovies',\n",
      "       'Contract', 'PaperlessBilling', 'PaymentMethod', 'TotalCharges',\n",
      "       'Churn'],\n",
      "      dtype='object')\n",
      "The number of non-numerical columns is 18\n"
     ]
    }
   ],
   "source": [
    "non_numeric_columns = telecom.select_dtypes(['object']).columns\n",
    "print(non_numeric_columns)\n",
    "print(\"The number of non-numerical columns is {}\".format(len(non_numeric_columns)))"
   ]
  },
  {
   "cell_type": "markdown",
   "metadata": {},
   "source": [
    "# 1) What are some factors that lead to customer churn?"
   ]
  },
  {
   "cell_type": "code",
   "execution_count": 12,
   "metadata": {},
   "outputs": [
    {
     "data": {
      "text/plain": [
       "([<matplotlib.patches.Wedge at 0x1a1f6bb3c8>,\n",
       "  <matplotlib.patches.Wedge at 0x1a1f6bbac8>],\n",
       " [Text(-0.7393678277834755, 0.8144539368428058, 'No'),\n",
       "  Text(0.7393677515287918, -0.8144540060674139, 'Yes')],\n",
       " [Text(-0.40329154242735027, 0.44424760191425766, '73.5%'),\n",
       "  Text(0.4032915008338864, -0.4442476396731348, '26.5%')])"
      ]
     },
     "execution_count": 12,
     "metadata": {},
     "output_type": "execute_result"
    },
    {
     "data": {
      "image/png": "[encoded data removed]",
      "text/plain": [
       "<Figure size 432x288 with 1 Axes>"
      ]
     },
     "metadata": {
      "needs_background": "light"
     },
     "output_type": "display_data"
    },
    {
     "data": {
      "image/png": "[encoded data removed]",
      "text/plain": [
       "<Figure size 720x576 with 1 Axes>"
      ]
     },
     "metadata": {},
     "output_type": "display_data"
    }
   ],
   "source": [
    "# Plot distribution of target variable which is the Churn column\n",
    "\n",
    "\n",
    "telecom['Churn'].value_counts().head().plot.bar()   # To generate a bar plot\n",
    "\n",
    "# To generate a pie chart. Since there are only two classes, a pie chart\n",
    "sizes = telecom['Churn'].value_counts(sort = True)\n",
    "labels = np.unique(telecom.Churn)\n",
    "\n",
    "# Visualize the data\n",
    "plt.figure(figsize = (10,8))\n",
    "plt.subplot(212)\n",
    "plt.title(\"Customer churn rate:\")\n",
    "plt.pie(sizes, labels = labels, autopct='%1.1f%%')\n",
    "\n",
    "# Bar & pie plots below show that number of customers churned is less than half of not churned."
   ]
  },
  {
   "cell_type": "markdown",
   "metadata": {},
   "source": [
    "Our graph shows customer churn is almost 2,000 customers that remain with Teleo is just above 5,000. The pie chart shows 73.5% customers remain and 26.5% churn"
   ]
  },
  {
   "cell_type": "code",
   "execution_count": 13,
   "metadata": {},
   "outputs": [
    {
     "data": {
      "image/png": "[encoded data removed]",
      "text/plain": [
       "<Figure size 1080x432 with 1 Axes>"
      ]
     },
     "metadata": {
      "needs_background": "light"
     },
     "output_type": "display_data"
    }
   ],
   "source": [
    "plt.figure(figsize=(15,6))\n",
    "ax=sns.countplot(x='Contract',hue='Churn', data=telecom)\n",
    "ax.set_xticklabels(ax.get_xticklabels(), rotation=25, ha=\"right\" )\n",
    "plt.show()"
   ]
  },
  {
   "cell_type": "markdown",
   "metadata": {},
   "source": [
    "our above graph displays contrats customers choose with Teleco. Those who choose month to month are prone to churn compared to one year and two years."
   ]
  },
  {
   "cell_type": "code",
   "execution_count": 14,
   "metadata": {},
   "outputs": [
    {
     "data": {
      "image/png": "[encoded data removed]",
      "text/plain": [
       "<Figure size 720x576 with 2 Axes>"
      ]
     },
     "metadata": {
      "needs_background": "light"
     },
     "output_type": "display_data"
    }
   ],
   "source": [
    "telecom['MonthlyCharges'] = telecom['MonthlyCharges'].replace(\" \", 0).astype('float32')\n",
    "\n",
    "fig, ax = plt.subplots(2, 1, figsize=(10,8), sharey=True, sharex=True)\n",
    "\n",
    "# we see the difference between monthly charges as we compare churn and non churn\n",
    "telecom['MonthlyCharges'] = telecom['MonthlyCharges'].replace(\" \", 0).astype('float32')\n",
    "sns.distplot(telecom[telecom['Churn']==\"Yes\"][\"MonthlyCharges\"] , color=\"red\", ax=ax[0])\n",
    "sns.distplot(telecom[telecom['Churn']==\"No\"][\"MonthlyCharges\"] , color=\"green\", ax=ax[1])\n",
    "        \n",
    "ax[0].set_xlabel('Churn - Yes', size=15, color=\"red\")\n",
    "ax[1].set_xlabel('Churn - No', size=15, color=\"green\")\n",
    "\n",
    "fig.suptitle(\"Monthly Charges distribution\", fontsize=16)\n",
    "plt.show()"
   ]
  },
  {
   "cell_type": "markdown",
   "metadata": {},
   "source": [
    "In the distribution above we notice customers who leave Teleo service pays more for their service monthly as majority of our data falls between 70 dollars and 120 dollars.\n",
    "\n",
    "According to our distribution in green, customers who remain with Teleco pays much less monthly. We observe many customers pays $20 for service compared to customers who are churn."
   ]
  },
  {
   "cell_type": "code",
   "execution_count": 15,
   "metadata": {},
   "outputs": [
    {
     "data": {
      "image/png": "[encoded data removed]",
      "text/plain": [
       "<Figure size 720x576 with 2 Axes>"
      ]
     },
     "metadata": {
      "needs_background": "light"
     },
     "output_type": "display_data"
    }
   ],
   "source": [
    "telecom['TotalCharges'] = telecom['TotalCharges'].replace(\" \", 0).astype('float32')\n",
    "\n",
    "\n",
    "fig, ax = plt.subplots(2, 1, figsize=(10,8), sharey=True, sharex=True)\n",
    "\n",
    "sns.distplot(telecom[telecom['Churn']==\"Yes\"][\"TotalCharges\"] , color=\"red\", ax=ax[0])\n",
    "sns.distplot(telecom[telecom['Churn']==\"No\"][\"TotalCharges\"] , color=\"green\", ax=ax[1])\n",
    "        \n",
    "ax[0].set_xlabel('Churn - Yes', size=12, color=\"#800000\")\n",
    "ax[1].set_xlabel('Churn - No', size=12, color=\"green\")\n",
    "\n",
    "fig.suptitle(\"Total Charges distribution\", fontsize=16)\n",
    "plt.show()"
   ]
  },
  {
   "cell_type": "markdown",
   "metadata": {},
   "source": [
    "Next we look at our total charges distribution. Customers who are churn pays much more than those who remain with teleco. This could be because of month to month contracts churn customers choosed."
   ]
  },
  {
   "cell_type": "markdown",
   "metadata": {},
   "source": [
    "# 2 Which group of customer are more likely to be churn?"
   ]
  },
  {
   "cell_type": "code",
   "execution_count": 16,
   "metadata": {},
   "outputs": [
    {
     "data": {
      "text/plain": [
       "Text(0, 0.5, 'Monthly Charges')"
      ]
     },
     "execution_count": 16,
     "metadata": {},
     "output_type": "execute_result"
    },
    {
     "data": {
      "image/png": "[encoded data removed]",
      "text/plain": [
       "<Figure size 1080x432 with 1 Axes>"
      ]
     },
     "metadata": {
      "needs_background": "light"
     },
     "output_type": "display_data"
    }
   ],
   "source": [
    "fig = plt.figure(figsize=(15,6))\n",
    "sns.boxplot(x=\"SeniorCitizen\",y=\"MonthlyCharges\",data=telecom, hue=\"Churn\")\n",
    "plt.title(\"Senior Citizens and Churn Rate\", fontsize=20)\n",
    "plt.xlabel(\"Senior citizens\", fontsize=10)\n",
    "plt.ylabel(\"Monthly Charges\", fontsize=10)"
   ]
  },
  {
   "cell_type": "markdown",
   "metadata": {},
   "source": [
    "According to our box graph more senior citizens who remains with Teleco pays just over 80 dollars and those who leave Teleco pays around 85 to 90 dollars."
   ]
  },
  {
   "cell_type": "code",
   "execution_count": 17,
   "metadata": {},
   "outputs": [
    {
     "data": {
      "image/png": "[encoded data removed]",
      "text/plain": [
       "<Figure size 432x288 with 1 Axes>"
      ]
     },
     "metadata": {
      "needs_background": "light"
     },
     "output_type": "display_data"
    }
   ],
   "source": [
    "from numpy import median\n",
    "sns.barplot(x='Churn', y='MonthlyCharges', hue= 'gender',data=telecom, estimator=median)\n",
    "plt.show()"
   ]
  },
  {
   "cell_type": "markdown",
   "metadata": {},
   "source": [
    "In our gender and total charges columns in corrolation with churn. For both males and females who are chun paid 20 dollars more then non chun customers. In both cases, the number of both genders are equal."
   ]
  },
  {
   "cell_type": "code",
   "execution_count": 21,
   "metadata": {},
   "outputs": [
    {
     "name": "stdout",
     "output_type": "stream",
     "text": [
      "Churn     No   Yes   All\n",
      "gender                  \n",
      "Female  2549   939  3488\n",
      "Male    2625   930  3555\n",
      "All     5174  1869  7043\n"
     ]
    },
    {
     "data": {
      "image/png": "[encoded data removed]",
      "text/plain": [
       "<Figure size 504x360 with 1 Axes>"
      ]
     },
     "metadata": {
      "needs_background": "light"
     },
     "output_type": "display_data"
    }
   ],
   "source": [
    "# now we start comparing\n",
    "# gender vs churn\n",
    "print(pd.crosstab(telecom.gender,telecom.Churn,margins=True))\n",
    "pd.crosstab(telecom.gender,telecom.Churn,margins=True).plot(kind='bar',figsize=(7,5));"
   ]
  },
  {
   "cell_type": "code",
   "execution_count": 22,
   "metadata": {},
   "outputs": [
    {
     "data": {
      "text/plain": [
       "<matplotlib.axes._subplots.AxesSubplot at 0x1a2049c240>"
      ]
     },
     "execution_count": 22,
     "metadata": {},
     "output_type": "execute_result"
    },
    {
     "data": {
      "image/png": "[encoded data removed]",
      "text/plain": [
       "<Figure size 1152x504 with 1 Axes>"
      ]
     },
     "metadata": {
      "needs_background": "light"
     },
     "output_type": "display_data"
    }
   ],
   "source": [
    "telecom.tenure.value_counts(normalize=True).plot(kind='bar',figsize=(16,7))"
   ]
  },
  {
   "cell_type": "markdown",
   "metadata": {},
   "source": [
    "# 3) How are different services related to customer churn?"
   ]
  },
  {
   "cell_type": "code",
   "execution_count": 23,
   "metadata": {},
   "outputs": [
    {
     "data": {
      "image/png": "[encoded data removed]",
      "text/plain": [
       "<Figure size 1152.62x360 with 3 Axes>"
      ]
     },
     "metadata": {
      "needs_background": "light"
     },
     "output_type": "display_data"
    }
   ],
   "source": [
    "telecom['InternetService'] = pd.cut(telecom['tenure'], 3, labels=['DSL', 'Fiber optics', 'No'])\n",
    "sns.catplot(x ='Churn', y = 'MonthlyCharges', hue = 'gender',col = 'InternetService', kind = 'box', data = telecom)\n",
    "plt.show()"
   ]
  },
  {
   "cell_type": "markdown",
   "metadata": {},
   "source": [
    "With Internet Service we see how much customers and those who are churn paid. In our legend 0 represents female and 1 represent males.\n",
    "\n",
    "DSL service Males and females who are chun paid more than those who remain as customers\n",
    "\n",
    "In Fiber Optics we see those who are churn paid almost $100. We see more females perfer fiber optics than DSL.\n",
    "\n",
    "Those who no longer have service paid atleast $100 or more for their servce. Overall we see high price can lead to customer churn.\n",
    "\n"
   ]
  },
  {
   "cell_type": "code",
   "execution_count": 24,
   "metadata": {},
   "outputs": [
    {
     "data": {
      "image/png": "[encoded data removed]",
      "text/plain": [
       "<Figure size 751.039x367.2 with 1 Axes>"
      ]
     },
     "metadata": {
      "needs_background": "light"
     },
     "output_type": "display_data"
    }
   ],
   "source": [
    "ax = sns.catplot(x=\"MultipleLines\", y=\"MonthlyCharges\", hue=\"Churn\", kind=\"violin\",\n",
    "                 split=True, palette=\"pastel\", data=telecom, height=5.1, aspect=1.9)"
   ]
  },
  {
   "cell_type": "markdown",
   "metadata": {},
   "source": [
    "From our graph above, few customers do not have phone service.\n",
    "\n",
    "It seems that customers with multiple lines have a slightly higher churn rate.\n",
    "\n",
    "With multiple lines we see higher monthly charges."
   ]
  },
  {
   "cell_type": "code",
   "execution_count": 25,
   "metadata": {},
   "outputs": [],
   "source": [
    "# we need to convert total charges\n",
    "telecom['TotalCharges']=telecom['TotalCharges'].replace(r'\\s+', np.nan, regex=True)\n",
    "telecom['TotalCharges']=pd.to_numeric(telecom['TotalCharges'])"
   ]
  },
  {
   "cell_type": "code",
   "execution_count": 26,
   "metadata": {},
   "outputs": [],
   "source": [
    "telecom.dropna(how=\"any\",inplace=True)"
   ]
  },
  {
   "cell_type": "code",
   "execution_count": 27,
   "metadata": {},
   "outputs": [
    {
     "data": {
      "text/plain": [
       "<matplotlib.axes._subplots.AxesSubplot at 0x1a20018f60>"
      ]
     },
     "execution_count": 27,
     "metadata": {},
     "output_type": "execute_result"
    },
    {
     "data": {
      "image/png": "[encoded data removed]",
      "text/plain": [
       "<Figure size 432x288 with 1 Axes>"
      ]
     },
     "metadata": {
      "needs_background": "light"
     },
     "output_type": "display_data"
    }
   ],
   "source": [
    "telecom.boxplot(\"MonthlyCharges\")"
   ]
  },
  {
   "cell_type": "code",
   "execution_count": 28,
   "metadata": {},
   "outputs": [
    {
     "data": {
      "text/plain": [
       "<matplotlib.axes._subplots.AxesSubplot at 0x1a2071fa58>"
      ]
     },
     "execution_count": 28,
     "metadata": {},
     "output_type": "execute_result"
    },
    {
     "data": {
      "image/png": "[encoded data removed]",
      "text/plain": [
       "<Figure size 432x288 with 1 Axes>"
      ]
     },
     "metadata": {
      "needs_background": "light"
     },
     "output_type": "display_data"
    }
   ],
   "source": [
    "telecom.boxplot(\"TotalCharges\")"
   ]
  },
  {
   "cell_type": "code",
   "execution_count": 29,
   "metadata": {},
   "outputs": [
    {
     "data": {
      "text/html": [
       "<div>\n",
       "<style scoped>\n",
       "    .dataframe tbody tr th:only-of-type {\n",
       "        vertical-align: middle;\n",
       "    }\n",
       "\n",
       "    .dataframe tbody tr th {\n",
       "        vertical-align: top;\n",
       "    }\n",
       "\n",
       "    .dataframe thead th {\n",
       "        text-align: right;\n",
       "    }\n",
       "</style>\n",
       "<table border=\"1\" class=\"dataframe\">\n",
       "  <thead>\n",
       "    <tr style=\"text-align: right;\">\n",
       "      <th></th>\n",
       "      <th>SeniorCitizen</th>\n",
       "      <th>tenure</th>\n",
       "      <th>MonthlyCharges</th>\n",
       "      <th>TotalCharges</th>\n",
       "    </tr>\n",
       "  </thead>\n",
       "  <tbody>\n",
       "    <tr>\n",
       "      <th>count</th>\n",
       "      <td>7043.000000</td>\n",
       "      <td>7043.000000</td>\n",
       "      <td>7043.000000</td>\n",
       "      <td>7043.000000</td>\n",
       "    </tr>\n",
       "    <tr>\n",
       "      <th>mean</th>\n",
       "      <td>0.162147</td>\n",
       "      <td>32.371149</td>\n",
       "      <td>64.761826</td>\n",
       "      <td>2279.734304</td>\n",
       "    </tr>\n",
       "    <tr>\n",
       "      <th>std</th>\n",
       "      <td>0.368612</td>\n",
       "      <td>24.559481</td>\n",
       "      <td>30.089973</td>\n",
       "      <td>2266.794471</td>\n",
       "    </tr>\n",
       "    <tr>\n",
       "      <th>min</th>\n",
       "      <td>0.000000</td>\n",
       "      <td>0.000000</td>\n",
       "      <td>18.250000</td>\n",
       "      <td>0.000000</td>\n",
       "    </tr>\n",
       "    <tr>\n",
       "      <th>25%</th>\n",
       "      <td>0.000000</td>\n",
       "      <td>9.000000</td>\n",
       "      <td>35.500000</td>\n",
       "      <td>398.549988</td>\n",
       "    </tr>\n",
       "    <tr>\n",
       "      <th>50%</th>\n",
       "      <td>0.000000</td>\n",
       "      <td>29.000000</td>\n",
       "      <td>70.349998</td>\n",
       "      <td>1394.550049</td>\n",
       "    </tr>\n",
       "    <tr>\n",
       "      <th>75%</th>\n",
       "      <td>0.000000</td>\n",
       "      <td>55.000000</td>\n",
       "      <td>89.849998</td>\n",
       "      <td>3786.599976</td>\n",
       "    </tr>\n",
       "    <tr>\n",
       "      <th>max</th>\n",
       "      <td>1.000000</td>\n",
       "      <td>72.000000</td>\n",
       "      <td>118.750000</td>\n",
       "      <td>8684.799805</td>\n",
       "    </tr>\n",
       "  </tbody>\n",
       "</table>\n",
       "</div>"
      ],
      "text/plain": [
       "       SeniorCitizen       tenure  MonthlyCharges  TotalCharges\n",
       "count    7043.000000  7043.000000     7043.000000   7043.000000\n",
       "mean        0.162147    32.371149       64.761826   2279.734304\n",
       "std         0.368612    24.559481       30.089973   2266.794471\n",
       "min         0.000000     0.000000       18.250000      0.000000\n",
       "25%         0.000000     9.000000       35.500000    398.549988\n",
       "50%         0.000000    29.000000       70.349998   1394.550049\n",
       "75%         0.000000    55.000000       89.849998   3786.599976\n",
       "max         1.000000    72.000000      118.750000   8684.799805"
      ]
     },
     "execution_count": 29,
     "metadata": {},
     "output_type": "execute_result"
    }
   ],
   "source": [
    "telecom.describe()"
   ]
  },
  {
   "cell_type": "markdown",
   "metadata": {},
   "source": [
    "The monthly charges for minimum is  $18.25, \n",
    "\n",
    "The monthly charges for mean is $63.76\n",
    "\n",
    "The monthly charges for max is $118.75"
   ]
  },
  {
   "cell_type": "code",
   "execution_count": 30,
   "metadata": {},
   "outputs": [],
   "source": [
    "#  #Now let us work on categorical features converting into binary\n",
    "#  #telecom1.gender = [1 if x == \"Male\" else 0 for x in telecom1.gender]\n",
    "#  for col in ('Partner', 'Dependents', 'PhoneService' , 'OnlineSecurity','Contract',\n",
    "#         'OnlineBackup','DeviceProtection', 'TechSupport','StreamingTV','PaymentMethod',\n",
    "#       'StreamingMovies','PaperlessBilling','MultipleLines','Churn'):\n",
    "#      telecom1[col] = [1 if x == \"Yes\" else 0 for x in telecom1[col]]        \n",
    "#  telecom1.head(3)   # See how data looks like now\n",
    "#creating category group\n",
    "telecom_cat = ['gender', 'SeniorCitizen', 'Partner', 'Dependents',\n",
    "            'PhoneService', 'MultipleLines', 'InternetService',\n",
    "            'OnlineSecurity', 'OnlineBackup', 'DeviceProtection',\n",
    "            'TechSupport','StreamingTV','StreamingMovies',\n",
    "            'Contract', 'PaperlessBilling','PaymentMethod']"
   ]
  },
  {
   "cell_type": "code",
   "execution_count": 31,
   "metadata": {},
   "outputs": [],
   "source": [
    "\n",
    "for cols in telecom_cat:\n",
    "    telecom.loc[:,cols] = LabelEncoder().fit_transform(telecom.loc[:,cols])\n",
    "\n",
    "onehotencoder = OneHotEncoder(sparse=False)\n",
    "telecom_categorical = onehotencoder.fit_transform(telecom[telecom_cat])"
   ]
  },
  {
   "cell_type": "code",
   "execution_count": 32,
   "metadata": {},
   "outputs": [],
   "source": [
    "telecom['Churn'].replace(to_replace='Yes', value=1, inplace=True)\n",
    "telecom['Churn'].replace(to_replace='No', value=0, inplace=True)\n"
   ]
  },
  {
   "cell_type": "code",
   "execution_count": 33,
   "metadata": {},
   "outputs": [
    {
     "name": "stdout",
     "output_type": "stream",
     "text": [
      "<class 'pandas.core.frame.DataFrame'>\n",
      "Int64Index: 7043 entries, 0 to 7042\n",
      "Data columns (total 21 columns):\n",
      "customerID          7043 non-null object\n",
      "gender              7043 non-null int64\n",
      "SeniorCitizen       7043 non-null int64\n",
      "Partner             7043 non-null int64\n",
      "Dependents          7043 non-null int64\n",
      "tenure              7043 non-null int64\n",
      "PhoneService        7043 non-null int64\n",
      "MultipleLines       7043 non-null int64\n",
      "InternetService     7043 non-null int64\n",
      "OnlineSecurity      7043 non-null int64\n",
      "OnlineBackup        7043 non-null int64\n",
      "DeviceProtection    7043 non-null int64\n",
      "TechSupport         7043 non-null int64\n",
      "StreamingTV         7043 non-null int64\n",
      "StreamingMovies     7043 non-null int64\n",
      "Contract            7043 non-null int64\n",
      "PaperlessBilling    7043 non-null int64\n",
      "PaymentMethod       7043 non-null int64\n",
      "MonthlyCharges      7043 non-null float32\n",
      "TotalCharges        7043 non-null float64\n",
      "Churn               7043 non-null int64\n",
      "dtypes: float32(1), float64(1), int64(18), object(1)\n",
      "memory usage: 1.2+ MB\n"
     ]
    }
   ],
   "source": [
    "telecom.info()"
   ]
  },
  {
   "cell_type": "code",
   "execution_count": 34,
   "metadata": {},
   "outputs": [
    {
     "data": {
      "image/png": "[encoded data removed]",
      "text/plain": [
       "<Figure size 1296x1080 with 2 Axes>"
      ]
     },
     "metadata": {
      "needs_background": "light"
     },
     "output_type": "display_data"
    }
   ],
   "source": [
    "# make the correlation matrices.\n",
    "corrmat_telecom = telecom.corr()\n",
    "\n",
    "# heatmaps are a great way to get \n",
    "# a quick visual read on a big correlation matrix.\n",
    "\n",
    "plt.figure(figsize=(18,15))\n",
    "\n",
    "plt.subplot(1,1,1)\n",
    "# draw the heatmap using seaborn.\n",
    "sns.heatmap(corrmat_telecom, square=True, annot=True, linewidths=.10)\n",
    "plt.title(\"correlation matrix (Telcom)\")\n",
    "plt.show()\n",
    "\n",
    "# try to match the correlation numbers \n",
    "# to the scatterplots above to get a \n",
    "# sense of what each magnitude of \n",
    "# correlation can look like. the lighter the boxes the highly corrolated they are"
   ]
  },
  {
   "cell_type": "code",
   "execution_count": 35,
   "metadata": {},
   "outputs": [
    {
     "name": "stdout",
     "output_type": "stream",
     "text": [
      "<class 'pandas.core.frame.DataFrame'>\n",
      "Int64Index: 7043 entries, 0 to 7042\n",
      "Data columns (total 21 columns):\n",
      "customerID          7043 non-null object\n",
      "gender              7043 non-null int64\n",
      "SeniorCitizen       7043 non-null int64\n",
      "Partner             7043 non-null int64\n",
      "Dependents          7043 non-null int64\n",
      "tenure              7043 non-null int64\n",
      "PhoneService        7043 non-null int64\n",
      "MultipleLines       7043 non-null int64\n",
      "InternetService     7043 non-null int64\n",
      "OnlineSecurity      7043 non-null int64\n",
      "OnlineBackup        7043 non-null int64\n",
      "DeviceProtection    7043 non-null int64\n",
      "TechSupport         7043 non-null int64\n",
      "StreamingTV         7043 non-null int64\n",
      "StreamingMovies     7043 non-null int64\n",
      "Contract            7043 non-null int64\n",
      "PaperlessBilling    7043 non-null int64\n",
      "PaymentMethod       7043 non-null int64\n",
      "MonthlyCharges      7043 non-null float32\n",
      "TotalCharges        7043 non-null float64\n",
      "Churn               7043 non-null int64\n",
      "dtypes: float32(1), float64(1), int64(18), object(1)\n",
      "memory usage: 1.2+ MB\n"
     ]
    }
   ],
   "source": [
    "telecom.info()"
   ]
  },
  {
   "cell_type": "markdown",
   "metadata": {},
   "source": [
    "# Creating Principle Component Analaysis "
   ]
  },
  {
   "cell_type": "code",
   "execution_count": 36,
   "metadata": {},
   "outputs": [
    {
     "name": "stdout",
     "output_type": "stream",
     "text": [
      "The percentage of total variance in the dataset explained by each component from Sklearn PCA.\n",
      " [0.23872748]\n"
     ]
    }
   ],
   "source": [
    "#Linear dimensionality reduction a lower dimensional space.\n",
    "from sklearn.decomposition import PCA\n",
    "from sklearn.preprocessing import StandardScaler\n",
    "\n",
    "\n",
    "Y = telecom['Churn']\n",
    "\n",
    "X = telecom[['Partner','Dependents', 'PhoneService' ,'tenure', 'OnlineSecurity','SeniorCitizen',\n",
    "        'OnlineBackup','gender','DeviceProtection','TotalCharges', 'TechSupport','MultipleLines','StreamingTV',\n",
    "      'StreamingMovies','PaperlessBilling','MultipleLines','MonthlyCharges']]\n",
    "\n",
    "\n",
    "\n",
    "\n",
    "# # X is equal to our features\n",
    "# X = telecom1[['Partner','Dependents', 'PhoneService' ,'tenure', 'OnlineSecurity','SeniorCitizen',\n",
    "#         'OnlineBackup','gender','DeviceProtection','TotalCharges', 'TechSupport','MultipleLines','StreamingTV',\n",
    "#       'StreamingMovies','PaperlessBilling','MultipleLines','MonthlyCharges']]\n",
    "\n",
    "# #we transform X\n",
    "X = StandardScaler().fit_transform(X)\n",
    "\n",
    "sklearn_pca = PCA(n_components=1)\n",
    "telecom[\"pca\"] = sklearn_pca.fit_transform(X)\n",
    "\n",
    "print(\n",
    "   'The percentage of total variance in the dataset explained by each',\n",
    "     'component from Sklearn PCA.\\n',\n",
    "     sklearn_pca.explained_variance_ratio_ )\n",
    "\n"
   ]
  },
  {
   "cell_type": "markdown",
   "metadata": {},
   "source": [
    "With one coponents this makes up for 29% of the variance."
   ]
  },
  {
   "cell_type": "code",
   "execution_count": 39,
   "metadata": {},
   "outputs": [
    {
     "name": "stdout",
     "output_type": "stream",
     "text": [
      "There are 5634 training samples and 1409 test samples\n"
     ]
    }
   ],
   "source": [
    "\n",
    "# Create training and test sets\n",
    "X_train, X_test, Y_train, Y_test = train_test_split(X,  Y, test_size=0.2, random_state=465)\n",
    "print('There are {:d} training samples and {:d} test samples'.format(X_train.shape[0], X_test.shape[0]))"
   ]
  },
  {
   "cell_type": "code",
   "execution_count": 40,
   "metadata": {},
   "outputs": [],
   "source": [
    "\n",
    "# firest we scale our trining sets \n",
    "# and set StandardScaler as sc \n",
    "sc = StandardScaler()\n",
    "# apply to both training and test sets\n",
    "X_train = sc.fit_transform(X_train)\n",
    "X_test = sc.fit_transform(X_test)"
   ]
  },
  {
   "cell_type": "code",
   "execution_count": 41,
   "metadata": {},
   "outputs": [
    {
     "data": {
      "text/plain": [
       "DecisionTreeClassifier(class_weight=None, criterion='gini', max_depth=6,\n",
       "                       max_features=None, max_leaf_nodes=None,\n",
       "                       min_impurity_decrease=0.0, min_impurity_split=None,\n",
       "                       min_samples_leaf=1, min_samples_split=2,\n",
       "                       min_weight_fraction_leaf=0.0, presort=False,\n",
       "                       random_state=None, splitter='best')"
      ]
     },
     "execution_count": 41,
     "metadata": {},
     "output_type": "execute_result"
    }
   ],
   "source": [
    " #We will use the Decision Tree model first\n",
    "from sklearn import tree\n",
    "\n",
    "# A convenience for displaying visualizations.\n",
    "from IPython.display import Image\n",
    "\n",
    "# Packages for rendering our tree.\n",
    "import graphviz\n",
    "\n",
    "dtree_model = tree.DecisionTreeClassifier(criterion = 'gini', max_depth = 6)\n",
    "dtree_model.fit(X_train, Y_train)"
   ]
  },
  {
   "cell_type": "code",
   "execution_count": 42,
   "metadata": {},
   "outputs": [],
   "source": [
    "#Predicting the test results\n",
    "Y_pred = dtree_model.predict(X_test)"
   ]
  },
  {
   "cell_type": "code",
   "execution_count": 43,
   "metadata": {},
   "outputs": [],
   "source": [
    "# predicting accuracy\n",
    "from sklearn.metrics import accuracy_score\n",
    "accuracy=accuracy_score(Y_test,Y_pred)"
   ]
  },
  {
   "cell_type": "code",
   "execution_count": 44,
   "metadata": {},
   "outputs": [
    {
     "data": {
      "text/plain": [
       "0.7785663591199432"
      ]
     },
     "execution_count": 44,
     "metadata": {},
     "output_type": "execute_result"
    }
   ],
   "source": [
    "# our accuracy score\n",
    "accuracy"
   ]
  },
  {
   "cell_type": "markdown",
   "metadata": {},
   "source": [
    "# Using GridSearch to tune our model"
   ]
  },
  {
   "cell_type": "code",
   "execution_count": 45,
   "metadata": {},
   "outputs": [
    {
     "name": "stdout",
     "output_type": "stream",
     "text": [
      "0.7900042595484879\n",
      "{'max_depth': 5, 'min_samples_leaf': 2}\n",
      "DecisionTreeClassifier(class_weight=None, criterion='gini', max_depth=5,\n",
      "                       max_features=None, max_leaf_nodes=None,\n",
      "                       min_impurity_decrease=0.0, min_impurity_split=None,\n",
      "                       min_samples_leaf=2, min_samples_split=2,\n",
      "                       min_weight_fraction_leaf=0.0, presort=False,\n",
      "                       random_state=None, splitter='best')\n"
     ]
    }
   ],
   "source": [
    "from sklearn.tree import DecisionTreeClassifier\n",
    "from sklearn.model_selection import GridSearchCV\n",
    "\n",
    "depth_range = range(1, 10)\n",
    "leaf_range = range(1,15)\n",
    "param_grid = dict(max_depth=depth_range, min_samples_leaf=leaf_range)\n",
    "dtree_model = tree.DecisionTreeClassifier()\n",
    "grid = GridSearchCV(dtree_model, param_grid, scoring='accuracy')\n",
    "grid.fit(X,Y)\n",
    "print(grid.best_score_)\n",
    "print(grid.best_params_)\n",
    "print(grid.best_estimator_)"
   ]
  },
  {
   "cell_type": "code",
   "execution_count": 47,
   "metadata": {},
   "outputs": [
    {
     "data": {
      "text/plain": [
       "DecisionTreeClassifier(class_weight=None, criterion='gini', max_depth=5,\n",
       "                       max_features=None, max_leaf_nodes=None,\n",
       "                       min_impurity_decrease=0.0, min_impurity_split=None,\n",
       "                       min_samples_leaf=2, min_samples_split=2,\n",
       "                       min_weight_fraction_leaf=0.0, presort=False,\n",
       "                       random_state=None, splitter='best')"
      ]
     },
     "execution_count": 47,
     "metadata": {},
     "output_type": "execute_result"
    }
   ],
   "source": [
    "dtree_model = tree.DecisionTreeClassifier(max_depth = 5, min_samples_leaf=2)\n",
    "dtree_model.fit(X_train, Y_train)\n"
   ]
  },
  {
   "cell_type": "code",
   "execution_count": 48,
   "metadata": {},
   "outputs": [],
   "source": [
    "# predicting the accuracy of \n",
    "y_pred = dtree_model.predict(X_test)"
   ]
  },
  {
   "cell_type": "code",
   "execution_count": 49,
   "metadata": {},
   "outputs": [],
   "source": [
    "from sklearn.metrics import accuracy_score\n",
    "accuracy=accuracy_score(Y_test,Y_pred)"
   ]
  },
  {
   "cell_type": "code",
   "execution_count": 50,
   "metadata": {},
   "outputs": [
    {
     "data": {
      "text/plain": [
       "0.7785663591199432"
      ]
     },
     "execution_count": 50,
     "metadata": {},
     "output_type": "execute_result"
    }
   ],
   "source": [
    "# after tuning and using cross validation we have an accuracy of \n",
    "accuracy"
   ]
  },
  {
   "cell_type": "code",
   "execution_count": 51,
   "metadata": {},
   "outputs": [
    {
     "name": "stdout",
     "output_type": "stream",
     "text": [
      "Accuracy scores for the 5 folds:  [0.7748227  0.79325643 0.77905945 0.78774423 0.79484902]\n",
      "Mean cross validation score: 0.786\n"
     ]
    }
   ],
   "source": [
    "#completing 5 folds cross validation for Decision Tree model.\n",
    "dtree_model = DecisionTreeClassifier(criterion = 'gini', max_depth = 5, min_samples_leaf=3)\n",
    "cv_scores = cross_val_score(dtree_model, X_train, Y_train, cv = 5)\n",
    "\n",
    "print('Accuracy scores for the 5 folds: ', cv_scores)\n",
    "print('Mean cross validation score: {:.3f}'.format(np.mean(cv_scores)))"
   ]
  },
  {
   "cell_type": "markdown",
   "metadata": {},
   "source": [
    "# Creating Confusion Matrix for Decision Tree"
   ]
  },
  {
   "cell_type": "code",
   "execution_count": 52,
   "metadata": {},
   "outputs": [
    {
     "data": {
      "text/plain": [
       "DecisionTreeClassifier(class_weight=None, criterion='gini', max_depth=5,\n",
       "                       max_features=None, max_leaf_nodes=None,\n",
       "                       min_impurity_decrease=0.0, min_impurity_split=None,\n",
       "                       min_samples_leaf=4, min_samples_split=2,\n",
       "                       min_weight_fraction_leaf=0.0, presort=False,\n",
       "                       random_state=None, splitter='best')"
      ]
     },
     "execution_count": 52,
     "metadata": {},
     "output_type": "execute_result"
    }
   ],
   "source": [
    "dtree_model = tree.DecisionTreeClassifier(criterion = 'gini', max_depth = 5, min_samples_leaf=4)\n",
    "dtree_model.fit(X_train, Y_train)"
   ]
  },
  {
   "cell_type": "code",
   "execution_count": 53,
   "metadata": {},
   "outputs": [],
   "source": [
    "# we create a confusion matrix\n",
    "from sklearn.metrics import confusion_matrix\n",
    "cm = confusion_matrix(Y_test, Y_pred)"
   ]
  },
  {
   "cell_type": "code",
   "execution_count": 54,
   "metadata": {},
   "outputs": [
    {
     "name": "stdout",
     "output_type": "stream",
     "text": [
      "[[964  57]\n",
      " [257 131]]\n"
     ]
    }
   ],
   "source": [
    "predictions = dtree_model.predict(X_test)\n",
    "\n",
    "# we print the confusion m\n",
    "confusion = confusion_matrix(Y_test, predictions)\n",
    "print(confusion)\n"
   ]
  },
  {
   "cell_type": "code",
   "execution_count": 55,
   "metadata": {},
   "outputs": [],
   "source": [
    "def plot_confusion_matrix(cm,\n",
    "                          target_names,\n",
    "                          title='Confusion matrix',\n",
    "                          cmap=None,\n",
    "                          normalize=True):\n",
    "    \"\"\"\n",
    "    given a sklearn confusion matrix (cm), make a nice plot\n",
    "\n",
    "    Arguments\n",
    "    ---------\n",
    "    cm:           confusion matrix from sklearn.metrics.confusion_matrix\n",
    "\n",
    "    target_names: given classification classes such as [0, 1, 2]\n",
    "                  the class names, for example: ['high', 'medium', 'low']\n",
    "\n",
    "    title:        the text to display at the top of the matrix\n",
    "\n",
    "    cmap:         the gradient of the values displayed from matplotlib.pyplot.cm\n",
    "                  see http://matplotlib.org/examples/color/colormaps_reference.html\n",
    "                  plt.get_cmap('jet') or plt.cm.Blues\n",
    "\n",
    "    normalize:    If False, plot the raw numbers\n",
    "                  If True, plot the proportions\n",
    "\n",
    "    Usage\n",
    "    -----\n",
    "    plot_confusion_matrix(cm           = cm,                  # confusion matrix created by\n",
    "                                                              # sklearn.metrics.confusion_matrix\n",
    "                          normalize    = True,                # show proportions\n",
    "                          target_names = y_labels_vals,       # list of names of the classes\n",
    "                          title        = best_estimator_name) # title of graph\n",
    "\n",
    "    Citiation\n",
    "    ---------\n",
    "    http://scikit-learn.org/stable/auto_examples/model_selection/plot_confusion_matrix.html\n",
    "\n",
    "    \"\"\"\n",
    "    import matplotlib.pyplot as plt\n",
    "    import numpy as np\n",
    "    import itertools\n",
    "\n",
    "    accuracy = np.trace(cm) / float(np.sum(cm))\n",
    "    misclass = 1 - accuracy\n",
    "\n",
    "    if cmap is None:\n",
    "        cmap = plt.get_cmap('Blues')\n",
    "\n",
    "    plt.figure(figsize=(8, 6))\n",
    "    plt.imshow(cm, interpolation='nearest', cmap=cmap)\n",
    "    plt.title(title)\n",
    "    plt.colorbar()\n",
    "\n",
    "    if target_names is not None:\n",
    "        tick_marks = np.arange(len(target_names))\n",
    "        plt.xticks(tick_marks, target_names, rotation=45)\n",
    "        plt.yticks(tick_marks, target_names)\n",
    "\n",
    "    if normalize:\n",
    "        cm = cm.astype('float') / cm.sum(axis=1)[:, np.newaxis]\n",
    "\n",
    "\n",
    "    thresh = cm.max() / 1.5 if normalize else cm.max() / 2\n",
    "    for i, j in itertools.product(range(cm.shape[0]), range(cm.shape[1])):\n",
    "        if normalize:\n",
    "            plt.text(j, i, \"{:0.4f}\".format(cm[i, j]),\n",
    "                     horizontalalignment=\"center\",\n",
    "                     color=\"white\" if cm[i, j] > thresh else \"black\")\n",
    "        else:\n",
    "            plt.text(j, i, \"{:,}\".format(cm[i, j]),\n",
    "                     horizontalalignment=\"center\",\n",
    "                     color=\"white\" if cm[i, j] > thresh else \"black\")\n",
    "\n",
    "\n",
    "    plt.tight_layout()\n",
    "    plt.ylabel('Predicted label')\n",
    "    plt.xlabel('True label\\naccuracy={:0.4f}; misclass={:0.4f}'.format(accuracy, misclass))\n",
    "    plt.show()"
   ]
  },
  {
   "cell_type": "code",
   "execution_count": 56,
   "metadata": {},
   "outputs": [
    {
     "data": {
      "image/png": "[encoded data removed]",
      "text/plain": [
       "<Figure size 576x432 with 2 Axes>"
      ]
     },
     "metadata": {
      "needs_background": "light"
     },
     "output_type": "display_data"
    }
   ],
   "source": [
    "plot_confusion_matrix(cm=confusion, target_names = ['Positive', 'Negative'], title = 'Confusion Matrix',normalize=False)"
   ]
  },
  {
   "cell_type": "markdown",
   "metadata": {},
   "source": [
    "# Decision Tree Report"
   ]
  },
  {
   "cell_type": "code",
   "execution_count": 57,
   "metadata": {},
   "outputs": [
    {
     "name": "stdout",
     "output_type": "stream",
     "text": [
      "              precision    recall  f1-score   support\n",
      "\n",
      "    Negative       0.79      0.94      0.86      1021\n",
      "    Positive       0.70      0.34      0.45       388\n",
      "\n",
      "    accuracy                           0.78      1409\n",
      "   macro avg       0.74      0.64      0.66      1409\n",
      "weighted avg       0.76      0.78      0.75      1409\n",
      "\n"
     ]
    }
   ],
   "source": [
    "report = classification_report(Y_test, predictions, target_names=['Negative', 'Positive'])\n",
    "print(report)"
   ]
  },
  {
   "cell_type": "code",
   "execution_count": 58,
   "metadata": {},
   "outputs": [
    {
     "name": "stdout",
     "output_type": "stream",
     "text": [
      "Duration: 0:00:00.000037\n"
     ]
    }
   ],
   "source": [
    "dtree_model = DecisionTreeClassifier(criterion = 'gini', max_depth = 5)\n",
    "dtree_model.fit(X_train, Y_train)\n",
    "\n",
    "\n",
    "from datetime import datetime\n",
    "#we calculate how long it took to run our model\n",
    "start_time = datetime.now()\n",
    "\n",
    "end_time = datetime.now()\n",
    "print('Duration: {}'.format(end_time - start_time))\n"
   ]
  },
  {
   "cell_type": "markdown",
   "metadata": {},
   "source": [
    "# Performing Support Vector Model"
   ]
  },
  {
   "cell_type": "code",
   "execution_count": 59,
   "metadata": {},
   "outputs": [
    {
     "name": "stdout",
     "output_type": "stream",
     "text": [
      "The percentage of total variance in the dataset explained by each component from Sklearn PCA.\n",
      " [0.23872748]\n"
     ]
    }
   ],
   "source": [
    "# trying the model\n",
    "from sklearn.svm import SVC\n",
    "svc = SVC()\n",
    "\n",
    "Y = telecom['Churn']\n",
    "\n",
    "X = telecom[['Partner','Dependents', 'PhoneService' ,'tenure', 'OnlineSecurity','SeniorCitizen',\n",
    "        'OnlineBackup','gender','DeviceProtection','TotalCharges', 'TechSupport','MultipleLines','StreamingTV',\n",
    "      'StreamingMovies','PaperlessBilling','MultipleLines','MonthlyCharges']]\n",
    "\n",
    "\n",
    "X = StandardScaler().fit_transform(X)\n",
    "\n",
    "sklearn_pca = PCA(n_components=1)\n",
    "telecom[\"pca\"] = sklearn_pca.fit_transform(X)\n",
    "\n",
    "print(\n",
    "    'The percentage of total variance in the dataset explained by each',\n",
    "    'component from Sklearn PCA.\\n',\n",
    "    sklearn_pca.explained_variance_ratio_\n",
    ")\n",
    "\n",
    "svc.fit(X,Y)\n",
    "\n",
    "Y_ = svc.predict(X)\n",
    "\n",
    "#svc.score(X, Y)"
   ]
  },
  {
   "cell_type": "code",
   "execution_count": 60,
   "metadata": {},
   "outputs": [
    {
     "name": "stdout",
     "output_type": "stream",
     "text": [
      "There are 5634 training samples and 1409 test samples\n"
     ]
    }
   ],
   "source": [
    "\n",
    "# Splitting the dataset into the Training set and Test set\n",
    "X_train, X_test, Y_train, Y_test = train_test_split(X, Y, test_size = 0.2, random_state = 5)\n",
    "print('There are {:d} training samples and {:d} test samples'.format(X_train.shape[0], X_test.shape[0]))"
   ]
  },
  {
   "cell_type": "code",
   "execution_count": 61,
   "metadata": {},
   "outputs": [],
   "source": [
    "# Feature Scaling\n",
    "sc = StandardScaler()\n",
    "X_train = sc.fit_transform(X_train)\n",
    "X_test = sc.transform(X_test)"
   ]
  },
  {
   "cell_type": "code",
   "execution_count": 62,
   "metadata": {},
   "outputs": [
    {
     "data": {
      "text/plain": [
       "SVC(C=1.0, cache_size=200, class_weight=None, coef0=0.0,\n",
       "    decision_function_shape='ovr', degree=3, gamma='auto_deprecated',\n",
       "    kernel='linear', max_iter=-1, probability=False, random_state=0,\n",
       "    shrinking=True, tol=0.001, verbose=False)"
      ]
     },
     "execution_count": 62,
     "metadata": {},
     "output_type": "execute_result"
    }
   ],
   "source": [
    "# Fitting Kernel SVM to the Training set\n",
    "from sklearn.svm import SVC\n",
    "svc_model = SVC(kernel = 'linear', random_state = 0)\n",
    "svc_model.fit(X_train, Y_train)"
   ]
  },
  {
   "cell_type": "code",
   "execution_count": 63,
   "metadata": {},
   "outputs": [
    {
     "data": {
      "text/plain": [
       "0.7785663591199432"
      ]
     },
     "execution_count": 63,
     "metadata": {},
     "output_type": "execute_result"
    }
   ],
   "source": [
    "accuracy"
   ]
  },
  {
   "cell_type": "code",
   "execution_count": 64,
   "metadata": {},
   "outputs": [],
   "source": [
    "# Predicting the Test set results\n",
    "Y_pred = svc_model.predict(X_test)"
   ]
  },
  {
   "cell_type": "code",
   "execution_count": 65,
   "metadata": {},
   "outputs": [],
   "source": [
    "from sklearn.metrics import accuracy_score\n",
    "accuracy=accuracy_score(Y_test,Y_pred)"
   ]
  },
  {
   "cell_type": "code",
   "execution_count": 66,
   "metadata": {},
   "outputs": [
    {
     "name": "stdout",
     "output_type": "stream",
     "text": [
      "Accuracy scores for the 5 folds:  [0.79875887 0.80035492 0.78970719 0.80550622 0.79662522]\n",
      "Mean cross validation score: 0.798\n"
     ]
    }
   ],
   "source": [
    "cv_scores = cross_val_score(svc_model, X_train, Y_train, cv = 5)\n",
    "\n",
    "print('Accuracy scores for the 5 folds: ', cv_scores)\n",
    "print('Mean cross validation score: {:.3f}'.format(np.mean(cv_scores)))"
   ]
  },
  {
   "cell_type": "markdown",
   "metadata": {},
   "source": [
    "# Confusion Matrix For SVC Model"
   ]
  },
  {
   "cell_type": "code",
   "execution_count": 67,
   "metadata": {},
   "outputs": [],
   "source": [
    "from sklearn.metrics import confusion_matrix\n",
    "cm = confusion_matrix(Y_test, Y_pred)\n"
   ]
  },
  {
   "cell_type": "code",
   "execution_count": 68,
   "metadata": {},
   "outputs": [
    {
     "name": "stdout",
     "output_type": "stream",
     "text": [
      "[[916 107]\n",
      " [176 210]]\n"
     ]
    }
   ],
   "source": [
    "predictions = svc_model.predict(X_test)\n",
    "\n",
    "confusion = confusion_matrix(Y_test, predictions)\n",
    "print(confusion)"
   ]
  },
  {
   "cell_type": "code",
   "execution_count": 69,
   "metadata": {},
   "outputs": [],
   "source": [
    "def plot_confusion_matrix(cm,\n",
    "                          target_names,\n",
    "                          title='Confusion matrix',\n",
    "                          cmap=None,\n",
    "                          normalize=True):\n",
    "    \"\"\"\n",
    "    given a sklearn confusion matrix (cm), make a nice plot\n",
    "\n",
    "    Arguments\n",
    "    ---------\n",
    "    cm:           confusion matrix from sklearn.metrics.confusion_matrix\n",
    "\n",
    "    target_names: given classification classes such as [0, 1, 2]\n",
    "                  the class names, for example: ['high', 'medium', 'low']\n",
    "\n",
    "    title:        the text to display at the top of the matrix\n",
    "\n",
    "    cmap:         the gradient of the values displayed from matplotlib.pyplot.cm\n",
    "                  see http://matplotlib.org/examples/color/colormaps_reference.html\n",
    "                  plt.get_cmap('jet') or plt.cm.Blues\n",
    "\n",
    "    normalize:    If False, plot the raw numbers\n",
    "                  If True, plot the proportions\n",
    "\n",
    "    Usage\n",
    "    -----\n",
    "    plot_confusion_matrix(cm           = cm,                  # confusion matrix created by\n",
    "                                                              # sklearn.metrics.confusion_matrix\n",
    "                          normalize    = True,                # show proportions\n",
    "                          target_names = y_labels_vals,       # list of names of the classes\n",
    "                          title        = best_estimator_name) # title of graph\n",
    "\n",
    "    Citiation\n",
    "    ---------\n",
    "    http://scikit-learn.org/stable/auto_examples/model_selection/plot_confusion_matrix.html\n",
    "\n",
    "    \"\"\"\n",
    "    import matplotlib.pyplot as plt\n",
    "    import numpy as np\n",
    "    import itertools\n",
    "\n",
    "    accuracy = np.trace(cm) / float(np.sum(cm))\n",
    "    misclass = 1 - accuracy\n",
    "\n",
    "    if cmap is None:\n",
    "        cmap = plt.get_cmap('Blues')\n",
    "\n",
    "    plt.figure(figsize=(8, 6))\n",
    "    plt.imshow(cm, interpolation='nearest', cmap=cmap)\n",
    "    plt.title(title)\n",
    "    plt.colorbar()\n",
    "\n",
    "    if target_names is not None:\n",
    "        tick_marks = np.arange(len(target_names))\n",
    "        plt.xticks(tick_marks, target_names, rotation=45)\n",
    "        plt.yticks(tick_marks, target_names)\n",
    "\n",
    "    if normalize:\n",
    "        cm = cm.astype('float') / cm.sum(axis=1)[:, np.newaxis]\n",
    "\n",
    "\n",
    "    thresh = cm.max() / 1.5 if normalize else cm.max() / 2\n",
    "    for i, j in itertools.product(range(cm.shape[0]), range(cm.shape[1])):\n",
    "        if normalize:\n",
    "            plt.text(j, i, \"{:0.4f}\".format(cm[i, j]),\n",
    "                     horizontalalignment=\"center\",\n",
    "                     color=\"white\" if cm[i, j] > thresh else \"black\")\n",
    "        else:\n",
    "            plt.text(j, i, \"{:,}\".format(cm[i, j]),\n",
    "                     horizontalalignment=\"center\",\n",
    "                     color=\"white\" if cm[i, j] > thresh else \"black\")\n",
    "\n",
    "\n",
    "    plt.tight_layout()\n",
    "    plt.ylabel('Predicted label')\n",
    "    plt.xlabel('True label\\naccuracy={:0.4f}; misclass={:0.4f}'.format(accuracy, misclass))\n",
    "    plt.show()"
   ]
  },
  {
   "cell_type": "code",
   "execution_count": 70,
   "metadata": {},
   "outputs": [
    {
     "data": {
      "image/png": "[encoded data removed]",
      "text/plain": [
       "<Figure size 576x432 with 2 Axes>"
      ]
     },
     "metadata": {
      "needs_background": "light"
     },
     "output_type": "display_data"
    }
   ],
   "source": [
    "plot_confusion_matrix(cm=confusion, target_names = ['Positive', 'Negative'], title = 'Confusion Matrix',normalize=False)"
   ]
  },
  {
   "cell_type": "code",
   "execution_count": 71,
   "metadata": {},
   "outputs": [
    {
     "name": "stdout",
     "output_type": "stream",
     "text": [
      "              precision    recall  f1-score   support\n",
      "\n",
      "    Negative       0.84      0.90      0.87      1023\n",
      "    Positive       0.66      0.54      0.60       386\n",
      "\n",
      "    accuracy                           0.80      1409\n",
      "   macro avg       0.75      0.72      0.73      1409\n",
      "weighted avg       0.79      0.80      0.79      1409\n",
      "\n"
     ]
    }
   ],
   "source": [
    "report = classification_report(Y_test, predictions, target_names=['Negative', 'Positive'])\n",
    "print(report)"
   ]
  },
  {
   "cell_type": "code",
   "execution_count": 72,
   "metadata": {},
   "outputs": [
    {
     "name": "stdout",
     "output_type": "stream",
     "text": [
      "Duration: 0:00:00.000034\n"
     ]
    }
   ],
   "source": [
    "svc_model = SVC(kernel = 'linear', random_state = 0)\n",
    "svc_model.fit(X_train, Y_train)\n",
    "\n",
    "\n",
    "from datetime import datetime\n",
    "start_time = datetime.now()\n",
    "# do your work here\n",
    "end_time = datetime.now()\n",
    "print('Duration: {}'.format(end_time - start_time))\n"
   ]
  },
  {
   "cell_type": "markdown",
   "metadata": {},
   "source": [
    "# KNeighborsClassifier Model"
   ]
  },
  {
   "cell_type": "code",
   "execution_count": 73,
   "metadata": {},
   "outputs": [],
   "source": [
    "# # Create the features matrix\n",
    "# X = telecom[['Partner', 'Dependents', 'tenure', 'PhoneService',\n",
    "#        'MultipleLines', 'OnlineSecurity', 'OnlineBackup', 'DeviceProtection',\n",
    "#        'TechSupport', 'StreamingTV', 'StreamingMovies', 'PaperlessBilling',\n",
    "#        'MonthlyCharges', 'TotalCharges']]\n",
    "# # Create the target vector\n",
    "# Y = telecom[[\"Churn\"]]"
   ]
  },
  {
   "cell_type": "code",
   "execution_count": 74,
   "metadata": {},
   "outputs": [
    {
     "name": "stdout",
     "output_type": "stream",
     "text": [
      "The percentage of total variance in the dataset explained by each component from Sklearn PCA.\n",
      " [0.23872748]\n"
     ]
    }
   ],
   "source": [
    "# trying the model\n",
    "from sklearn.neighbors import KNeighborsClassifier \n",
    "knn_model=KNeighborsClassifier()\n",
    "\n",
    "Y = telecom['Churn']\n",
    "\n",
    "X = telecom[['Partner','Dependents', 'PhoneService' ,'tenure', 'OnlineSecurity','SeniorCitizen',\n",
    "        'OnlineBackup','gender','DeviceProtection','TotalCharges', 'TechSupport','MultipleLines','StreamingTV',\n",
    "      'StreamingMovies','PaperlessBilling','MultipleLines','MonthlyCharges']]\n",
    "\n",
    "\n",
    "X = StandardScaler().fit_transform(X)\n",
    "\n",
    "sklearn_pca = PCA(n_components=1)\n",
    "telecom[\"pca\"] = sklearn_pca.fit_transform(X)\n",
    "\n",
    "print(\n",
    "    'The percentage of total variance in the dataset explained by each',\n",
    "    'component from Sklearn PCA.\\n',\n",
    "    sklearn_pca.explained_variance_ratio_\n",
    ")\n",
    "\n",
    "\n",
    "\n"
   ]
  },
  {
   "cell_type": "code",
   "execution_count": 75,
   "metadata": {},
   "outputs": [
    {
     "name": "stdout",
     "output_type": "stream",
     "text": [
      "There are 5634 training samples and 1409 test samples\n"
     ]
    }
   ],
   "source": [
    "\n",
    "# Splitting the dataset into the Training set and Test set\n",
    "X_train, X_test, Y_train, Y_test = train_test_split(X, Y, test_size = 0.2, random_state = 5)\n",
    "print('There are {:d} training samples and {:d} test samples'.format(X_train.shape[0], X_test.shape[0]))"
   ]
  },
  {
   "cell_type": "code",
   "execution_count": 76,
   "metadata": {},
   "outputs": [
    {
     "data": {
      "text/plain": [
       "KNeighborsClassifier(algorithm='auto', leaf_size=30, metric='euclidean',\n",
       "                     metric_params=None, n_jobs=None, n_neighbors=7, p=2,\n",
       "                     weights='distance')"
      ]
     },
     "execution_count": 76,
     "metadata": {},
     "output_type": "execute_result"
    }
   ],
   "source": [
    "knn_model = KNeighborsClassifier(n_neighbors=7, metric='euclidean', weights='distance')\n",
    "knn_model.fit(X_train, Y_train)\n",
    "\n"
   ]
  },
  {
   "cell_type": "code",
   "execution_count": 81,
   "metadata": {},
   "outputs": [],
   "source": [
    "Y_pred=knn_model.predict(X_test)"
   ]
  },
  {
   "cell_type": "code",
   "execution_count": 82,
   "metadata": {},
   "outputs": [
    {
     "name": "stdout",
     "output_type": "stream",
     "text": [
      "[[881 142]\n",
      " [199 187]]\n"
     ]
    }
   ],
   "source": [
    "print(confusion_matrix(Y_test,Y_pred))"
   ]
  },
  {
   "cell_type": "code",
   "execution_count": 83,
   "metadata": {},
   "outputs": [],
   "source": [
    "def plot_confusion_matrix(cm,\n",
    "                          target_names,\n",
    "                          title='Confusion matrix',\n",
    "                          cmap=None,\n",
    "                          normalize=True):\n",
    "    \"\"\"\n",
    "    given a sklearn confusion matrix (cm), make a nice plot\n",
    "\n",
    "    Arguments\n",
    "    ---------\n",
    "    cm:           confusion matrix from sklearn.metrics.confusion_matrix\n",
    "\n",
    "    target_names: given classification classes such as [0, 1, 2]\n",
    "                  the class names, for example: ['high', 'medium', 'low']\n",
    "\n",
    "    title:        the text to display at the top of the matrix\n",
    "\n",
    "    cmap:         the gradient of the values displayed from matplotlib.pyplot.cm\n",
    "                  see http://matplotlib.org/examples/color/colormaps_reference.html\n",
    "                  plt.get_cmap('jet') or plt.cm.Blues\n",
    "\n",
    "    normalize:    If False, plot the raw numbers\n",
    "                  If True, plot the proportions\n",
    "\n",
    "    Usage\n",
    "    -----\n",
    "    plot_confusion_matrix(cm           = cm,                  # confusion matrix created by\n",
    "                                                              # sklearn.metrics.confusion_matrix\n",
    "                          normalize    = True,                # show proportions\n",
    "                          target_names = y_labels_vals,       # list of names of the classes\n",
    "                          title        = best_estimator_name) # title of graph\n",
    "\n",
    "    Citiation\n",
    "    ---------\n",
    "    http://scikit-learn.org/stable/auto_examples/model_selection/plot_confusion_matrix.html\n",
    "\n",
    "    \"\"\"\n",
    "    import matplotlib.pyplot as plt\n",
    "    import numpy as np\n",
    "    import itertools\n",
    "\n",
    "    accuracy = np.trace(cm) / float(np.sum(cm))\n",
    "    misclass = 1 - accuracy\n",
    "\n",
    "    if cmap is None:\n",
    "        cmap = plt.get_cmap('Blues')\n",
    "\n",
    "    plt.figure(figsize=(8, 6))\n",
    "    plt.imshow(cm, interpolation='nearest', cmap=cmap)\n",
    "    plt.title(title)\n",
    "    plt.colorbar()\n",
    "\n",
    "    if target_names is not None:\n",
    "        tick_marks = np.arange(len(target_names))\n",
    "        plt.xticks(tick_marks, target_names, rotation=45)\n",
    "        plt.yticks(tick_marks, target_names)\n",
    "\n",
    "    if normalize:\n",
    "        cm = cm.astype('float') / cm.sum(axis=1)[:, np.newaxis]\n",
    "\n",
    "\n",
    "    thresh = cm.max() / 1.5 if normalize else cm.max() / 2\n",
    "    for i, j in itertools.product(range(cm.shape[0]), range(cm.shape[1])):\n",
    "        if normalize:\n",
    "            plt.text(j, i, \"{:0.4f}\".format(cm[i, j]),\n",
    "                     horizontalalignment=\"center\",\n",
    "                     color=\"white\" if cm[i, j] > thresh else \"black\")\n",
    "        else:\n",
    "            plt.text(j, i, \"{:,}\".format(cm[i, j]),\n",
    "                     horizontalalignment=\"center\",\n",
    "                     color=\"white\" if cm[i, j] > thresh else \"black\")\n",
    "\n",
    "\n",
    "    plt.tight_layout()\n",
    "    plt.ylabel('Predicted label')\n",
    "    plt.xlabel('True label\\naccuracy={:0.4f}; misclass={:0.4f}'.format(accuracy, misclass))\n",
    "    plt.show()"
   ]
  },
  {
   "cell_type": "code",
   "execution_count": 84,
   "metadata": {},
   "outputs": [
    {
     "name": "stdout",
     "output_type": "stream",
     "text": [
      "              precision    recall  f1-score   support\n",
      "\n",
      "           0       0.82      0.86      0.84      1023\n",
      "           1       0.57      0.48      0.52       386\n",
      "\n",
      "    accuracy                           0.76      1409\n",
      "   macro avg       0.69      0.67      0.68      1409\n",
      "weighted avg       0.75      0.76      0.75      1409\n",
      "\n"
     ]
    }
   ],
   "source": [
    "print(classification_report(Y_test,Y_pred))"
   ]
  },
  {
   "cell_type": "code",
   "execution_count": null,
   "metadata": {},
   "outputs": [],
   "source": []
  },
  {
   "cell_type": "markdown",
   "metadata": {},
   "source": [
    "# Choosing a K value"
   ]
  },
  {
   "cell_type": "code",
   "execution_count": 85,
   "metadata": {},
   "outputs": [],
   "source": [
    "error_rate = []\n",
    "\n",
    "for i in range(1,40):\n",
    "    \n",
    "    knn_model= KNeighborsClassifier(n_neighbors=i)\n",
    "    knn_model.fit(X_train,Y_train)\n",
    "    pred_i = knn_model.predict(X_test)\n",
    "    error_rate.append(np.mean(pred_i != Y_test))"
   ]
  },
  {
   "cell_type": "code",
   "execution_count": 86,
   "metadata": {},
   "outputs": [
    {
     "data": {
      "text/plain": [
       "Text(0, 0.5, 'Error Rate')"
      ]
     },
     "execution_count": 86,
     "metadata": {},
     "output_type": "execute_result"
    },
    {
     "data": {
      "image/png": "[encoded data removed]",
      "text/plain": [
       "<Figure size 720x432 with 1 Axes>"
      ]
     },
     "metadata": {
      "needs_background": "light"
     },
     "output_type": "display_data"
    }
   ],
   "source": [
    "plt.figure(figsize=(10,6))\n",
    "plt.plot(range(1,40),error_rate,color='blue', linestyle='dashed', marker='o',\n",
    "         markerfacecolor='red', markersize=10)\n",
    "plt.title('Error Rate vs. K Value')\n",
    "plt.xlabel('K')\n",
    "plt.ylabel('Error Rate')"
   ]
  },
  {
   "cell_type": "markdown",
   "metadata": {},
   "source": [
    "Finding the error rate. It seems at K =18 we stay around 0.23. from K=18 to 40 we remain around 0.23"
   ]
  },
  {
   "cell_type": "code",
   "execution_count": 87,
   "metadata": {},
   "outputs": [
    {
     "name": "stdout",
     "output_type": "stream",
     "text": [
      "Accuracy scores for the 5 folds:  [0.77304965 0.7826087  0.76397516 0.79129663 0.79040853]\n",
      "Mean cross validation score: 0.780\n"
     ]
    }
   ],
   "source": [
    "# we cross validate our model. We itrate 5 times\n",
    "cv_scores = cross_val_score(knn_model, X_train, Y_train, cv = 5)\n",
    "\n",
    "print('Accuracy scores for the 5 folds: ', cv_scores)\n",
    "print('Mean cross validation score: {:.3f}'.format(np.mean(cv_scores)))"
   ]
  },
  {
   "cell_type": "code",
   "execution_count": 88,
   "metadata": {},
   "outputs": [
    {
     "name": "stdout",
     "output_type": "stream",
     "text": [
      "WITH K=8\n",
      "\n",
      "\n",
      "[[919 104]\n",
      " [217 169]]\n",
      "\n",
      "\n",
      "              precision    recall  f1-score   support\n",
      "\n",
      "           0       0.81      0.90      0.85      1023\n",
      "           1       0.62      0.44      0.51       386\n",
      "\n",
      "    accuracy                           0.77      1409\n",
      "   macro avg       0.71      0.67      0.68      1409\n",
      "weighted avg       0.76      0.77      0.76      1409\n",
      "\n"
     ]
    }
   ],
   "source": [
    "# FIRST A QUICK COMPARISON TO OUR ORIGINAL K= 8\n",
    "knn_model = KNeighborsClassifier(n_neighbors=8)\n",
    "\n",
    "knn_model.fit(X_train,Y_train)\n",
    "Y_pred = knn_model.predict(X_test)\n",
    "\n",
    "print('WITH K=8')\n",
    "print('\\n')\n",
    "print(confusion_matrix(Y_test,Y_pred))\n",
    "print('\\n')\n",
    "print(classification_report(Y_test,Y_pred))"
   ]
  },
  {
   "cell_type": "code",
   "execution_count": 89,
   "metadata": {},
   "outputs": [
    {
     "name": "stdout",
     "output_type": "stream",
     "text": [
      "WITH K=15\n",
      "\n",
      "\n",
      "[[907 116]\n",
      " [196 190]]\n",
      "\n",
      "\n",
      "              precision    recall  f1-score   support\n",
      "\n",
      "           0       0.82      0.89      0.85      1023\n",
      "           1       0.62      0.49      0.55       386\n",
      "\n",
      "    accuracy                           0.78      1409\n",
      "   macro avg       0.72      0.69      0.70      1409\n",
      "weighted avg       0.77      0.78      0.77      1409\n",
      "\n"
     ]
    }
   ],
   "source": [
    "# lets try with 15\n",
    "knn_model = KNeighborsClassifier(n_neighbors=15)\n",
    "\n",
    "knn_model.fit(X_train,Y_train)\n",
    "Y_pred = knn_model.predict(X_test)\n",
    "\n",
    "print('WITH K=15')\n",
    "print('\\n')\n",
    "print(confusion_matrix(Y_test,Y_pred))\n",
    "print('\\n')\n",
    "print(classification_report(Y_test,Y_pred))"
   ]
  },
  {
   "cell_type": "markdown",
   "metadata": {},
   "source": [
    "below we provide a graphical matrix for easier understanding."
   ]
  },
  {
   "cell_type": "code",
   "execution_count": 90,
   "metadata": {},
   "outputs": [],
   "source": [
    "predictions = knn_model.predict(X_test)\n",
    "\n",
    "confusion = confusion_matrix(Y_test, predictions)\n"
   ]
  },
  {
   "cell_type": "code",
   "execution_count": 91,
   "metadata": {},
   "outputs": [],
   "source": [
    "def plot_confusion_matrix(cm,\n",
    "                          target_names,\n",
    "                          title='Confusion matrix',\n",
    "                          cmap=None,\n",
    "                          normalize=True):\n",
    "    \"\"\"\n",
    "    given a sklearn confusion matrix (cm), make a nice plot\n",
    "\n",
    "    Arguments\n",
    "    ---------\n",
    "    cm:           confusion matrix from sklearn.metrics.confusion_matrix\n",
    "\n",
    "    target_names: given classification classes such as [0, 1, 2]\n",
    "                  the class names, for example: ['high', 'medium', 'low']\n",
    "\n",
    "    title:        the text to display at the top of the matrix\n",
    "\n",
    "    cmap:         the gradient of the values displayed from matplotlib.pyplot.cm\n",
    "                  see http://matplotlib.org/examples/color/colormaps_reference.html\n",
    "                  plt.get_cmap('jet') or plt.cm.Blues\n",
    "\n",
    "    normalize:    If False, plot the raw numbers\n",
    "                  If True, plot the proportions\n",
    "\n",
    "    Usage\n",
    "    -----\n",
    "    plot_confusion_matrix(cm           = cm,                  # confusion matrix created by\n",
    "                                                              # sklearn.metrics.confusion_matrix\n",
    "                          normalize    = True,                # show proportions\n",
    "                          target_names = y_labels_vals,       # list of names of the classes\n",
    "                          title        = best_estimator_name) # title of graph\n",
    "\n",
    "    Citiation\n",
    "    ---------\n",
    "    http://scikit-learn.org/stable/auto_examples/model_selection/plot_confusion_matrix.html\n",
    "\n",
    "    \"\"\"\n",
    "    import matplotlib.pyplot as plt\n",
    "    import numpy as np\n",
    "    import itertools\n",
    "\n",
    "    accuracy = np.trace(cm) / float(np.sum(cm))\n",
    "    misclass = 1 - accuracy\n",
    "\n",
    "    if cmap is None:\n",
    "        cmap = plt.get_cmap('Blues')\n",
    "\n",
    "    plt.figure(figsize=(8, 6))\n",
    "    plt.imshow(cm, interpolation='nearest', cmap=cmap)\n",
    "    plt.title(title)\n",
    "    plt.colorbar()\n",
    "\n",
    "    if target_names is not None:\n",
    "        tick_marks = np.arange(len(target_names))\n",
    "        plt.xticks(tick_marks, target_names, rotation=45)\n",
    "        plt.yticks(tick_marks, target_names)\n",
    "\n",
    "    if normalize:\n",
    "        cm = cm.astype('float') / cm.sum(axis=1)[:, np.newaxis]\n",
    "\n",
    "\n",
    "    thresh = cm.max() / 1.5 if normalize else cm.max() / 2\n",
    "    for i, j in itertools.product(range(cm.shape[0]), range(cm.shape[1])):\n",
    "        if normalize:\n",
    "            plt.text(j, i, \"{:0.4f}\".format(cm[i, j]),\n",
    "                     horizontalalignment=\"center\",\n",
    "                     color=\"white\" if cm[i, j] > thresh else \"black\")\n",
    "        else:\n",
    "            plt.text(j, i, \"{:,}\".format(cm[i, j]),\n",
    "                     horizontalalignment=\"center\",\n",
    "                     color=\"white\" if cm[i, j] > thresh else \"black\")\n",
    "\n",
    "\n",
    "    plt.tight_layout()\n",
    "    plt.ylabel('Predicted label')\n",
    "    plt.xlabel('True label\\naccuracy={:0.4f}; misclass={:0.4f}'.format(accuracy, misclass))\n",
    "    plt.show()"
   ]
  },
  {
   "cell_type": "code",
   "execution_count": 92,
   "metadata": {},
   "outputs": [
    {
     "data": {
      "image/png": "[encoded data removed]",
      "text/plain": [
       "<Figure size 576x432 with 2 Axes>"
      ]
     },
     "metadata": {
      "needs_background": "light"
     },
     "output_type": "display_data"
    }
   ],
   "source": [
    "plot_confusion_matrix(cm=confusion, target_names = ['Positive', 'Negative'], title = 'Confusion Matrix',normalize=False)"
   ]
  },
  {
   "cell_type": "code",
   "execution_count": 93,
   "metadata": {},
   "outputs": [
    {
     "name": "stdout",
     "output_type": "stream",
     "text": [
      "Duration: 0:00:00.000027\n"
     ]
    }
   ],
   "source": [
    "knn_model.fit(X_train,Y_train)\n",
    "Y_pred = knn_model.predict(X_test)\n",
    "\n",
    "from datetime import datetime\n",
    "start_time = datetime.now()\n",
    "# do your work here\n",
    "end_time = datetime.now()\n",
    "print('Duration: {}'.format(end_time - start_time))"
   ]
  },
  {
   "cell_type": "markdown",
   "metadata": {},
   "source": [
    "# Random Forest Model "
   ]
  },
  {
   "cell_type": "code",
   "execution_count": 94,
   "metadata": {},
   "outputs": [
    {
     "name": "stdout",
     "output_type": "stream",
     "text": [
      "The percentage of total variance in the dataset explained by each component from Sklearn PCA.\n",
      " [0.23872748]\n"
     ]
    }
   ],
   "source": [
    "# trying the model\n",
    "from sklearn.ensemble import RandomForestClassifier\n",
    "\n",
    "Y = telecom['Churn']\n",
    "\n",
    "X = telecom[['Partner','Dependents', 'PhoneService' ,'tenure', 'OnlineSecurity','SeniorCitizen',\n",
    "        'OnlineBackup','gender','DeviceProtection','TotalCharges', 'TechSupport','MultipleLines','StreamingTV',\n",
    "      'StreamingMovies','PaperlessBilling','MultipleLines','MonthlyCharges']]\n",
    "\n",
    "\n",
    "X = StandardScaler().fit_transform(X)\n",
    "\n",
    "sklearn_pca = PCA(n_components=1)\n",
    "telecom[\"pca\"] = sklearn_pca.fit_transform(X)\n",
    "\n",
    "print(\n",
    "    'The percentage of total variance in the dataset explained by each',\n",
    "    'component from Sklearn PCA.\\n',\n",
    "    sklearn_pca.explained_variance_ratio_\n",
    ")\n",
    "\n",
    "\n"
   ]
  },
  {
   "cell_type": "code",
   "execution_count": 95,
   "metadata": {},
   "outputs": [
    {
     "name": "stdout",
     "output_type": "stream",
     "text": [
      "There are 5634 training samples and 1409 test samples\n"
     ]
    },
    {
     "data": {
      "text/plain": [
       "RandomForestClassifier(bootstrap=True, class_weight=None, criterion='gini',\n",
       "                       max_depth=None, max_features='auto', max_leaf_nodes=None,\n",
       "                       min_impurity_decrease=0.0, min_impurity_split=None,\n",
       "                       min_samples_leaf=1, min_samples_split=2,\n",
       "                       min_weight_fraction_leaf=0.0, n_estimators=10,\n",
       "                       n_jobs=None, oob_score=False, random_state=None,\n",
       "                       verbose=0, warm_start=False)"
      ]
     },
     "execution_count": 95,
     "metadata": {},
     "output_type": "execute_result"
    }
   ],
   "source": [
    "#fit model\n",
    "X_train, X_test, Y_train, Y_test = train_test_split(X, Y, test_size = 0.2, random_state = 465)\n",
    "print('There are {:d} training samples and {:d} test samples'.format(X_train.shape[0], X_test.shape[0]))\n",
    "rfc_model=RandomForestClassifier()\n",
    "rfc_model.fit(X_train,Y_train)\n"
   ]
  },
  {
   "cell_type": "code",
   "execution_count": 96,
   "metadata": {},
   "outputs": [],
   "source": [
    "# Predicting the Test set results\n",
    "Y_pred = rfc_model.predict(X_test)"
   ]
  },
  {
   "cell_type": "code",
   "execution_count": 97,
   "metadata": {},
   "outputs": [],
   "source": [
    "from sklearn.metrics import accuracy_score\n",
    "accuracy=accuracy_score(Y_test,Y_pred)"
   ]
  },
  {
   "cell_type": "code",
   "execution_count": 98,
   "metadata": {},
   "outputs": [
    {
     "data": {
      "text/plain": [
       "0.7757274662881476"
      ]
     },
     "execution_count": 98,
     "metadata": {},
     "output_type": "execute_result"
    }
   ],
   "source": [
    "#model acceracy\n",
    "accuracy"
   ]
  },
  {
   "cell_type": "code",
   "execution_count": 99,
   "metadata": {},
   "outputs": [
    {
     "name": "stdout",
     "output_type": "stream",
     "text": [
      "Accuracy scores for the 5 folds:  [0.79166667 0.78349601 0.78172138 0.77886323 0.77708703]\n",
      "Mean cross validation score: 0.783\n"
     ]
    }
   ],
   "source": [
    "# applying cross validation to random forest model\n",
    "cv_scores = cross_val_score(rfc_model, X_train, Y_train, cv = 5)\n",
    "\n",
    "print('Accuracy scores for the 5 folds: ', cv_scores)\n",
    "print('Mean cross validation score: {:.3f}'.format(np.mean(cv_scores)))"
   ]
  },
  {
   "cell_type": "code",
   "execution_count": 100,
   "metadata": {},
   "outputs": [
    {
     "name": "stdout",
     "output_type": "stream",
     "text": [
      "\n",
      "\n",
      "[[932  89]\n",
      " [227 161]]\n",
      "\n",
      "\n",
      "              precision    recall  f1-score   support\n",
      "\n",
      "           0       0.80      0.91      0.86      1021\n",
      "           1       0.64      0.41      0.50       388\n",
      "\n",
      "    accuracy                           0.78      1409\n",
      "   macro avg       0.72      0.66      0.68      1409\n",
      "weighted avg       0.76      0.78      0.76      1409\n",
      "\n"
     ]
    }
   ],
   "source": [
    "rfc_prediction = rfc_model.predict(X_test)\n",
    "print('\\n')\n",
    "print(confusion_matrix(Y_test,Y_pred))\n",
    "print('\\n')\n",
    "print(classification_report(Y_test,Y_pred))"
   ]
  },
  {
   "cell_type": "code",
   "execution_count": 101,
   "metadata": {},
   "outputs": [
    {
     "name": "stdout",
     "output_type": "stream",
     "text": [
      "Duration: 0:00:00.000034\n"
     ]
    }
   ],
   "source": [
    "rfc_model=RandomForestClassifier()\n",
    "rfc_model.fit(X_train,Y_train)\n",
    "\n",
    "\n",
    "from datetime import datetime\n",
    "start_time = datetime.now()\n",
    "# do your work here\n",
    "end_time = datetime.now()\n",
    "print('Duration: {}'.format(end_time - start_time))"
   ]
  },
  {
   "cell_type": "markdown",
   "metadata": {},
   "source": [
    "# Logistic Classification Model"
   ]
  },
  {
   "cell_type": "code",
   "execution_count": 102,
   "metadata": {},
   "outputs": [
    {
     "name": "stdout",
     "output_type": "stream",
     "text": [
      "The percentage of total variance in the dataset explained by each component from Sklearn PCA.\n",
      " [0.23872748]\n"
     ]
    }
   ],
   "source": [
    "# trying the model and applying PCA\n",
    "from sklearn.linear_model import LogisticRegression\n",
    "\n",
    "X = telecom[['Partner','Dependents', 'PhoneService' ,'tenure', 'OnlineSecurity','SeniorCitizen',\n",
    "        'OnlineBackup','gender','DeviceProtection','TotalCharges', 'TechSupport','MultipleLines','StreamingTV',\n",
    "      'StreamingMovies','PaperlessBilling','MultipleLines','MonthlyCharges']]\n",
    "\n",
    "Y = telecom['Churn']\n",
    "\n",
    "X = StandardScaler().fit_transform(X)\n",
    "\n",
    "sklearn_pca = PCA(n_components=1)\n",
    "telecom[\"pca\"] = sklearn_pca.fit_transform(X)\n",
    "\n",
    "print(\n",
    "    'The percentage of total variance in the dataset explained by each',\n",
    "    'component from Sklearn PCA.\\n',\n",
    "    sklearn_pca.explained_variance_ratio_\n",
    ")\n",
    "\n",
    "\n",
    "Y = telecom['Churn']\n"
   ]
  },
  {
   "cell_type": "code",
   "execution_count": 103,
   "metadata": {},
   "outputs": [
    {
     "name": "stdout",
     "output_type": "stream",
     "text": [
      "There are 5634 training samples and 1409 test samples\n"
     ]
    }
   ],
   "source": [
    "X_train, X_test, Y_train, Y_test = train_test_split(X, Y, test_size = 0.2, random_state = 465)\n",
    "print('There are {:d} training samples and {:d} test samples'.format(X_train.shape[0], X_test.shape[0]))"
   ]
  },
  {
   "cell_type": "code",
   "execution_count": 104,
   "metadata": {},
   "outputs": [
    {
     "data": {
      "text/plain": [
       "LogisticRegression(C=1.0, class_weight=None, dual=False, fit_intercept=True,\n",
       "                   intercept_scaling=1, l1_ratio=None, max_iter=10000,\n",
       "                   multi_class='warn', n_jobs=None, penalty='none',\n",
       "                   random_state=None, solver='lbfgs', tol=0.0001, verbose=0,\n",
       "                   warm_start=False)"
      ]
     },
     "execution_count": 104,
     "metadata": {},
     "output_type": "execute_result"
    }
   ],
   "source": [
    "#building the model\n",
    "lr_model = LogisticRegression(solver='lbfgs', penalty='none', max_iter=10000)\n",
    "lr_model.fit(X_train, Y_train)"
   ]
  },
  {
   "cell_type": "code",
   "execution_count": 105,
   "metadata": {},
   "outputs": [],
   "source": [
    "# Predicting the Test set results\n",
    "Y_pred = lr_model.predict(X_test)"
   ]
  },
  {
   "cell_type": "code",
   "execution_count": 106,
   "metadata": {},
   "outputs": [],
   "source": [
    "from sklearn.metrics import accuracy_score\n",
    "accuracy=accuracy_score(Y_test,Y_pred)"
   ]
  },
  {
   "cell_type": "code",
   "execution_count": 107,
   "metadata": {},
   "outputs": [
    {
     "data": {
      "text/plain": [
       "0.7991483321504613"
      ]
     },
     "execution_count": 107,
     "metadata": {},
     "output_type": "execute_result"
    }
   ],
   "source": [
    "# our accuracy score\n",
    "accuracy"
   ]
  },
  {
   "cell_type": "code",
   "execution_count": 108,
   "metadata": {},
   "outputs": [
    {
     "name": "stdout",
     "output_type": "stream",
     "text": [
      "Accuracy of Logistic Regression: 0.799\n"
     ]
    }
   ],
   "source": [
    "lr_score = lr_model.score(X_test, Y_test)\n",
    "\n",
    "print('Accuracy of Logistic Regression: {:.3f}'.format(lr_score))"
   ]
  },
  {
   "cell_type": "code",
   "execution_count": 109,
   "metadata": {},
   "outputs": [
    {
     "name": "stdout",
     "output_type": "stream",
     "text": [
      "Accuracy scores for the 5 folds:  [0.80319149 0.80479148 0.79680568 0.80195382 0.79218472]\n",
      "Mean cross validation score: 0.800\n"
     ]
    }
   ],
   "source": [
    "#applying cross validation to logistic regression model\n",
    "cv_scores = cross_val_score(lr_model, X_train, Y_train, cv = 5)\n",
    "\n",
    "print('Accuracy scores for the 5 folds: ', cv_scores)\n",
    "print('Mean cross validation score: {:.3f}'.format(np.mean(cv_scores)))"
   ]
  },
  {
   "cell_type": "code",
   "execution_count": 110,
   "metadata": {},
   "outputs": [
    {
     "name": "stdout",
     "output_type": "stream",
     "text": [
      "\n",
      "\n",
      "[[931  90]\n",
      " [193 195]]\n",
      "\n",
      "\n",
      "              precision    recall  f1-score   support\n",
      "\n",
      "           0       0.83      0.91      0.87      1021\n",
      "           1       0.68      0.50      0.58       388\n",
      "\n",
      "    accuracy                           0.80      1409\n",
      "   macro avg       0.76      0.71      0.72      1409\n",
      "weighted avg       0.79      0.80      0.79      1409\n",
      "\n"
     ]
    }
   ],
   "source": [
    "# confusion matrix and classification report\n",
    "rfc_prediction = lr_model.predict(X_test)\n",
    "print('\\n')\n",
    "print(confusion_matrix(Y_test,Y_pred))\n",
    "print('\\n')\n",
    "print(classification_report(Y_test,Y_pred))"
   ]
  },
  {
   "cell_type": "code",
   "execution_count": 111,
   "metadata": {},
   "outputs": [
    {
     "name": "stdout",
     "output_type": "stream",
     "text": [
      "Duration: 0:00:00.000034\n"
     ]
    }
   ],
   "source": [
    "lr_model = LogisticRegression(solver='lbfgs', penalty='none', max_iter=10000)\n",
    "lr_model.fit(X_train, Y_train)\n",
    "\n",
    "from datetime import datetime\n",
    "start_time = datetime.now()\n",
    "# do your work here\n",
    "end_time = datetime.now()\n",
    "print('Duration: {}'.format(end_time - start_time))"
   ]
  },
  {
   "cell_type": "markdown",
   "metadata": {},
   "source": [
    "# Here we are using sklearn's RandomForestClassifier with ensemble learning to choose most relevent features for our model."
   ]
  },
  {
   "cell_type": "code",
   "execution_count": 112,
   "metadata": {},
   "outputs": [
    {
     "name": "stdout",
     "output_type": "stream",
     "text": [
      "The percentage of total variance in the dataset explained by each component from Sklearn PCA.\n",
      " [0.23872748]\n"
     ]
    }
   ],
   "source": [
    "# trying the model and applying PCA\n",
    "from sklearn import ensemble\n",
    "\n",
    "Y = telecom['Churn']\n",
    "\n",
    "X = telecom[['Partner','Dependents', 'PhoneService' ,'tenure', 'OnlineSecurity','SeniorCitizen',\n",
    "        'OnlineBackup','gender','DeviceProtection','TotalCharges', 'TechSupport','MultipleLines','StreamingTV',\n",
    "      'StreamingMovies','PaperlessBilling','MultipleLines','MonthlyCharges']]\n",
    "\n",
    "\n",
    "X = StandardScaler().fit_transform(X)\n",
    "\n",
    "sklearn_pca = PCA(n_components=1)\n",
    "telecom[\"pca\"] = sklearn_pca.fit_transform(X)\n",
    "\n",
    "print(\n",
    "    'The percentage of total variance in the dataset explained by each',\n",
    "    'component from Sklearn PCA.\\n',\n",
    "    sklearn_pca.explained_variance_ratio_\n",
    ")\n",
    "\n"
   ]
  },
  {
   "cell_type": "code",
   "execution_count": 113,
   "metadata": {},
   "outputs": [
    {
     "name": "stdout",
     "output_type": "stream",
     "text": [
      "Weak learner 0 R^2: -1.81171467511275\n",
      "Weak learner 20 R^2: -0.16936892356028777\n",
      "Weak learner 40 R^2: -0.00507104049124818\n",
      "Weak learner 60 R^2: -0.00032968766311824993\n",
      "Weak learner 80 R^2: -3.063243280454486e-05\n",
      "Weak learner 100 R^2: -1.3127003961610484e-06\n"
     ]
    },
    {
     "data": {
      "image/png": "[encoded data removed]",
      "text/plain": [
       "<Figure size 432x288 with 1 Axes>"
      ]
     },
     "metadata": {
      "needs_background": "light"
     },
     "output_type": "display_data"
    },
    {
     "name": "stdout",
     "output_type": "stream",
     "text": [
      "Overall R^2:\n",
      "0.9948396647104789\n"
     ]
    }
   ],
   "source": [
    "Y = telecom['Churn']\n",
    "\n",
    "X = telecom[['Partner','Dependents', 'PhoneService' ,'tenure', 'OnlineSecurity','SeniorCitizen',\n",
    "        'OnlineBackup','gender','DeviceProtection','TotalCharges', 'TechSupport','MultipleLines','StreamingTV',\n",
    "      'StreamingMovies','PaperlessBilling','MultipleLines','MonthlyCharges']]\n",
    "\n",
    "\n",
    "\n",
    "# Make the categorical variable 'country' into dummies.\n",
    "#X = pd.concat([X, pd.get_dummies(df['cntry'])], axis=1)\n",
    "\n",
    "# Store values from loops.\n",
    "preds = pd.DataFrame()\n",
    "labels = []\n",
    "\n",
    "uniquex = telecom['Churn'].unique()\n",
    "\n",
    "# Iterate through decision trees, each time using the residuals\n",
    "# from the previous tree as the inputs.\n",
    "for m in range(0, 101):\n",
    "    \n",
    "    # Initialize and fit the tree. Set the max depth to 2.\n",
    "    decision_tree = tree.DecisionTreeRegressor(max_depth=10)\n",
    "    decision_tree.fit(X,Y)\n",
    "    \n",
    "    # Get and store predicted values.\n",
    "    pred = decision_tree.predict(X)\n",
    "    preds['pred{}'.format(m)] = pred\n",
    "    \n",
    "    # Residuals.\n",
    "    Y = Y - pred\n",
    "\n",
    "    # Output every 20 iterations.\n",
    "    if m % 20 == 0:\n",
    "        print('Weak learner {} R^2: {}'.format(m, decision_tree.score(X, Y)))\n",
    "        labels = labels + [m]\n",
    "        bestpred = preds.sum(axis=1)\n",
    "        plt.plot(uniquex, np.poly1d(np.polyfit(telecom['Churn'], bestpred, 1))(uniquex))\n",
    "       \n",
    "plt.legend(labels)\n",
    "plt.xlabel('Original')\n",
    "plt.ylabel('Predicted')\n",
    "plt.show()\n",
    "predicted = preds.sum(axis=1)\n",
    "\n",
    "print('Overall R^2:')\n",
    "print(np.corrcoef(telecom['Churn'], predicted)[0, 1])\n"
   ]
  },
  {
   "cell_type": "markdown",
   "metadata": {},
   "source": [
    "Overall the weak point of our model is the low score PCA we received. Majority of our tests scored about 75%. The logisticRegression model scored the highest at 80%. LogesticRegressiondisplayed the best f1 accuracy score. Our support vector model came second with 79% score and KNN's model also scored 79%."
   ]
  }
 ],
 "metadata": {
  "kernelspec": {
   "display_name": "Python 3",
   "language": "python",
   "name": "python3"
  },
  "language_info": {
   "codemirror_mode": {
    "name": "ipython",
    "version": 3
   },
   "file_extension": ".py",
   "mimetype": "text/x-python",
   "name": "python",
   "nbconvert_exporter": "python",
   "pygments_lexer": "ipython3",
   "version": "3.7.3"
  }
 },
 "nbformat": 4,
 "nbformat_minor": 2
}
