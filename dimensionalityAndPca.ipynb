{
 "cells": [
  {
   "cell_type": "code",
   "execution_count": 1,
   "metadata": {},
   "outputs": [],
   "source": [
    "import pandas as pd\n",
    "import matplotlib.pyplot as plt\n",
    "import seaborn as sns\n",
    "from sqlalchemy import create_engine\n",
    "from scipy.stats.stats import ttest_ind\n",
    "import warnings\n",
    "\n",
    "warnings.filterwarnings('ignore')\n",
    "sns.set(style=\"whitegrid\")\n",
    "\n",
    "postgres_user = 'dsbc_student'\n",
    "postgres_pw = '7*.8G9QH21'\n",
    "postgres_host = '142.93.121.174'\n",
    "postgres_port = '5432'\n",
    "postgres_db = 'useducation'\n",
    "\n",
    "engine = create_engine('postgresql://{}:{}@{}:{}/{}'.format(\n",
    "    postgres_user, postgres_pw, postgres_host, postgres_port, postgres_db))\n",
    "\n",
    "usEducation = pd.read_sql_query('select * from useducation',con=engine)\n",
    "engine.dispose()\n",
    "\n",
    "usEducation.columns = usEducation.columns.str.lower()\n"
   ]
  },
  {
   "cell_type": "code",
   "execution_count": 2,
   "metadata": {},
   "outputs": [
    {
     "name": "stdout",
     "output_type": "stream",
     "text": [
      "<class 'pandas.core.frame.DataFrame'>\n",
      "RangeIndex: 1492 entries, 0 to 1491\n",
      "Data columns (total 25 columns):\n",
      "primary_key                     1492 non-null object\n",
      "state                           1492 non-null object\n",
      "year                            1492 non-null int64\n",
      "enroll                          1229 non-null float64\n",
      "total_revenue                   1280 non-null float64\n",
      "federal_revenue                 1280 non-null float64\n",
      "state_revenue                   1280 non-null float64\n",
      "local_revenue                   1280 non-null float64\n",
      "total_expenditure               1280 non-null float64\n",
      "instruction_expenditure         1280 non-null float64\n",
      "support_services_expenditure    1280 non-null float64\n",
      "other_expenditure               1229 non-null float64\n",
      "capital_outlay_expenditure      1280 non-null float64\n",
      "grades_pk_g                     1319 non-null float64\n",
      "grades_kg_g                     1360 non-null float64\n",
      "grades_4_g                      1361 non-null float64\n",
      "grades_8_g                      1361 non-null float64\n",
      "grades_12_g                     1361 non-null float64\n",
      "grades_1_8_g                    1361 non-null float64\n",
      "grades_9_12_g                   1361 non-null float64\n",
      "grades_all_g                    1319 non-null float64\n",
      "avg_math_4_score                536 non-null float64\n",
      "avg_math_8_score                532 non-null float64\n",
      "avg_reading_4_score             533 non-null float64\n",
      "avg_reading_8_score             498 non-null float64\n",
      "dtypes: float64(22), int64(1), object(2)\n",
      "memory usage: 291.5+ KB\n"
     ]
    }
   ],
   "source": [
    "usEducation.info()"
   ]
  },
  {
   "cell_type": "code",
   "execution_count": 3,
   "metadata": {},
   "outputs": [],
   "source": [
    "fill_list = [\"enroll\", \"total_revenue\", \"federal_revenue\", \n",
    "             \"state_revenue\", \"federal_revenue\", \"total_expenditure\", \n",
    "             \"instruction_expenditure\", \"support_services_expenditure\",\n",
    "             \"other_expenditure\", \"capital_outlay_expenditure\", \"grades_pk_g\", \n",
    "             \"grades_kg_g\", \"grades_4_g\", \"grades_8_g\", \"grades_12_g\", \"grades_all_g\", \n",
    "             \"avg_math_4_score\", \"avg_math_8_score\",'avg_reading_4_score','avg_reading_4_score','avg_reading_8_score']\n",
    "for col in fill_list:\n",
    "    usEducation.loc[:, col] = usEducation.loc[:, col].fillna(usEducation.loc[:, col].mean())"
   ]
  },
  {
   "cell_type": "code",
   "execution_count": 4,
   "metadata": {},
   "outputs": [
    {
     "data": {
      "text/plain": [
       "primary_key                     0.000000\n",
       "state                           0.000000\n",
       "year                            0.000000\n",
       "enroll                          0.000000\n",
       "total_revenue                   0.000000\n",
       "federal_revenue                 0.000000\n",
       "state_revenue                   0.000000\n",
       "local_revenue                   0.142091\n",
       "total_expenditure               0.000000\n",
       "instruction_expenditure         0.000000\n",
       "support_services_expenditure    0.000000\n",
       "other_expenditure               0.000000\n",
       "capital_outlay_expenditure      0.000000\n",
       "grades_pk_g                     0.000000\n",
       "grades_kg_g                     0.000000\n",
       "grades_4_g                      0.000000\n",
       "grades_8_g                      0.000000\n",
       "grades_12_g                     0.000000\n",
       "grades_1_8_g                    0.087802\n",
       "grades_9_12_g                   0.087802\n",
       "grades_all_g                    0.000000\n",
       "avg_math_4_score                0.000000\n",
       "avg_math_8_score                0.000000\n",
       "avg_reading_4_score             0.000000\n",
       "avg_reading_8_score             0.000000\n",
       "dtype: float64"
      ]
     },
     "execution_count": 4,
     "metadata": {},
     "output_type": "execute_result"
    }
   ],
   "source": [
    "usEducation.isnull().sum()/usEducation.isnull().count()"
   ]
  },
  {
   "cell_type": "markdown",
   "metadata": {},
   "source": [
    "# 1) Create a new score variable from the weighted averages of all score variables in the datasets. Notice that the number of students in the 4th grade isn't the same as the number of students in the 8th grade. So, you should appropriately weigh the scores!."
   ]
  },
  {
   "cell_type": "code",
   "execution_count": 5,
   "metadata": {},
   "outputs": [],
   "source": [
    "usEducation[\"scoreVariable\"] = (usEducation[\"grades_4_g\"]*((usEducation[\"avg_math_4_score\"] + usEducation[\"avg_reading_4_score\"])*0.5) + usEducation[\"grades_8_g\"]\n",
    "                                 * ((usEducation[\"avg_math_8_score\"] + usEducation[\"avg_reading_8_score\"])*0.5))/(usEducation[\"grades_4_g\"] + usEducation[\"grades_8_g\"])\n"
   ]
  },
  {
   "cell_type": "markdown",
   "metadata": {},
   "source": [
    "# 2) What are the correlations between this newly created score variable and the expenditure types? Which 1 of the expenditure types is more correlated than the others?Now, apply PCA to the 4 expenditure types. How much of the total variance is explained by the 1st component?"
   ]
  },
  {
   "cell_type": "code",
   "execution_count": 6,
   "metadata": {},
   "outputs": [
    {
     "data": {
      "text/html": [
       "<div>\n",
       "<style scoped>\n",
       "    .dataframe tbody tr th:only-of-type {\n",
       "        vertical-align: middle;\n",
       "    }\n",
       "\n",
       "    .dataframe tbody tr th {\n",
       "        vertical-align: top;\n",
       "    }\n",
       "\n",
       "    .dataframe thead th {\n",
       "        text-align: right;\n",
       "    }\n",
       "</style>\n",
       "<table border=\"1\" class=\"dataframe\">\n",
       "  <thead>\n",
       "    <tr style=\"text-align: right;\">\n",
       "      <th></th>\n",
       "      <th>scoreVariable</th>\n",
       "      <th>total_expenditure</th>\n",
       "      <th>instruction_expenditure</th>\n",
       "      <th>support_services_expenditure</th>\n",
       "      <th>other_expenditure</th>\n",
       "      <th>capital_outlay_expenditure</th>\n",
       "    </tr>\n",
       "  </thead>\n",
       "  <tbody>\n",
       "    <tr>\n",
       "      <th>scoreVariable</th>\n",
       "      <td>1.000000</td>\n",
       "      <td>0.069725</td>\n",
       "      <td>0.075448</td>\n",
       "      <td>0.072963</td>\n",
       "      <td>0.010777</td>\n",
       "      <td>0.025506</td>\n",
       "    </tr>\n",
       "    <tr>\n",
       "      <th>total_expenditure</th>\n",
       "      <td>0.069725</td>\n",
       "      <td>1.000000</td>\n",
       "      <td>0.991347</td>\n",
       "      <td>0.993314</td>\n",
       "      <td>0.939463</td>\n",
       "      <td>0.932447</td>\n",
       "    </tr>\n",
       "    <tr>\n",
       "      <th>instruction_expenditure</th>\n",
       "      <td>0.075448</td>\n",
       "      <td>0.991347</td>\n",
       "      <td>1.000000</td>\n",
       "      <td>0.976889</td>\n",
       "      <td>0.902964</td>\n",
       "      <td>0.896103</td>\n",
       "    </tr>\n",
       "    <tr>\n",
       "      <th>support_services_expenditure</th>\n",
       "      <td>0.072963</td>\n",
       "      <td>0.993314</td>\n",
       "      <td>0.976889</td>\n",
       "      <td>1.000000</td>\n",
       "      <td>0.945724</td>\n",
       "      <td>0.917782</td>\n",
       "    </tr>\n",
       "    <tr>\n",
       "      <th>other_expenditure</th>\n",
       "      <td>0.010777</td>\n",
       "      <td>0.939463</td>\n",
       "      <td>0.902964</td>\n",
       "      <td>0.945724</td>\n",
       "      <td>1.000000</td>\n",
       "      <td>0.916854</td>\n",
       "    </tr>\n",
       "    <tr>\n",
       "      <th>capital_outlay_expenditure</th>\n",
       "      <td>0.025506</td>\n",
       "      <td>0.932447</td>\n",
       "      <td>0.896103</td>\n",
       "      <td>0.917782</td>\n",
       "      <td>0.916854</td>\n",
       "      <td>1.000000</td>\n",
       "    </tr>\n",
       "  </tbody>\n",
       "</table>\n",
       "</div>"
      ],
      "text/plain": [
       "                              scoreVariable  total_expenditure  \\\n",
       "scoreVariable                      1.000000           0.069725   \n",
       "total_expenditure                  0.069725           1.000000   \n",
       "instruction_expenditure            0.075448           0.991347   \n",
       "support_services_expenditure       0.072963           0.993314   \n",
       "other_expenditure                  0.010777           0.939463   \n",
       "capital_outlay_expenditure         0.025506           0.932447   \n",
       "\n",
       "                              instruction_expenditure  \\\n",
       "scoreVariable                                0.075448   \n",
       "total_expenditure                            0.991347   \n",
       "instruction_expenditure                      1.000000   \n",
       "support_services_expenditure                 0.976889   \n",
       "other_expenditure                            0.902964   \n",
       "capital_outlay_expenditure                   0.896103   \n",
       "\n",
       "                              support_services_expenditure  other_expenditure  \\\n",
       "scoreVariable                                     0.072963           0.010777   \n",
       "total_expenditure                                 0.993314           0.939463   \n",
       "instruction_expenditure                           0.976889           0.902964   \n",
       "support_services_expenditure                      1.000000           0.945724   \n",
       "other_expenditure                                 0.945724           1.000000   \n",
       "capital_outlay_expenditure                        0.917782           0.916854   \n",
       "\n",
       "                              capital_outlay_expenditure  \n",
       "scoreVariable                                   0.025506  \n",
       "total_expenditure                               0.932447  \n",
       "instruction_expenditure                         0.896103  \n",
       "support_services_expenditure                    0.917782  \n",
       "other_expenditure                               0.916854  \n",
       "capital_outlay_expenditure                      1.000000  "
      ]
     },
     "execution_count": 6,
     "metadata": {},
     "output_type": "execute_result"
    }
   ],
   "source": [
    "usEducation[[\"scoreVariable\", \"total_expenditure\", \"instruction_expenditure\",\n",
    "              \"support_services_expenditure\", \"other_expenditure\", \"capital_outlay_expenditure\"]].corr()"
   ]
  },
  {
   "cell_type": "markdown",
   "metadata": {},
   "source": [
    "The instruction_expenditure is correlated to the scoreVariable created."
   ]
  },
  {
   "cell_type": "markdown",
   "metadata": {},
   "source": [
    "# 3) Now, apply PCA to the four expenditure types. How much of the total variance is explained by the first component?¶"
   ]
  },
  {
   "cell_type": "code",
   "execution_count": 7,
   "metadata": {},
   "outputs": [
    {
     "name": "stdout",
     "output_type": "stream",
     "text": [
      "The percentage of total variance in the dataset explained by each component from Sklearn PCA.\n",
      " [0.94464539]\n"
     ]
    }
   ],
   "source": [
    "from sklearn.decomposition import PCA\n",
    "from sklearn.preprocessing import StandardScaler\n",
    "\n",
    "X = usEducation[[\"instruction_expenditure\", \"support_services_expenditure\",\n",
    "                  \"other_expenditure\", \"capital_outlay_expenditure\"]]\n",
    "\n",
    "X = StandardScaler().fit_transform(X)\n",
    "\n",
    "sklearn_pca = PCA(n_components=1)\n",
    "usEducation[\"pca\"] = sklearn_pca.fit_transform(X)\n",
    "\n",
    "print(\n",
    "    'The percentage of total variance in the dataset explained by each',\n",
    "    'component from Sklearn PCA.\\n',\n",
    "    sklearn_pca.explained_variance_ratio_\n",
    ")\n"
   ]
  },
  {
   "cell_type": "markdown",
   "metadata": {},
   "source": [
    "From the PCA, 94% is the total variance explained in the dataset."
   ]
  },
  {
   "cell_type": "markdown",
   "metadata": {},
   "source": [
    "# 4) What is the correlation between the overall score variable and the first principal component?¶"
   ]
  },
  {
   "cell_type": "code",
   "execution_count": 8,
   "metadata": {},
   "outputs": [
    {
     "data": {
      "text/html": [
       "<div>\n",
       "<style scoped>\n",
       "    .dataframe tbody tr th:only-of-type {\n",
       "        vertical-align: middle;\n",
       "    }\n",
       "\n",
       "    .dataframe tbody tr th {\n",
       "        vertical-align: top;\n",
       "    }\n",
       "\n",
       "    .dataframe thead th {\n",
       "        text-align: right;\n",
       "    }\n",
       "</style>\n",
       "<table border=\"1\" class=\"dataframe\">\n",
       "  <thead>\n",
       "    <tr style=\"text-align: right;\">\n",
       "      <th></th>\n",
       "      <th>scoreVariable</th>\n",
       "      <th>pca</th>\n",
       "      <th>total_expenditure</th>\n",
       "      <th>instruction_expenditure</th>\n",
       "      <th>support_services_expenditure</th>\n",
       "      <th>other_expenditure</th>\n",
       "      <th>capital_outlay_expenditure</th>\n",
       "    </tr>\n",
       "  </thead>\n",
       "  <tbody>\n",
       "    <tr>\n",
       "      <th>scoreVariable</th>\n",
       "      <td>1.000000</td>\n",
       "      <td>0.047716</td>\n",
       "      <td>0.069725</td>\n",
       "      <td>0.075448</td>\n",
       "      <td>0.072963</td>\n",
       "      <td>0.010777</td>\n",
       "      <td>0.025506</td>\n",
       "    </tr>\n",
       "    <tr>\n",
       "      <th>pca</th>\n",
       "      <td>0.047716</td>\n",
       "      <td>1.000000</td>\n",
       "      <td>0.992182</td>\n",
       "      <td>0.971529</td>\n",
       "      <td>0.988095</td>\n",
       "      <td>0.968572</td>\n",
       "      <td>0.959297</td>\n",
       "    </tr>\n",
       "    <tr>\n",
       "      <th>total_expenditure</th>\n",
       "      <td>0.069725</td>\n",
       "      <td>0.992182</td>\n",
       "      <td>1.000000</td>\n",
       "      <td>0.991347</td>\n",
       "      <td>0.993314</td>\n",
       "      <td>0.939463</td>\n",
       "      <td>0.932447</td>\n",
       "    </tr>\n",
       "    <tr>\n",
       "      <th>instruction_expenditure</th>\n",
       "      <td>0.075448</td>\n",
       "      <td>0.971529</td>\n",
       "      <td>0.991347</td>\n",
       "      <td>1.000000</td>\n",
       "      <td>0.976889</td>\n",
       "      <td>0.902964</td>\n",
       "      <td>0.896103</td>\n",
       "    </tr>\n",
       "    <tr>\n",
       "      <th>support_services_expenditure</th>\n",
       "      <td>0.072963</td>\n",
       "      <td>0.988095</td>\n",
       "      <td>0.993314</td>\n",
       "      <td>0.976889</td>\n",
       "      <td>1.000000</td>\n",
       "      <td>0.945724</td>\n",
       "      <td>0.917782</td>\n",
       "    </tr>\n",
       "    <tr>\n",
       "      <th>other_expenditure</th>\n",
       "      <td>0.010777</td>\n",
       "      <td>0.968572</td>\n",
       "      <td>0.939463</td>\n",
       "      <td>0.902964</td>\n",
       "      <td>0.945724</td>\n",
       "      <td>1.000000</td>\n",
       "      <td>0.916854</td>\n",
       "    </tr>\n",
       "    <tr>\n",
       "      <th>capital_outlay_expenditure</th>\n",
       "      <td>0.025506</td>\n",
       "      <td>0.959297</td>\n",
       "      <td>0.932447</td>\n",
       "      <td>0.896103</td>\n",
       "      <td>0.917782</td>\n",
       "      <td>0.916854</td>\n",
       "      <td>1.000000</td>\n",
       "    </tr>\n",
       "  </tbody>\n",
       "</table>\n",
       "</div>"
      ],
      "text/plain": [
       "                              scoreVariable       pca  total_expenditure  \\\n",
       "scoreVariable                      1.000000  0.047716           0.069725   \n",
       "pca                                0.047716  1.000000           0.992182   \n",
       "total_expenditure                  0.069725  0.992182           1.000000   \n",
       "instruction_expenditure            0.075448  0.971529           0.991347   \n",
       "support_services_expenditure       0.072963  0.988095           0.993314   \n",
       "other_expenditure                  0.010777  0.968572           0.939463   \n",
       "capital_outlay_expenditure         0.025506  0.959297           0.932447   \n",
       "\n",
       "                              instruction_expenditure  \\\n",
       "scoreVariable                                0.075448   \n",
       "pca                                          0.971529   \n",
       "total_expenditure                            0.991347   \n",
       "instruction_expenditure                      1.000000   \n",
       "support_services_expenditure                 0.976889   \n",
       "other_expenditure                            0.902964   \n",
       "capital_outlay_expenditure                   0.896103   \n",
       "\n",
       "                              support_services_expenditure  other_expenditure  \\\n",
       "scoreVariable                                     0.072963           0.010777   \n",
       "pca                                               0.988095           0.968572   \n",
       "total_expenditure                                 0.993314           0.939463   \n",
       "instruction_expenditure                           0.976889           0.902964   \n",
       "support_services_expenditure                      1.000000           0.945724   \n",
       "other_expenditure                                 0.945724           1.000000   \n",
       "capital_outlay_expenditure                        0.917782           0.916854   \n",
       "\n",
       "                              capital_outlay_expenditure  \n",
       "scoreVariable                                   0.025506  \n",
       "pca                                             0.959297  \n",
       "total_expenditure                               0.932447  \n",
       "instruction_expenditure                         0.896103  \n",
       "support_services_expenditure                    0.917782  \n",
       "other_expenditure                               0.916854  \n",
       "capital_outlay_expenditure                      1.000000  "
      ]
     },
     "execution_count": 8,
     "metadata": {},
     "output_type": "execute_result"
    }
   ],
   "source": [
    "usEducation[[\"scoreVariable\",\"pca\", \"total_expenditure\", \"instruction_expenditure\",\n",
    "              \"support_services_expenditure\", \"other_expenditure\", \"capital_outlay_expenditure\"]].corr()"
   ]
  },
  {
   "cell_type": "markdown",
   "metadata": {},
   "source": [
    "The first pricipal component has higher values than the overall score. "
   ]
  },
  {
   "cell_type": "markdown",
   "metadata": {},
   "source": [
    "# 5) If you were to choose the best variables for your model, would you prefer using the first principal component instead of the expenditure variables? Why?¶"
   ]
  },
  {
   "cell_type": "markdown",
   "metadata": {},
   "source": [
    "I would choose expenditure variable because all of its numbers are closer to one. My second choice would be Support service expenditure, its more correlated. "
   ]
  },
  {
   "cell_type": "code",
   "execution_count": null,
   "metadata": {},
   "outputs": [],
   "source": []
  }
 ],
 "metadata": {
  "kernelspec": {
   "display_name": "Python 3",
   "language": "python",
   "name": "python3"
  },
  "language_info": {
   "codemirror_mode": {
    "name": "ipython",
    "version": 3
   },
   "file_extension": ".py",
   "mimetype": "text/x-python",
   "name": "python",
   "nbconvert_exporter": "python",
   "pygments_lexer": "ipython3",
   "version": "3.7.3"
  }
 },
 "nbformat": 4,
 "nbformat_minor": 2
}
