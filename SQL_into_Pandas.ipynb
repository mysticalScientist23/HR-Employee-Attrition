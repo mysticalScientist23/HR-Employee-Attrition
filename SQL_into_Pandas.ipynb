{
 "cells": [
  {
   "cell_type": "code",
   "execution_count": 1,
   "metadata": {},
   "outputs": [],
   "source": [
    "# Import the SQL ALchemy engine\n",
    "from sqlalchemy import create_engine"
   ]
  },
  {
   "cell_type": "code",
   "execution_count": 2,
   "metadata": {},
   "outputs": [],
   "source": [
    "# Database credentials\n",
    "postgres_user = 'dsbc_student'\n",
    "postgres_pw = '7*.8G9QH21'\n",
    "postgres_host = '142.93.121.174'\n",
    "postgres_port = '5432'\n",
    "postgres_db = 'dvdrentals'\n",
    "\n",
    "# use the credentials to start a connection\n",
    "engine = create_engine('postgresql://{}:{}@{}:{}/{}'.format(\n",
    "    postgres_user, postgres_pw, postgres_host, postgres_port, postgres_db))"
   ]
  },
  {
   "cell_type": "code",
   "execution_count": 3,
   "metadata": {},
   "outputs": [
    {
     "name": "stdout",
     "output_type": "stream",
     "text": [
      "(1, 'ACADEMY DINOSAUR', 'A Epic Drama of a Feminist And a Mad Scientist who must Battle a Teacher in The Canadian Rockies', 2006, 1, None, 6, Decimal('0.99'), 86, Decimal('20.99'), 'PG', datetime.datetime(2007, 9, 10, 17, 46, 3, 905795), ['Deleted Scenes', 'Behind the Scenes'], \"'academi':1 'battl':15 'canadian':20 'dinosaur':2 'drama':5 'epic':4 'feminist':8 'mad':11 'must':14 'rocki':21 'scientist':12 'teacher':17\")\n",
      "(2, 'ACE GOLDFINGER', 'A Astounding Epistle of a Database Administrator And a Explorer who must Find a Car in Ancient China', 2006, 1, None, 3, Decimal('4.99'), 48, Decimal('12.99'), 'G', datetime.datetime(2007, 9, 10, 17, 46, 3, 905795), ['Trailers', 'Deleted Scenes'], \"'ace':1 'administr':9 'ancient':19 'astound':4 'car':17 'china':20 'databas':8 'epistl':5 'explor':12 'find':15 'goldfing':2 'must':14\")\n",
      "(3, 'ADAPTATION HOLES', 'A Astounding Reflection of a Lumberjack And a Car who must Sink a Lumberjack in A Baloon Factory', 2006, 1, None, 7, Decimal('2.99'), 50, Decimal('18.99'), 'NC-17', datetime.datetime(2007, 9, 10, 17, 46, 3, 905795), ['Trailers', 'Deleted Scenes'], \"'adapt':1 'astound':4 'baloon':19 'car':11 'factori':20 'hole':2 'lumberjack':8,16 'must':13 'reflect':5 'sink':14\")\n",
      "(4, 'AFFAIR PREJUDICE', 'A Fanciful Documentary of a Frisbee And a Lumberjack who must Chase a Monkey in A Shark Tank', 2006, 1, None, 5, Decimal('2.99'), 117, Decimal('26.99'), 'G', datetime.datetime(2007, 9, 10, 17, 46, 3, 905795), ['Commentaries', 'Behind the Scenes'], \"'affair':1 'chase':14 'documentari':5 'fanci':4 'frisbe':8 'lumberjack':11 'monkey':16 'must':13 'prejudic':2 'shark':19 'tank':20\")\n",
      "(5, 'AFRICAN EGG', 'A Fast-Paced Documentary of a Pastry Chef And a Dentist who must Pursue a Forensic Psychologist in The Gulf of Mexico', 2006, 1, None, 6, Decimal('2.99'), 130, Decimal('22.99'), 'G', datetime.datetime(2007, 9, 10, 17, 46, 3, 905795), ['Deleted Scenes'], \"'african':1 'chef':11 'dentist':14 'documentari':7 'egg':2 'fast':5 'fast-pac':4 'forens':19 'gulf':23 'mexico':25 'must':16 'pace':6 'pastri':10 'psychologist':20 'pursu':17\")\n",
      "(6, 'AGENT TRUMAN', 'A Intrepid Panorama of a Robot And a Boy who must Escape a Sumo Wrestler in Ancient China', 2006, 1, None, 3, Decimal('2.99'), 169, Decimal('17.99'), 'PG', datetime.datetime(2007, 9, 10, 17, 46, 3, 905795), ['Deleted Scenes'], \"'agent':1 'ancient':19 'boy':11 'china':20 'escap':14 'intrepid':4 'must':13 'panorama':5 'robot':8 'sumo':16 'truman':2 'wrestler':17\")\n",
      "(7, 'AIRPLANE SIERRA', 'A Touching Saga of a Hunter And a Butler who must Discover a Butler in A Jet Boat', 2006, 1, None, 6, Decimal('4.99'), 62, Decimal('28.99'), 'PG-13', datetime.datetime(2007, 9, 10, 17, 46, 3, 905795), ['Trailers', 'Deleted Scenes'], \"'airplan':1 'boat':20 'butler':11,16 'discov':14 'hunter':8 'jet':19 'must':13 'saga':5 'sierra':2 'touch':4\")\n",
      "(8, 'AIRPORT POLLOCK', 'A Epic Tale of a Moose And a Girl who must Confront a Monkey in Ancient India', 2006, 1, None, 6, Decimal('4.99'), 54, Decimal('15.99'), 'R', datetime.datetime(2007, 9, 10, 17, 46, 3, 905795), ['Trailers'], \"'airport':1 'ancient':18 'confront':14 'epic':4 'girl':11 'india':19 'monkey':16 'moos':8 'must':13 'pollock':2 'tale':5\")\n",
      "(9, 'ALABAMA DEVIL', 'A Thoughtful Panorama of a Database Administrator And a Mad Scientist who must Outgun a Mad Scientist in A Jet Boat', 2006, 1, None, 3, Decimal('2.99'), 114, Decimal('21.99'), 'PG-13', datetime.datetime(2007, 9, 10, 17, 46, 3, 905795), ['Trailers', 'Deleted Scenes'], \"'administr':9 'alabama':1 'boat':23 'databas':8 'devil':2 'jet':22 'mad':12,18 'must':15 'outgun':16 'panorama':5 'scientist':13,19 'thought':4\")\n"
     ]
    }
   ],
   "source": [
    "# Use the connection to execute some SQL\n",
    "dvdrentals = engine.execute('SELECT * FROM film LIMIT 9')\n",
    "\n",
    "# no need for an open connection, as we're only doing a single query\n",
    "#engine.dispose()\n",
    "\n",
    "# Process the results\n",
    "for row in dvdrentals:\n",
    "  print(row)\n"
   ]
  },
  {
   "cell_type": "code",
   "execution_count": 4,
   "metadata": {},
   "outputs": [
    {
     "name": "stdout",
     "output_type": "stream",
     "text": [
      "(1, 'ACADEMY DINOSAUR', 'A Epic Drama of a Feminist And a Mad Scientist who must Battle a Teacher in The Canadian Rockies', 2006, 1, None, 6, Decimal('0.99'), 86, Decimal('20.99'), 'PG', datetime.datetime(2007, 9, 10, 17, 46, 3, 905795), ['Deleted Scenes', 'Behind the Scenes'], \"'academi':1 'battl':15 'canadian':20 'dinosaur':2 'drama':5 'epic':4 'feminist':8 'mad':11 'must':14 'rocki':21 'scientist':12 'teacher':17\")\n",
      "(2, 'ACE GOLDFINGER', 'A Astounding Epistle of a Database Administrator And a Explorer who must Find a Car in Ancient China', 2006, 1, None, 3, Decimal('4.99'), 48, Decimal('12.99'), 'G', datetime.datetime(2007, 9, 10, 17, 46, 3, 905795), ['Trailers', 'Deleted Scenes'], \"'ace':1 'administr':9 'ancient':19 'astound':4 'car':17 'china':20 'databas':8 'epistl':5 'explor':12 'find':15 'goldfing':2 'must':14\")\n",
      "(3, 'ADAPTATION HOLES', 'A Astounding Reflection of a Lumberjack And a Car who must Sink a Lumberjack in A Baloon Factory', 2006, 1, None, 7, Decimal('2.99'), 50, Decimal('18.99'), 'NC-17', datetime.datetime(2007, 9, 10, 17, 46, 3, 905795), ['Trailers', 'Deleted Scenes'], \"'adapt':1 'astound':4 'baloon':19 'car':11 'factori':20 'hole':2 'lumberjack':8,16 'must':13 'reflect':5 'sink':14\")\n",
      "(4, 'AFFAIR PREJUDICE', 'A Fanciful Documentary of a Frisbee And a Lumberjack who must Chase a Monkey in A Shark Tank', 2006, 1, None, 5, Decimal('2.99'), 117, Decimal('26.99'), 'G', datetime.datetime(2007, 9, 10, 17, 46, 3, 905795), ['Commentaries', 'Behind the Scenes'], \"'affair':1 'chase':14 'documentari':5 'fanci':4 'frisbe':8 'lumberjack':11 'monkey':16 'must':13 'prejudic':2 'shark':19 'tank':20\")\n",
      "(5, 'AFRICAN EGG', 'A Fast-Paced Documentary of a Pastry Chef And a Dentist who must Pursue a Forensic Psychologist in The Gulf of Mexico', 2006, 1, None, 6, Decimal('2.99'), 130, Decimal('22.99'), 'G', datetime.datetime(2007, 9, 10, 17, 46, 3, 905795), ['Deleted Scenes'], \"'african':1 'chef':11 'dentist':14 'documentari':7 'egg':2 'fast':5 'fast-pac':4 'forens':19 'gulf':23 'mexico':25 'must':16 'pace':6 'pastri':10 'psychologist':20 'pursu':17\")\n",
      "(6, 'AGENT TRUMAN', 'A Intrepid Panorama of a Robot And a Boy who must Escape a Sumo Wrestler in Ancient China', 2006, 1, None, 3, Decimal('2.99'), 169, Decimal('17.99'), 'PG', datetime.datetime(2007, 9, 10, 17, 46, 3, 905795), ['Deleted Scenes'], \"'agent':1 'ancient':19 'boy':11 'china':20 'escap':14 'intrepid':4 'must':13 'panorama':5 'robot':8 'sumo':16 'truman':2 'wrestler':17\")\n",
      "(7, 'AIRPLANE SIERRA', 'A Touching Saga of a Hunter And a Butler who must Discover a Butler in A Jet Boat', 2006, 1, None, 6, Decimal('4.99'), 62, Decimal('28.99'), 'PG-13', datetime.datetime(2007, 9, 10, 17, 46, 3, 905795), ['Trailers', 'Deleted Scenes'], \"'airplan':1 'boat':20 'butler':11,16 'discov':14 'hunter':8 'jet':19 'must':13 'saga':5 'sierra':2 'touch':4\")\n",
      "(8, 'AIRPORT POLLOCK', 'A Epic Tale of a Moose And a Girl who must Confront a Monkey in Ancient India', 2006, 1, None, 6, Decimal('4.99'), 54, Decimal('15.99'), 'R', datetime.datetime(2007, 9, 10, 17, 46, 3, 905795), ['Trailers'], \"'airport':1 'ancient':18 'confront':14 'epic':4 'girl':11 'india':19 'monkey':16 'moos':8 'must':13 'pollock':2 'tale':5\")\n",
      "(9, 'ALABAMA DEVIL', 'A Thoughtful Panorama of a Database Administrator And a Mad Scientist who must Outgun a Mad Scientist in A Jet Boat', 2006, 1, None, 3, Decimal('2.99'), 114, Decimal('21.99'), 'PG-13', datetime.datetime(2007, 9, 10, 17, 46, 3, 905795), ['Trailers', 'Deleted Scenes'], \"'administr':9 'alabama':1 'boat':23 'databas':8 'devil':2 'jet':22 'mad':12,18 'must':15 'outgun':16 'panorama':5 'scientist':13,19 'thought':4\")\n"
     ]
    }
   ],
   "source": [
    "# Execute the SQL statement again\n",
    "dvdrentals = engine.execute('SELECT * FROM film LIMIT 9')\n",
    "\n",
    "# dispose the connection\n",
    "#engine.dispose()\n",
    "\n",
    "# use fetchall() to get a list of rows from the results.\n",
    "rows = dvdrentals.fetchall()\n",
    "\n",
    "# now process the list of rows\n",
    "for row in rows:\n",
    "    print(row)\n"
   ]
  },
  {
   "cell_type": "code",
   "execution_count": 11,
   "metadata": {},
   "outputs": [
    {
     "data": {
      "text/plain": [
       "sqlalchemy.engine.result.RowProxy"
      ]
     },
     "execution_count": 11,
     "metadata": {},
     "output_type": "execute_result"
    }
   ],
   "source": [
    "# get the first row from the list\n",
    "first_row = rows[0]\n",
    "\n",
    "# get the data type of this row\n",
    "type(first_row)"
   ]
  },
  {
   "cell_type": "code",
   "execution_count": 12,
   "metadata": {},
   "outputs": [
    {
     "name": "stdout",
     "output_type": "stream",
     "text": [
      "The first row has a title is A Epic Drama of a Feminist And a Mad Scientist who must Battle a Teacher in The Canadian Rockies and length of 86\n"
     ]
    }
   ],
   "source": [
    "# Access it by position\n",
    "film_id = first_row[2]\n",
    "\n",
    "# Access if by column name\n",
    "length = first_row['length']\n",
    "\n",
    "print('The first row has a title is {} and length of {}'.format(film_id, length))"
   ]
  },
  {
   "cell_type": "code",
   "execution_count": 24,
   "metadata": {},
   "outputs": [
    {
     "name": "stdout",
     "output_type": "stream",
     "text": [
      "[86, 48, 50, 117, 130, 169, 62, 54, 114]\n"
     ]
    }
   ],
   "source": [
    "length = [x['length'] for x in rows]\n",
    "print(length)"
   ]
  },
  {
   "cell_type": "markdown",
   "metadata": {},
   "source": [
    "# How many movies are released for each rating?"
   ]
  },
  {
   "cell_type": "code",
   "execution_count": 25,
   "metadata": {},
   "outputs": [
    {
     "data": {
      "text/plain": [
       "['film_id',\n",
       " 'title',\n",
       " 'description',\n",
       " 'release_year',\n",
       " 'language_id',\n",
       " 'original_language_id',\n",
       " 'rental_duration',\n",
       " 'rental_rate',\n",
       " 'length',\n",
       " 'replacement_cost',\n",
       " 'rating',\n",
       " 'last_update',\n",
       " 'special_features',\n",
       " 'fulltext']"
      ]
     },
     "execution_count": 25,
     "metadata": {},
     "output_type": "execute_result"
    }
   ],
   "source": [
    "# get a list of the keys (column names) \n",
    "dvdrentals.keys()"
   ]
  },
  {
   "cell_type": "code",
   "execution_count": 26,
   "metadata": {},
   "outputs": [],
   "source": [
    "SQL = ' SELECT rating, COUNT(*) FROM film WHERE title is not null GROUP BY 1 '\n",
    "table_ratings = engine.execute(SQL)"
   ]
  },
  {
   "cell_type": "code",
   "execution_count": 27,
   "metadata": {},
   "outputs": [
    {
     "name": "stdout",
     "output_type": "stream",
     "text": [
      "('R', 195)\n",
      "('NC-17', 210)\n",
      "('PG', 194)\n",
      "('PG-13', 223)\n",
      "('G', 178)\n"
     ]
    }
   ],
   "source": [
    "for row in table_ratings:\n",
    "    print(row)\n",
    "    # sql space doesn't matter\n",
    "    # python space does matter\n",
    "    # sql = 'this string' then engine executes it and calls it object_ratings\n",
    "    # print(string)"
   ]
  },
  {
   "cell_type": "markdown",
   "metadata": {},
   "source": [
    "# What is the average rental duration for each rating?"
   ]
  },
  {
   "cell_type": "code",
   "execution_count": 28,
   "metadata": {},
   "outputs": [
    {
     "name": "stdout",
     "output_type": "stream",
     "text": [
      "The average of the duration for each rating is 4.7743589743589744\n"
     ]
    }
   ],
   "source": [
    "SQL = '''\n",
    "SELECT \n",
    "  AVG(rental_duration)\n",
    "FROM \n",
    "  film\n",
    "GROUP BY \n",
    "rating'''\n",
    "\n",
    "avg_duration = engine.execute(SQL)\n",
    "engine.dispose()\n",
    "\n",
    "rows_avg = avg_duration.fetchall()[0][0] \n",
    "\n",
    "print('The average of the duration for each rating is {}'.format(rows_avg))\n"
   ]
  },
  {
   "cell_type": "markdown",
   "metadata": {},
   "source": [
    "# What is the mean movie length? Calculate this by defining a function?"
   ]
  },
  {
   "cell_type": "code",
   "execution_count": 30,
   "metadata": {
    "scrolled": true
   },
   "outputs": [
    {
     "name": "stdout",
     "output_type": "stream",
     "text": [
      "The mean of movie length is 174.0000000000000000\n"
     ]
    }
   ],
   "source": [
    "# convert sqlalchmey into pandas dataframe\n",
    "SQL = '''\n",
    "SELECT \n",
    "  AVG(length)\n",
    "FROM \n",
    "  film\n",
    "GROUP BY \n",
    "title'''\n",
    "\n",
    "avg_mean_length = engine.execute(SQL)\n",
    "engine.dispose()\n",
    "\n",
    "mean_avg = avg_mean_length.fetchall()[0][0] \n",
    "\n",
    "print('The mean of movie length is {}'.format(mean_avg))"
   ]
  },
  {
   "cell_type": "code",
   "execution_count": 31,
   "metadata": {},
   "outputs": [
    {
     "name": "stdout",
     "output_type": "stream",
     "text": [
      "The mean of the movie length is 174.0000000000000000\n"
     ]
    }
   ],
   "source": [
    "import math\n",
    "def mean_movie_length(numbers):\n",
    "    mean_length = 0\n",
    "    for num in numbers:\n",
    "        mean_length += n \n",
    "        count = len(numbers)\n",
    "        avg = mean_length / count  \n",
    "        return avg  \n",
    "print('The mean of the movie length is {}' .format(mean_avg))"
   ]
  },
  {
   "cell_type": "code",
   "execution_count": null,
   "metadata": {},
   "outputs": [],
   "source": [
    "# A simple implementation simply iterating the array\n",
    "def mean(numbers):\n",
    "  total_sum = 0;  # initialize the sum to zero\n",
    "  for n in numbers:\n",
    "    total_sum += n # add up the numbers in the array\n",
    "  count = len(numbers)   # find the length of the array\n",
    "  avg = total_sum / count  # calculate the mean\n",
    "  return avg  # return the result\n",
    "\n",
    "print('The mean of the charges is {}'.format(mean(charges)))"
   ]
  },
  {
   "cell_type": "markdown",
   "metadata": {},
   "source": [
    "# What is the median movie length? Calculate this by defining a function?"
   ]
  },
  {
   "cell_type": "code",
   "execution_count": 39,
   "metadata": {},
   "outputs": [
    {
     "data": {
      "text/plain": [
       "sqlalchemy.engine.result.ResultProxy"
      ]
     },
     "execution_count": 39,
     "metadata": {},
     "output_type": "execute_result"
    }
   ],
   "source": [
    "type(dvdrentals)\n"
   ]
  },
  {
   "cell_type": "code",
   "execution_count": 44,
   "metadata": {},
   "outputs": [
    {
     "name": "stdout",
     "output_type": "stream",
     "text": [
      "The median movie length is 86 minutes\n"
     ]
    }
   ],
   "source": [
    "import math\n",
    "\n",
    "def median_movie_length(numbers):\n",
    "    numbers.sort() # sort the list of numbers\n",
    "    count = len(numbers) # get the length of the array\n",
    "    isEven = count % 2 == 0 # check if this list is of even length\n",
    "    if(isEven):\n",
    "        mid = math.floor(count/2)\n",
    "        a = numbers[mid - 1]\n",
    "        b = numbers[mid]\n",
    "        ans = (a + b) / 2\n",
    "    else:\n",
    "        ans = numbers[math.floor(count/2)]\n",
    "        return ans\n",
    "print('The median movie length is {} minutes'.format(median_movie_length(length)))\n"
   ]
  },
  {
   "cell_type": "markdown",
   "metadata": {},
   "source": [
    "# Calculate the standard deviation of the movie lengths. Calculate this by defining a function?"
   ]
  },
  {
   "cell_type": "code",
   "execution_count": 45,
   "metadata": {},
   "outputs": [
    {
     "name": "stdout",
     "output_type": "stream",
     "text": [
      "The standard deviation of movie is 43.171170936169894\n"
     ]
    }
   ],
   "source": [
    "def standard_deviation(numbers):\n",
    "  X_bar = median_movie_length(numbers)\n",
    "  N = len(numbers)\n",
    "  total_sum = 0\n",
    "  for X in numbers:\n",
    "    diff = X - X_bar\n",
    "    squared = math.pow(diff, 2)\n",
    "    total_sum += squared\n",
    "  sigma = math.sqrt(total_sum / (N - 1))  \n",
    "  return sigma\n",
    "\n",
    "print('The standard deviation of movie is {}'.format(standard_deviation(length)))"
   ]
  }
 ],
 "metadata": {
  "kernelspec": {
   "display_name": "Python 3",
   "language": "python",
   "name": "python3"
  },
  "language_info": {
   "codemirror_mode": {
    "name": "ipython",
    "version": 3
   },
   "file_extension": ".py",
   "mimetype": "text/x-python",
   "name": "python",
   "nbconvert_exporter": "python",
   "pygments_lexer": "ipython3",
   "version": "3.7.3"
  }
 },
 "nbformat": 4,
 "nbformat_minor": 2
}
