{
 "cells": [
  {
   "cell_type": "markdown",
   "metadata": {},
   "source": [
    "# 1) Import necessary packages¶\n",
    "For this exercise we need\n",
    "\n",
    "pandas\n",
    "\n",
    "train_test_split\n",
    "\n",
    "LogisticRegression\n",
    "\n",
    "pyplot from matplotlib"
   ]
  },
  {
   "cell_type": "code",
   "execution_count": 1,
   "metadata": {},
   "outputs": [],
   "source": [
    "import pandas as pd\n",
    "from sklearn.model_selection import train_test_split\n",
    "# import logistic regression classifier\n",
    "from sklearn.linear_model import LogisticRegression\n",
    "import matplotlib.pyplot as plt\n",
    "# import numpy\n",
    "import numpy as np\n",
    "%matplotlib inline\n"
   ]
  },
  {
   "cell_type": "markdown",
   "metadata": {},
   "source": [
    "# 2) Load and prepare the dataset\n",
    "Load the dataset into a dataframe named df_data (this step is done for you).\n",
    "\n",
    "Drop the name column. This column is not a feature required by the model.\n",
    "\n",
    "Create a dataframe named X containing all the columns except the status.\n",
    "\n",
    "Create a dataframe named y containing the status."
   ]
  },
  {
   "cell_type": "code",
   "execution_count": 2,
   "metadata": {},
   "outputs": [],
   "source": [
    "df_data = pd.read_csv('http://archive.ics.uci.edu/ml/machine-learning-databases/parkinsons/parkinsons.data')\n",
    "df_data = df_data.drop(['name'], axis=1)\n",
    "x = df_data.drop(['status'], axis=1)\n",
    "y = df_data['status']"
   ]
  },
  {
   "cell_type": "markdown",
   "metadata": {},
   "source": [
    "\n",
    "# 3) Split the dataset into a training set and a test set"
   ]
  },
  {
   "cell_type": "code",
   "execution_count": 3,
   "metadata": {},
   "outputs": [],
   "source": [
    "x_train, x_test, y_train, y_test = train_test_split(x, y)"
   ]
  },
  {
   "cell_type": "markdown",
   "metadata": {},
   "source": [
    "\n",
    "# 4) Create the model\n",
    "\n",
    "1. Instantiate a Logistic Regression classifier with a lbfgs solver and penalty set to 'none'.\n",
    "\n",
    "2. Fit the classifier to the data.\n",
    "\n",
    "If the algorithm fails to converge, what change can you make to fix that?"
   ]
  },
  {
   "cell_type": "code",
   "execution_count": 4,
   "metadata": {},
   "outputs": [
    {
     "data": {
      "text/plain": [
       "LogisticRegression(C=1.0, class_weight=None, dual=False, fit_intercept=True,\n",
       "                   intercept_scaling=1, l1_ratio=None, max_iter=10000,\n",
       "                   multi_class='warn', n_jobs=None, penalty='none',\n",
       "                   random_state=None, solver='lbfgs', tol=0.0001, verbose=0,\n",
       "                   warm_start=False)"
      ]
     },
     "execution_count": 4,
     "metadata": {},
     "output_type": "execute_result"
    }
   ],
   "source": [
    "lr = LogisticRegression(solver='lbfgs', penalty='none', max_iter=10000)\n",
    "lr.fit(x_train, y_train)"
   ]
  },
  {
   "cell_type": "markdown",
   "metadata": {},
   "source": [
    "# 5) Calculate Accuracy"
   ]
  },
  {
   "cell_type": "code",
   "execution_count": 5,
   "metadata": {},
   "outputs": [
    {
     "name": "stdout",
     "output_type": "stream",
     "text": [
      "Accuracy of Logistic Regression: 0.755\n"
     ]
    }
   ],
   "source": [
    "lr_score = lr.score(x_test, y_test)\n",
    "\n",
    "print('Accuracy of Logistic Regression: {:.3f}'.format(lr_score))"
   ]
  },
  {
   "cell_type": "markdown",
   "metadata": {},
   "source": [
    "# 6) L2 Regularization"
   ]
  },
  {
   "cell_type": "code",
   "execution_count": 6,
   "metadata": {},
   "outputs": [
    {
     "name": "stdout",
     "output_type": "stream",
     "text": [
      "Accuracy of Logistic Regression with L2 : 0.816\n"
     ]
    }
   ],
   "source": [
    "lr = LogisticRegression(solver='lbfgs', penalty='l2', max_iter=10000)\n",
    "lr.fit(x_train, y_train)\n",
    "lr_score = lr.score(x_test, y_test)\n",
    "\n",
    "print('Accuracy of Logistic Regression with L2 : {:.3f}'.format(lr_score))"
   ]
  },
  {
   "cell_type": "markdown",
   "metadata": {},
   "source": [
    "# 7) Choose the C parameter¶\n",
    "Use a loop to test the effect of varying the C parameter from 0.05 to 1.5 in increments of 0.5. Plot a graph to show the accuracy on the test data versus the accuracy on the training data. Select an appropriate value for C and explain why that may be the best value."
   ]
  },
  {
   "cell_type": "code",
   "execution_count": 7,
   "metadata": {},
   "outputs": [
    {
     "data": {
      "image/png": "[encoded data removed]",
      "text/plain": [
       "<Figure size 576x288 with 1 Axes>"
      ]
     },
     "metadata": {
      "needs_background": "light"
     },
     "output_type": "display_data"
    }
   ],
   "source": [
    "c_vals = np.arange(0.05, 1.5, 0.05)\n",
    "test_accuracy = []\n",
    "train_accuracy = []\n",
    "\n",
    "for c in c_vals:\n",
    "  lr = LogisticRegression(solver='lbfgs', penalty='l2', C=c, max_iter=10000)\n",
    "  lr.fit(x_train, y_train)\n",
    "  test_accuracy.append(lr.score(x_test, y_test))\n",
    "  train_accuracy.append(lr.score(x_train, y_train))\n",
    "\n",
    "fig = plt.figure(figsize=(8, 4))\n",
    "ax1 = fig.add_subplot(1, 1, 1)\n",
    "ax1.plot(c_vals, test_accuracy, '-g', label='Test Accuracy')\n",
    "ax1.plot(c_vals, train_accuracy, '-b', label='Train Accuracy')\n",
    "ax1.set(xlabel='C', ylabel='Accuracy')\n",
    "ax1.set_title('Effect of C on Accuracy')\n",
    "ax1.legend()\n",
    "plt.show()"
   ]
  },
  {
   "cell_type": "markdown",
   "metadata": {},
   "source": [
    "From the graph above the best value for C occur between 1.3 and 1.5. This region minimizes the difference between the test and training accuracy implying the least amount of overfitting is occuring."
   ]
  }
 ],
 "metadata": {
  "kernelspec": {
   "display_name": "Python 3",
   "language": "python",
   "name": "python3"
  },
  "language_info": {
   "codemirror_mode": {
    "name": "ipython",
    "version": 3
   },
   "file_extension": ".py",
   "mimetype": "text/x-python",
   "name": "python",
   "nbconvert_exporter": "python",
   "pygments_lexer": "ipython3",
   "version": "3.7.3"
  }
 },
 "nbformat": 4,
 "nbformat_minor": 2
}
